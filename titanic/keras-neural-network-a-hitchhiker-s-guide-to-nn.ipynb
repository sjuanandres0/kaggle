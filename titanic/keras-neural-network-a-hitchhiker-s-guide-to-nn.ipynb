{
 "cells": [
  {
   "cell_type": "raw",
   "metadata": {},
   "source": []
  },
  {
   "cell_type": "markdown",
   "metadata": {},
   "source": [
    "# Artificial Neural Networks: A story about feature engineering, quality analysis and hyperparameter optimization"
   ]
  },
  {
   "cell_type": "markdown",
   "metadata": {},
   "source": [
    "<center>![](https://media.giphy.com/media/uoAn5ik8zAuqI/giphy.gif)\n"
   ]
  },
  {
   "cell_type": "markdown",
   "metadata": {},
   "source": [
    "\n",
    "<center><font size=4 color=\"red\"> ... and please upvote this kernel if you like it. It motivates me to produce more quality content. Thanks!</font></center>\n"
   ]
  },
  {
   "cell_type": "markdown",
   "metadata": {},
   "source": [
    "<a id=\"TOC\"></a>\n",
    "## Table of contents\n",
    "\n",
    "* **1. [Introduction](#Introduction)** <br>\n",
    "* **2. [Import libraries and data](#Import)** <br>\n",
    "* **3. [A first glance at the data](#FirstGlance)** <br>\n",
    "* **4. [Feature analysis](#FAna)** <br>\n",
    "    * 4.1 [Pclass (passenger class)](#FAna1) <br>\n",
    "    * 4.2 [Sex](#FAna2) <br>\n",
    "    * 4.3 [Age](#FAna3) <br>\n",
    "    * 4.4 [SibSp (siblings/pouse)](#FAna4) <br>\n",
    "    * 4.5 [Parch (parents/children)](#FAna5) <br>\n",
    "    * 4.6 [Fare](#FAna6) <br>\n",
    "    * 4.7 [Embarked](#FAna7) <br>\n",
    "    * 4.8 [Ticket and Cabin](#FAna8) <br>\n",
    "* **5. [Feature engineering](#FEng)** <br>\n",
    "    * 5.1 [Add new feature Title](#FEng1) <br>\n",
    "    * 5.2 [Add new feature AgeCat (age categories) ](#FEng2) <br>\n",
    "    * 5.3 [Add new feature FamilySize](#FEng3) <br>\n",
    "    * 5.4 [Add new feature FamilySurvival](#FEng4) <br>\n",
    "    * 5.5 [Add new features FareCorr and FareCat](#FEng5) <br>\n",
    "    * 5.6 [Add missing values for Emarked](#FEng6) <br>\n",
    "* **6. [Data preparation for modelling](#Prep)** <br>\n",
    "    * 6.1 [Drop useless features](#Prep1) <br>\n",
    "    * 6.2 [Prepare pipeline for numerical and categorical attributes](#Prep2) <br>\n",
    "    * 6.3 [Alternative data preparation](#Prep3) <br>\n",
    "    * 6.4 [Split prepared data into training and test datasets ](#Prep4) <br>\n",
    "* **7. [Modelling: Artificial Neural Network](#Model)** <br>\n",
    "    * 7.1 [The Model](#Model1) <br>\n",
    "    * 7.2 [A first look at neural networks on the titanic ](#Model2) <br>\n",
    "    * 7.3 [Find optimum hyperparameters using GridSearch and cross-validation ](#Model3) <br>\n",
    "* **8. [Conclusions](#Conclusions)** <br>\n",
    "\n",
    "**Appendix A: [Random Forest](#RF)** <br>\n",
    "**Appendix B: [Gradient Boosting](#GB)**"
   ]
  },
  {
   "cell_type": "markdown",
   "metadata": {},
   "source": [
    "## 1. Introduction <a id=\"Introduction\"></a>\n",
    "\n",
    "Don't panic!! This notebook will give an introduction for machine learning (ML) beginners on how to implement and optimize a simple artificial neural network (ANN) for data classification tasks.\n",
    "\n",
    "To this end, we will apply a state-of-the-art ML framework for building and training deep learning models - the Keras API for TensorFlow 2 - to one of the most famous data sets for ML beginners: the Kaggle competition \"Titanic: Machine Learning from Disaster\". The goal of this challenge is to create a ML model that predicts which passengers survived the Titanic tragedy.\n",
    "\n",
    "In the notebook, we will put a focus on how to systematically optimize and evaluate an ANN model - two very important aspects if you want to obtain a well performing artificial neural network. We will learn, step by step, how to optimize the hyperparameters of an ANN using GridSearch and cross-validation. Moreover, we are going to discuss in detail how to evaluate the quality of an ANN, analyzing e.g. the confusion matrix and the feature importance.\n",
    "\n",
    "In general, we will see that a simple ANN performs very well as a classifier on the titanic dataset (top 2% on the competition leaderboard and with 83.3% test score one of the best ANNs published for this competition) and outperforms strong ensemble methods like Random Forests and Gradient Boosting (80.8% test score, see Appendix).\n",
    "\n",
    "Besides the detailed introduction to modeling with ANNs, the notebook includes standard techniques for feature analysis and engineering and shows how to prepare the data for the modeling process using pipelines.\n",
    "\n",
    "I hope you enjoy the notebook and, of course, I am always happy to get some comments and feedback.\n",
    "\n",
    "So let's get started..."
   ]
  },
  {
   "cell_type": "markdown",
   "metadata": {},
   "source": [
    "#### Competition Description\n",
    "\n",
    "The sinking of the RMS Titanic is one of the most infamous shipwrecks in history. On April 15, 1912, during her maiden voyage, the Titanic sank after colliding with an iceberg, killing 1502 out of 2224 passengers and crew. This sensational tragedy shocked the international community and led to better safety regulations for ships.\n",
    "\n",
    "One of the reasons that the shipwreck led to such loss of life was that there were not enough lifeboats for the passengers and crew. Although there was some element of luck involved in surviving the sinking, some groups of people were more likely to survive than others, such as women, children, and the upper-class.\n",
    "\n",
    "In this challenge, we ask you to complete the analysis of what sorts of people were likely to survive. In particular, we ask you to apply the tools of machine learning to predict which passengers survived the tragedy.\n"
   ]
  },
  {
   "cell_type": "markdown",
   "metadata": {},
   "source": [
    "[back to Table of Contents](#TOC)\n",
    "## 2. Import libraries and data <a id=\"Import\"></a> <br>"
   ]
  },
  {
   "cell_type": "code",
   "execution_count": 1,
   "metadata": {},
   "outputs": [
    {
     "name": "stderr",
     "output_type": "stream",
     "text": [
      "/opt/conda/lib/python3.6/site-packages/sklearn/utils/deprecation.py:144: FutureWarning: The sklearn.metrics.scorer module is  deprecated in version 0.22 and will be removed in version 0.24. The corresponding classes / functions should instead be imported from sklearn.metrics. Anything that cannot be imported from sklearn.metrics is now part of the private API.\n",
      "  warnings.warn(message, FutureWarning)\n",
      "/opt/conda/lib/python3.6/site-packages/sklearn/utils/deprecation.py:144: FutureWarning: The sklearn.feature_selection.base module is  deprecated in version 0.22 and will be removed in version 0.24. The corresponding classes / functions should instead be imported from sklearn.feature_selection. Anything that cannot be imported from sklearn.feature_selection is now part of the private API.\n",
      "  warnings.warn(message, FutureWarning)\n",
      "/opt/conda/lib/python3.6/site-packages/sklearn/externals/six.py:31: FutureWarning: The module is deprecated in version 0.21 and will be removed in version 0.23 since we've dropped support for Python 2.7. Please rely on the official version of six (https://pypi.org/project/six/).\n",
      "  \"(https://pypi.org/project/six/).\", FutureWarning)\n",
      "/opt/conda/lib/python3.6/site-packages/sklearn/externals/joblib/__init__.py:15: FutureWarning: sklearn.externals.joblib is deprecated in 0.21 and will be removed in 0.23. Please import this functionality directly from joblib, which can be installed with: pip install joblib. If this warning is raised when loading pickled models, you may need to re-serialize those models with scikit-learn 0.21+.\n",
      "  warnings.warn(msg, category=FutureWarning)\n",
      "Using TensorFlow backend.\n"
     ]
    }
   ],
   "source": [
    "#Import libraries\n",
    "\n",
    "# data anlysis\n",
    "import numpy as np\n",
    "import pandas as pd\n",
    "\n",
    "# data visualization\n",
    "%matplotlib inline\n",
    "import matplotlib as mpl\n",
    "import matplotlib.pyplot as plt\n",
    "import seaborn as sns\n",
    "\n",
    "# data preparation for modelling\n",
    "from sklearn.pipeline import Pipeline\n",
    "from sklearn.preprocessing import StandardScaler\n",
    "from sklearn.preprocessing import FunctionTransformer\n",
    "from sklearn.preprocessing import OneHotEncoder\n",
    "from sklearn.impute import SimpleImputer\n",
    "from sklearn.compose import ColumnTransformer\n",
    "\n",
    "# model optimization\n",
    "from sklearn.model_selection import cross_val_predict, cross_val_score, cross_validate\n",
    "from sklearn.model_selection import StratifiedKFold, StratifiedShuffleSplit\n",
    "from sklearn.model_selection import RandomizedSearchCV, GridSearchCV, learning_curve\n",
    "from sklearn.feature_selection import SelectFromModel\n",
    "from scipy.stats import randint\n",
    "import itertools\n",
    "from sklearn.metrics import confusion_matrix, roc_curve\n",
    "from sklearn.metrics import precision_score, recall_score, f1_score\n",
    "\n",
    "# Artificial Neural Network\n",
    "import tensorflow as tf\n",
    "from tensorflow import keras\n",
    "from tensorflow.keras.wrappers.scikit_learn import KerasClassifier\n",
    "from tensorflow.keras.models import Sequential\n",
    "from tensorflow.keras.utils import plot_model\n",
    "from tensorflow.keras.layers import Input, Dense, Dropout, AlphaDropout\n",
    "from tensorflow.keras.optimizers import SGD, RMSprop, Adamax, Adagrad, Adam, Nadam, SGD\n",
    "import eli5\n",
    "from eli5.sklearn import PermutationImportance\n",
    "\n",
    "# Random Forest and Gradient Boosting (Appendix)\n",
    "from sklearn.ensemble import RandomForestClassifier\n",
    "from sklearn.ensemble import GradientBoostingClassifier\n",
    "\n",
    "# ensure comparability of different runs\n",
    "np.random.seed(42)"
   ]
  },
  {
   "cell_type": "code",
   "execution_count": 2,
   "metadata": {},
   "outputs": [
    {
     "name": "stderr",
     "output_type": "stream",
     "text": [
      "/opt/conda/lib/python3.6/site-packages/ipykernel_launcher.py:8: FutureWarning: Sorting because non-concatenation axis is not aligned. A future version\n",
      "of pandas will change to not sort by default.\n",
      "\n",
      "To accept the future behavior, pass 'sort=False'.\n",
      "\n",
      "To retain the current behavior and silence the warning, pass 'sort=True'.\n",
      "\n",
      "  \n"
     ]
    }
   ],
   "source": [
    "#Import data\n",
    "\n",
    "# load train and test data\n",
    "train = pd.read_csv('../input/titanic/train.csv')\n",
    "test = pd.read_csv('../input/titanic/test.csv')\n",
    "\n",
    "# merge train and test data for common data processingg\n",
    "data = pd.concat([train, test], axis=0, ignore_index=True)\n"
   ]
  },
  {
   "cell_type": "markdown",
   "metadata": {},
   "source": [
    "[back to Table of Contents](#TOC)\n",
    "## 3. A first glance at the data <a id=\"FirstGlance\"></a>"
   ]
  },
  {
   "cell_type": "code",
   "execution_count": 3,
   "metadata": {},
   "outputs": [
    {
     "data": {
      "text/html": [
       "<div>\n",
       "<style scoped>\n",
       "    .dataframe tbody tr th:only-of-type {\n",
       "        vertical-align: middle;\n",
       "    }\n",
       "\n",
       "    .dataframe tbody tr th {\n",
       "        vertical-align: top;\n",
       "    }\n",
       "\n",
       "    .dataframe thead th {\n",
       "        text-align: right;\n",
       "    }\n",
       "</style>\n",
       "<table border=\"1\" class=\"dataframe\">\n",
       "  <thead>\n",
       "    <tr style=\"text-align: right;\">\n",
       "      <th></th>\n",
       "      <th>Age</th>\n",
       "      <th>Cabin</th>\n",
       "      <th>Embarked</th>\n",
       "      <th>Fare</th>\n",
       "      <th>Name</th>\n",
       "      <th>Parch</th>\n",
       "      <th>PassengerId</th>\n",
       "      <th>Pclass</th>\n",
       "      <th>Sex</th>\n",
       "      <th>SibSp</th>\n",
       "      <th>Survived</th>\n",
       "      <th>Ticket</th>\n",
       "    </tr>\n",
       "  </thead>\n",
       "  <tbody>\n",
       "    <tr>\n",
       "      <th>0</th>\n",
       "      <td>22.0</td>\n",
       "      <td>NaN</td>\n",
       "      <td>S</td>\n",
       "      <td>7.2500</td>\n",
       "      <td>Braund, Mr. Owen Harris</td>\n",
       "      <td>0</td>\n",
       "      <td>1</td>\n",
       "      <td>3</td>\n",
       "      <td>male</td>\n",
       "      <td>1</td>\n",
       "      <td>0.0</td>\n",
       "      <td>A/5 21171</td>\n",
       "    </tr>\n",
       "    <tr>\n",
       "      <th>1</th>\n",
       "      <td>38.0</td>\n",
       "      <td>C85</td>\n",
       "      <td>C</td>\n",
       "      <td>71.2833</td>\n",
       "      <td>Cumings, Mrs. John Bradley (Florence Briggs Th...</td>\n",
       "      <td>0</td>\n",
       "      <td>2</td>\n",
       "      <td>1</td>\n",
       "      <td>female</td>\n",
       "      <td>1</td>\n",
       "      <td>1.0</td>\n",
       "      <td>PC 17599</td>\n",
       "    </tr>\n",
       "    <tr>\n",
       "      <th>2</th>\n",
       "      <td>26.0</td>\n",
       "      <td>NaN</td>\n",
       "      <td>S</td>\n",
       "      <td>7.9250</td>\n",
       "      <td>Heikkinen, Miss. Laina</td>\n",
       "      <td>0</td>\n",
       "      <td>3</td>\n",
       "      <td>3</td>\n",
       "      <td>female</td>\n",
       "      <td>0</td>\n",
       "      <td>1.0</td>\n",
       "      <td>STON/O2. 3101282</td>\n",
       "    </tr>\n",
       "    <tr>\n",
       "      <th>3</th>\n",
       "      <td>35.0</td>\n",
       "      <td>C123</td>\n",
       "      <td>S</td>\n",
       "      <td>53.1000</td>\n",
       "      <td>Futrelle, Mrs. Jacques Heath (Lily May Peel)</td>\n",
       "      <td>0</td>\n",
       "      <td>4</td>\n",
       "      <td>1</td>\n",
       "      <td>female</td>\n",
       "      <td>1</td>\n",
       "      <td>1.0</td>\n",
       "      <td>113803</td>\n",
       "    </tr>\n",
       "    <tr>\n",
       "      <th>4</th>\n",
       "      <td>35.0</td>\n",
       "      <td>NaN</td>\n",
       "      <td>S</td>\n",
       "      <td>8.0500</td>\n",
       "      <td>Allen, Mr. William Henry</td>\n",
       "      <td>0</td>\n",
       "      <td>5</td>\n",
       "      <td>3</td>\n",
       "      <td>male</td>\n",
       "      <td>0</td>\n",
       "      <td>0.0</td>\n",
       "      <td>373450</td>\n",
       "    </tr>\n",
       "    <tr>\n",
       "      <th>5</th>\n",
       "      <td>NaN</td>\n",
       "      <td>NaN</td>\n",
       "      <td>Q</td>\n",
       "      <td>8.4583</td>\n",
       "      <td>Moran, Mr. James</td>\n",
       "      <td>0</td>\n",
       "      <td>6</td>\n",
       "      <td>3</td>\n",
       "      <td>male</td>\n",
       "      <td>0</td>\n",
       "      <td>0.0</td>\n",
       "      <td>330877</td>\n",
       "    </tr>\n",
       "    <tr>\n",
       "      <th>6</th>\n",
       "      <td>54.0</td>\n",
       "      <td>E46</td>\n",
       "      <td>S</td>\n",
       "      <td>51.8625</td>\n",
       "      <td>McCarthy, Mr. Timothy J</td>\n",
       "      <td>0</td>\n",
       "      <td>7</td>\n",
       "      <td>1</td>\n",
       "      <td>male</td>\n",
       "      <td>0</td>\n",
       "      <td>0.0</td>\n",
       "      <td>17463</td>\n",
       "    </tr>\n",
       "    <tr>\n",
       "      <th>7</th>\n",
       "      <td>2.0</td>\n",
       "      <td>NaN</td>\n",
       "      <td>S</td>\n",
       "      <td>21.0750</td>\n",
       "      <td>Palsson, Master. Gosta Leonard</td>\n",
       "      <td>1</td>\n",
       "      <td>8</td>\n",
       "      <td>3</td>\n",
       "      <td>male</td>\n",
       "      <td>3</td>\n",
       "      <td>0.0</td>\n",
       "      <td>349909</td>\n",
       "    </tr>\n",
       "    <tr>\n",
       "      <th>8</th>\n",
       "      <td>27.0</td>\n",
       "      <td>NaN</td>\n",
       "      <td>S</td>\n",
       "      <td>11.1333</td>\n",
       "      <td>Johnson, Mrs. Oscar W (Elisabeth Vilhelmina Berg)</td>\n",
       "      <td>2</td>\n",
       "      <td>9</td>\n",
       "      <td>3</td>\n",
       "      <td>female</td>\n",
       "      <td>0</td>\n",
       "      <td>1.0</td>\n",
       "      <td>347742</td>\n",
       "    </tr>\n",
       "    <tr>\n",
       "      <th>9</th>\n",
       "      <td>14.0</td>\n",
       "      <td>NaN</td>\n",
       "      <td>C</td>\n",
       "      <td>30.0708</td>\n",
       "      <td>Nasser, Mrs. Nicholas (Adele Achem)</td>\n",
       "      <td>0</td>\n",
       "      <td>10</td>\n",
       "      <td>2</td>\n",
       "      <td>female</td>\n",
       "      <td>1</td>\n",
       "      <td>1.0</td>\n",
       "      <td>237736</td>\n",
       "    </tr>\n",
       "    <tr>\n",
       "      <th>10</th>\n",
       "      <td>4.0</td>\n",
       "      <td>G6</td>\n",
       "      <td>S</td>\n",
       "      <td>16.7000</td>\n",
       "      <td>Sandstrom, Miss. Marguerite Rut</td>\n",
       "      <td>1</td>\n",
       "      <td>11</td>\n",
       "      <td>3</td>\n",
       "      <td>female</td>\n",
       "      <td>1</td>\n",
       "      <td>1.0</td>\n",
       "      <td>PP 9549</td>\n",
       "    </tr>\n",
       "    <tr>\n",
       "      <th>11</th>\n",
       "      <td>58.0</td>\n",
       "      <td>C103</td>\n",
       "      <td>S</td>\n",
       "      <td>26.5500</td>\n",
       "      <td>Bonnell, Miss. Elizabeth</td>\n",
       "      <td>0</td>\n",
       "      <td>12</td>\n",
       "      <td>1</td>\n",
       "      <td>female</td>\n",
       "      <td>0</td>\n",
       "      <td>1.0</td>\n",
       "      <td>113783</td>\n",
       "    </tr>\n",
       "    <tr>\n",
       "      <th>12</th>\n",
       "      <td>20.0</td>\n",
       "      <td>NaN</td>\n",
       "      <td>S</td>\n",
       "      <td>8.0500</td>\n",
       "      <td>Saundercock, Mr. William Henry</td>\n",
       "      <td>0</td>\n",
       "      <td>13</td>\n",
       "      <td>3</td>\n",
       "      <td>male</td>\n",
       "      <td>0</td>\n",
       "      <td>0.0</td>\n",
       "      <td>A/5. 2151</td>\n",
       "    </tr>\n",
       "    <tr>\n",
       "      <th>13</th>\n",
       "      <td>39.0</td>\n",
       "      <td>NaN</td>\n",
       "      <td>S</td>\n",
       "      <td>31.2750</td>\n",
       "      <td>Andersson, Mr. Anders Johan</td>\n",
       "      <td>5</td>\n",
       "      <td>14</td>\n",
       "      <td>3</td>\n",
       "      <td>male</td>\n",
       "      <td>1</td>\n",
       "      <td>0.0</td>\n",
       "      <td>347082</td>\n",
       "    </tr>\n",
       "    <tr>\n",
       "      <th>14</th>\n",
       "      <td>14.0</td>\n",
       "      <td>NaN</td>\n",
       "      <td>S</td>\n",
       "      <td>7.8542</td>\n",
       "      <td>Vestrom, Miss. Hulda Amanda Adolfina</td>\n",
       "      <td>0</td>\n",
       "      <td>15</td>\n",
       "      <td>3</td>\n",
       "      <td>female</td>\n",
       "      <td>0</td>\n",
       "      <td>0.0</td>\n",
       "      <td>350406</td>\n",
       "    </tr>\n",
       "    <tr>\n",
       "      <th>15</th>\n",
       "      <td>55.0</td>\n",
       "      <td>NaN</td>\n",
       "      <td>S</td>\n",
       "      <td>16.0000</td>\n",
       "      <td>Hewlett, Mrs. (Mary D Kingcome)</td>\n",
       "      <td>0</td>\n",
       "      <td>16</td>\n",
       "      <td>2</td>\n",
       "      <td>female</td>\n",
       "      <td>0</td>\n",
       "      <td>1.0</td>\n",
       "      <td>248706</td>\n",
       "    </tr>\n",
       "    <tr>\n",
       "      <th>16</th>\n",
       "      <td>2.0</td>\n",
       "      <td>NaN</td>\n",
       "      <td>Q</td>\n",
       "      <td>29.1250</td>\n",
       "      <td>Rice, Master. Eugene</td>\n",
       "      <td>1</td>\n",
       "      <td>17</td>\n",
       "      <td>3</td>\n",
       "      <td>male</td>\n",
       "      <td>4</td>\n",
       "      <td>0.0</td>\n",
       "      <td>382652</td>\n",
       "    </tr>\n",
       "    <tr>\n",
       "      <th>17</th>\n",
       "      <td>NaN</td>\n",
       "      <td>NaN</td>\n",
       "      <td>S</td>\n",
       "      <td>13.0000</td>\n",
       "      <td>Williams, Mr. Charles Eugene</td>\n",
       "      <td>0</td>\n",
       "      <td>18</td>\n",
       "      <td>2</td>\n",
       "      <td>male</td>\n",
       "      <td>0</td>\n",
       "      <td>1.0</td>\n",
       "      <td>244373</td>\n",
       "    </tr>\n",
       "    <tr>\n",
       "      <th>18</th>\n",
       "      <td>31.0</td>\n",
       "      <td>NaN</td>\n",
       "      <td>S</td>\n",
       "      <td>18.0000</td>\n",
       "      <td>Vander Planke, Mrs. Julius (Emelia Maria Vande...</td>\n",
       "      <td>0</td>\n",
       "      <td>19</td>\n",
       "      <td>3</td>\n",
       "      <td>female</td>\n",
       "      <td>1</td>\n",
       "      <td>0.0</td>\n",
       "      <td>345763</td>\n",
       "    </tr>\n",
       "    <tr>\n",
       "      <th>19</th>\n",
       "      <td>NaN</td>\n",
       "      <td>NaN</td>\n",
       "      <td>C</td>\n",
       "      <td>7.2250</td>\n",
       "      <td>Masselmani, Mrs. Fatima</td>\n",
       "      <td>0</td>\n",
       "      <td>20</td>\n",
       "      <td>3</td>\n",
       "      <td>female</td>\n",
       "      <td>0</td>\n",
       "      <td>1.0</td>\n",
       "      <td>2649</td>\n",
       "    </tr>\n",
       "  </tbody>\n",
       "</table>\n",
       "</div>"
      ],
      "text/plain": [
       "     Age Cabin Embarked     Fare  \\\n",
       "0   22.0   NaN        S   7.2500   \n",
       "1   38.0   C85        C  71.2833   \n",
       "2   26.0   NaN        S   7.9250   \n",
       "3   35.0  C123        S  53.1000   \n",
       "4   35.0   NaN        S   8.0500   \n",
       "5    NaN   NaN        Q   8.4583   \n",
       "6   54.0   E46        S  51.8625   \n",
       "7    2.0   NaN        S  21.0750   \n",
       "8   27.0   NaN        S  11.1333   \n",
       "9   14.0   NaN        C  30.0708   \n",
       "10   4.0    G6        S  16.7000   \n",
       "11  58.0  C103        S  26.5500   \n",
       "12  20.0   NaN        S   8.0500   \n",
       "13  39.0   NaN        S  31.2750   \n",
       "14  14.0   NaN        S   7.8542   \n",
       "15  55.0   NaN        S  16.0000   \n",
       "16   2.0   NaN        Q  29.1250   \n",
       "17   NaN   NaN        S  13.0000   \n",
       "18  31.0   NaN        S  18.0000   \n",
       "19   NaN   NaN        C   7.2250   \n",
       "\n",
       "                                                 Name  Parch  PassengerId  \\\n",
       "0                             Braund, Mr. Owen Harris      0            1   \n",
       "1   Cumings, Mrs. John Bradley (Florence Briggs Th...      0            2   \n",
       "2                              Heikkinen, Miss. Laina      0            3   \n",
       "3        Futrelle, Mrs. Jacques Heath (Lily May Peel)      0            4   \n",
       "4                            Allen, Mr. William Henry      0            5   \n",
       "5                                    Moran, Mr. James      0            6   \n",
       "6                             McCarthy, Mr. Timothy J      0            7   \n",
       "7                      Palsson, Master. Gosta Leonard      1            8   \n",
       "8   Johnson, Mrs. Oscar W (Elisabeth Vilhelmina Berg)      2            9   \n",
       "9                 Nasser, Mrs. Nicholas (Adele Achem)      0           10   \n",
       "10                    Sandstrom, Miss. Marguerite Rut      1           11   \n",
       "11                           Bonnell, Miss. Elizabeth      0           12   \n",
       "12                     Saundercock, Mr. William Henry      0           13   \n",
       "13                        Andersson, Mr. Anders Johan      5           14   \n",
       "14               Vestrom, Miss. Hulda Amanda Adolfina      0           15   \n",
       "15                   Hewlett, Mrs. (Mary D Kingcome)       0           16   \n",
       "16                               Rice, Master. Eugene      1           17   \n",
       "17                       Williams, Mr. Charles Eugene      0           18   \n",
       "18  Vander Planke, Mrs. Julius (Emelia Maria Vande...      0           19   \n",
       "19                            Masselmani, Mrs. Fatima      0           20   \n",
       "\n",
       "    Pclass     Sex  SibSp  Survived            Ticket  \n",
       "0        3    male      1       0.0         A/5 21171  \n",
       "1        1  female      1       1.0          PC 17599  \n",
       "2        3  female      0       1.0  STON/O2. 3101282  \n",
       "3        1  female      1       1.0            113803  \n",
       "4        3    male      0       0.0            373450  \n",
       "5        3    male      0       0.0            330877  \n",
       "6        1    male      0       0.0             17463  \n",
       "7        3    male      3       0.0            349909  \n",
       "8        3  female      0       1.0            347742  \n",
       "9        2  female      1       1.0            237736  \n",
       "10       3  female      1       1.0           PP 9549  \n",
       "11       1  female      0       1.0            113783  \n",
       "12       3    male      0       0.0         A/5. 2151  \n",
       "13       3    male      1       0.0            347082  \n",
       "14       3  female      0       0.0            350406  \n",
       "15       2  female      0       1.0            248706  \n",
       "16       3    male      4       0.0            382652  \n",
       "17       2    male      0       1.0            244373  \n",
       "18       3  female      1       0.0            345763  \n",
       "19       3  female      0       1.0              2649  "
      ]
     },
     "execution_count": 3,
     "metadata": {},
     "output_type": "execute_result"
    }
   ],
   "source": [
    "# show first 20 entries of dataset\n",
    "data[0:20]"
   ]
  },
  {
   "cell_type": "code",
   "execution_count": 4,
   "metadata": {
    "scrolled": true
   },
   "outputs": [
    {
     "name": "stdout",
     "output_type": "stream",
     "text": [
      "<class 'pandas.core.frame.DataFrame'>\n",
      "RangeIndex: 1309 entries, 0 to 1308\n",
      "Data columns (total 12 columns):\n",
      "Age            1046 non-null float64\n",
      "Cabin          295 non-null object\n",
      "Embarked       1307 non-null object\n",
      "Fare           1308 non-null float64\n",
      "Name           1309 non-null object\n",
      "Parch          1309 non-null int64\n",
      "PassengerId    1309 non-null int64\n",
      "Pclass         1309 non-null int64\n",
      "Sex            1309 non-null object\n",
      "SibSp          1309 non-null int64\n",
      "Survived       891 non-null float64\n",
      "Ticket         1309 non-null object\n",
      "dtypes: float64(3), int64(4), object(5)\n",
      "memory usage: 122.8+ KB\n"
     ]
    }
   ],
   "source": [
    "# get info about quality of the data\n",
    "data.info()"
   ]
  },
  {
   "cell_type": "markdown",
   "metadata": {},
   "source": [
    "We have 11 features (not counting *Survived*, which is our target) of different types (int64, float64, object), where for some features (*Age, Fare, Cabin*) data points are missing."
   ]
  },
  {
   "cell_type": "code",
   "execution_count": 5,
   "metadata": {
    "scrolled": true
   },
   "outputs": [
    {
     "data": {
      "text/plain": [
       "Age             263\n",
       "Cabin          1014\n",
       "Embarked          2\n",
       "Fare              1\n",
       "Name              0\n",
       "Parch             0\n",
       "PassengerId       0\n",
       "Pclass            0\n",
       "Sex               0\n",
       "SibSp             0\n",
       "Survived        418\n",
       "Ticket            0\n",
       "dtype: int64"
      ]
     },
     "execution_count": 5,
     "metadata": {},
     "output_type": "execute_result"
    }
   ],
   "source": [
    "# check missing values\n",
    "data.isnull().sum()"
   ]
  },
  {
   "cell_type": "markdown",
   "metadata": {},
   "source": [
    "We will take care of the missing values later on in this notebook."
   ]
  },
  {
   "cell_type": "code",
   "execution_count": 6,
   "metadata": {},
   "outputs": [
    {
     "data": {
      "text/html": [
       "<div>\n",
       "<style scoped>\n",
       "    .dataframe tbody tr th:only-of-type {\n",
       "        vertical-align: middle;\n",
       "    }\n",
       "\n",
       "    .dataframe tbody tr th {\n",
       "        vertical-align: top;\n",
       "    }\n",
       "\n",
       "    .dataframe thead th {\n",
       "        text-align: right;\n",
       "    }\n",
       "</style>\n",
       "<table border=\"1\" class=\"dataframe\">\n",
       "  <thead>\n",
       "    <tr style=\"text-align: right;\">\n",
       "      <th></th>\n",
       "      <th>Age</th>\n",
       "      <th>Fare</th>\n",
       "      <th>Parch</th>\n",
       "      <th>PassengerId</th>\n",
       "      <th>Pclass</th>\n",
       "      <th>SibSp</th>\n",
       "      <th>Survived</th>\n",
       "    </tr>\n",
       "  </thead>\n",
       "  <tbody>\n",
       "    <tr>\n",
       "      <th>count</th>\n",
       "      <td>1046.000000</td>\n",
       "      <td>1308.000000</td>\n",
       "      <td>1309.000000</td>\n",
       "      <td>1309.000000</td>\n",
       "      <td>1309.000000</td>\n",
       "      <td>1309.000000</td>\n",
       "      <td>891.000000</td>\n",
       "    </tr>\n",
       "    <tr>\n",
       "      <th>mean</th>\n",
       "      <td>29.881138</td>\n",
       "      <td>33.295479</td>\n",
       "      <td>0.385027</td>\n",
       "      <td>655.000000</td>\n",
       "      <td>2.294882</td>\n",
       "      <td>0.498854</td>\n",
       "      <td>0.383838</td>\n",
       "    </tr>\n",
       "    <tr>\n",
       "      <th>std</th>\n",
       "      <td>14.413493</td>\n",
       "      <td>51.758668</td>\n",
       "      <td>0.865560</td>\n",
       "      <td>378.020061</td>\n",
       "      <td>0.837836</td>\n",
       "      <td>1.041658</td>\n",
       "      <td>0.486592</td>\n",
       "    </tr>\n",
       "    <tr>\n",
       "      <th>min</th>\n",
       "      <td>0.170000</td>\n",
       "      <td>0.000000</td>\n",
       "      <td>0.000000</td>\n",
       "      <td>1.000000</td>\n",
       "      <td>1.000000</td>\n",
       "      <td>0.000000</td>\n",
       "      <td>0.000000</td>\n",
       "    </tr>\n",
       "    <tr>\n",
       "      <th>25%</th>\n",
       "      <td>21.000000</td>\n",
       "      <td>7.895800</td>\n",
       "      <td>0.000000</td>\n",
       "      <td>328.000000</td>\n",
       "      <td>2.000000</td>\n",
       "      <td>0.000000</td>\n",
       "      <td>0.000000</td>\n",
       "    </tr>\n",
       "    <tr>\n",
       "      <th>50%</th>\n",
       "      <td>28.000000</td>\n",
       "      <td>14.454200</td>\n",
       "      <td>0.000000</td>\n",
       "      <td>655.000000</td>\n",
       "      <td>3.000000</td>\n",
       "      <td>0.000000</td>\n",
       "      <td>0.000000</td>\n",
       "    </tr>\n",
       "    <tr>\n",
       "      <th>75%</th>\n",
       "      <td>39.000000</td>\n",
       "      <td>31.275000</td>\n",
       "      <td>0.000000</td>\n",
       "      <td>982.000000</td>\n",
       "      <td>3.000000</td>\n",
       "      <td>1.000000</td>\n",
       "      <td>1.000000</td>\n",
       "    </tr>\n",
       "    <tr>\n",
       "      <th>max</th>\n",
       "      <td>80.000000</td>\n",
       "      <td>512.329200</td>\n",
       "      <td>9.000000</td>\n",
       "      <td>1309.000000</td>\n",
       "      <td>3.000000</td>\n",
       "      <td>8.000000</td>\n",
       "      <td>1.000000</td>\n",
       "    </tr>\n",
       "  </tbody>\n",
       "</table>\n",
       "</div>"
      ],
      "text/plain": [
       "               Age         Fare        Parch  PassengerId       Pclass  \\\n",
       "count  1046.000000  1308.000000  1309.000000  1309.000000  1309.000000   \n",
       "mean     29.881138    33.295479     0.385027   655.000000     2.294882   \n",
       "std      14.413493    51.758668     0.865560   378.020061     0.837836   \n",
       "min       0.170000     0.000000     0.000000     1.000000     1.000000   \n",
       "25%      21.000000     7.895800     0.000000   328.000000     2.000000   \n",
       "50%      28.000000    14.454200     0.000000   655.000000     3.000000   \n",
       "75%      39.000000    31.275000     0.000000   982.000000     3.000000   \n",
       "max      80.000000   512.329200     9.000000  1309.000000     3.000000   \n",
       "\n",
       "             SibSp    Survived  \n",
       "count  1309.000000  891.000000  \n",
       "mean      0.498854    0.383838  \n",
       "std       1.041658    0.486592  \n",
       "min       0.000000    0.000000  \n",
       "25%       0.000000    0.000000  \n",
       "50%       0.000000    0.000000  \n",
       "75%       1.000000    1.000000  \n",
       "max       8.000000    1.000000  "
      ]
     },
     "execution_count": 6,
     "metadata": {},
     "output_type": "execute_result"
    }
   ],
   "source": [
    "# statistics of nummeric features\n",
    "data.describe()"
   ]
  },
  {
   "cell_type": "markdown",
   "metadata": {},
   "source": [
    "We should check whether the high value of the maximum Fare is an outlier or just a very expensive Ticket."
   ]
  },
  {
   "cell_type": "markdown",
   "metadata": {},
   "source": [
    "[back to Table of Contents](#TOC)\n",
    "## 4. Feature analysis \n"
   ]
  },
  {
   "cell_type": "markdown",
   "metadata": {},
   "source": [
    "It is important to find out how the different features correlate with *Survived*. To this end, we use the training data for which the information about the passenger's survival is given (column *Survived*)."
   ]
  },
  {
   "cell_type": "code",
   "execution_count": 7,
   "metadata": {
    "scrolled": true
   },
   "outputs": [
    {
     "data": {
      "text/html": [
       "<div>\n",
       "<style scoped>\n",
       "    .dataframe tbody tr th:only-of-type {\n",
       "        vertical-align: middle;\n",
       "    }\n",
       "\n",
       "    .dataframe tbody tr th {\n",
       "        vertical-align: top;\n",
       "    }\n",
       "\n",
       "    .dataframe thead th {\n",
       "        text-align: right;\n",
       "    }\n",
       "</style>\n",
       "<table border=\"1\" class=\"dataframe\">\n",
       "  <thead>\n",
       "    <tr style=\"text-align: right;\">\n",
       "      <th></th>\n",
       "      <th>Age</th>\n",
       "      <th>Fare</th>\n",
       "      <th>Parch</th>\n",
       "      <th>Pclass</th>\n",
       "      <th>SibSp</th>\n",
       "      <th>Survived</th>\n",
       "    </tr>\n",
       "  </thead>\n",
       "  <tbody>\n",
       "    <tr>\n",
       "      <th>Age</th>\n",
       "      <td>1.000000</td>\n",
       "      <td>0.178740</td>\n",
       "      <td>-0.150917</td>\n",
       "      <td>-0.408106</td>\n",
       "      <td>-0.243699</td>\n",
       "      <td>-0.077221</td>\n",
       "    </tr>\n",
       "    <tr>\n",
       "      <th>Fare</th>\n",
       "      <td>0.178740</td>\n",
       "      <td>1.000000</td>\n",
       "      <td>0.221539</td>\n",
       "      <td>-0.558629</td>\n",
       "      <td>0.160238</td>\n",
       "      <td>0.257307</td>\n",
       "    </tr>\n",
       "    <tr>\n",
       "      <th>Parch</th>\n",
       "      <td>-0.150917</td>\n",
       "      <td>0.221539</td>\n",
       "      <td>1.000000</td>\n",
       "      <td>0.018322</td>\n",
       "      <td>0.373587</td>\n",
       "      <td>0.081629</td>\n",
       "    </tr>\n",
       "    <tr>\n",
       "      <th>Pclass</th>\n",
       "      <td>-0.408106</td>\n",
       "      <td>-0.558629</td>\n",
       "      <td>0.018322</td>\n",
       "      <td>1.000000</td>\n",
       "      <td>0.060832</td>\n",
       "      <td>-0.338481</td>\n",
       "    </tr>\n",
       "    <tr>\n",
       "      <th>SibSp</th>\n",
       "      <td>-0.243699</td>\n",
       "      <td>0.160238</td>\n",
       "      <td>0.373587</td>\n",
       "      <td>0.060832</td>\n",
       "      <td>1.000000</td>\n",
       "      <td>-0.035322</td>\n",
       "    </tr>\n",
       "    <tr>\n",
       "      <th>Survived</th>\n",
       "      <td>-0.077221</td>\n",
       "      <td>0.257307</td>\n",
       "      <td>0.081629</td>\n",
       "      <td>-0.338481</td>\n",
       "      <td>-0.035322</td>\n",
       "      <td>1.000000</td>\n",
       "    </tr>\n",
       "  </tbody>\n",
       "</table>\n",
       "</div>"
      ],
      "text/plain": [
       "               Age      Fare     Parch    Pclass     SibSp  Survived\n",
       "Age       1.000000  0.178740 -0.150917 -0.408106 -0.243699 -0.077221\n",
       "Fare      0.178740  1.000000  0.221539 -0.558629  0.160238  0.257307\n",
       "Parch    -0.150917  0.221539  1.000000  0.018322  0.373587  0.081629\n",
       "Pclass   -0.408106 -0.558629  0.018322  1.000000  0.060832 -0.338481\n",
       "SibSp    -0.243699  0.160238  0.373587  0.060832  1.000000 -0.035322\n",
       "Survived -0.077221  0.257307  0.081629 -0.338481 -0.035322  1.000000"
      ]
     },
     "execution_count": 7,
     "metadata": {},
     "output_type": "execute_result"
    }
   ],
   "source": [
    "# Let's have a look at the correlation between Survived and all relevant numeric features in a correlation table ...\n",
    "data.drop(columns=['PassengerId']).corr()"
   ]
  },
  {
   "cell_type": "code",
   "execution_count": 8,
   "metadata": {
    "scrolled": true
   },
   "outputs": [
    {
     "data": {
      "image/png": "[encoded data removed]",
      "text/plain": [
       "<Figure size 432x288 with 2 Axes>"
      ]
     },
     "metadata": {
      "needs_background": "light"
     },
     "output_type": "display_data"
    }
   ],
   "source": [
    "# ... or a color matrix\n",
    "matrix = sns.heatmap(train[[\"Survived\",\"SibSp\",\"Parch\",\"Age\",\"Fare\"]].corr(), cmap = \"Blues\", annot=True)"
   ]
  },
  {
   "cell_type": "markdown",
   "metadata": {},
   "source": [
    "The only numerical feature that strongly correlates with *Survived* is *Fare*. This might be explaind by the fact that the cabins of the richer passengers were mainly located in the upper parts of the boat, which was not directly fluted after the Titanic hit the iceberg. Moreover, the richer passengers were first to go on the life boats. \n",
    "\n",
    "This does not nessecarily mean that the other features are not relevant. \n",
    "For instance, although *Age* in general only shows a rather weak correlation with *Survived*, we should have a closer look at the children, which were allowed to go on the life boats first. Same for women, so the feature *Sex* might be important as well.\n",
    "\n",
    "So let's have a closer look a the individual features in order to learn more about their importance."
   ]
  },
  {
   "cell_type": "markdown",
   "metadata": {},
   "source": [
    "### 4.1 *Pclass* (Passenger Class)  <a id=\"FAna1\"></a>"
   ]
  },
  {
   "cell_type": "code",
   "execution_count": 9,
   "metadata": {},
   "outputs": [
    {
     "data": {
      "image/png": "[encoded data removed]",
      "text/plain": [
       "<Figure size 360x360 with 1 Axes>"
      ]
     },
     "metadata": {
      "needs_background": "light"
     },
     "output_type": "display_data"
    }
   ],
   "source": [
    "# Number of passengers per passenger class\n",
    "plot = sns.catplot(x=\"Pclass\", kind=\"count\", data=train)"
   ]
  },
  {
   "cell_type": "markdown",
   "metadata": {},
   "source": [
    "In the third class there are twice as much passengers than in the first and second class, respectively."
   ]
  },
  {
   "cell_type": "code",
   "execution_count": 10,
   "metadata": {},
   "outputs": [
    {
     "data": {
      "image/png": "[encoded data removed]",
      "text/plain": [
       "<Figure size 360x360 with 1 Axes>"
      ]
     },
     "metadata": {
      "needs_background": "light"
     },
     "output_type": "display_data"
    }
   ],
   "source": [
    "# plot Pclass vs survival probability\n",
    "plot = sns.catplot(x=\"Pclass\", y=\"Survived\", kind=\"bar\", data=train).set_ylabels(\"survival probability\")"
   ]
  },
  {
   "cell_type": "markdown",
   "metadata": {},
   "source": [
    "Indeed, the pobability to survive is higher the higher the class. This is an important feature. "
   ]
  },
  {
   "cell_type": "markdown",
   "metadata": {},
   "source": [
    "### 4.2 *Sex* <a id=\"FAna2\"></a>"
   ]
  },
  {
   "cell_type": "code",
   "execution_count": 11,
   "metadata": {},
   "outputs": [
    {
     "data": {
      "image/png": "[encoded data removed]",
      "text/plain": [
       "<Figure size 252x252 with 1 Axes>"
      ]
     },
     "metadata": {
      "needs_background": "light"
     },
     "output_type": "display_data"
    }
   ],
   "source": [
    "# Number of female and male passengers per passenger class\n",
    "plot = sns.catplot(x=\"Sex\", kind=\"count\", data=train, height=3.5);"
   ]
  },
  {
   "cell_type": "markdown",
   "metadata": {},
   "source": [
    "There are twice as much men on board than women."
   ]
  },
  {
   "cell_type": "code",
   "execution_count": 12,
   "metadata": {},
   "outputs": [
    {
     "name": "stderr",
     "output_type": "stream",
     "text": [
      "/opt/conda/lib/python3.6/site-packages/seaborn/categorical.py:3695: UserWarning: The `size` parameter has been renamed to `height`; please update your code.\n",
      "  warnings.warn(msg, UserWarning)\n"
     ]
    },
    {
     "data": {
      "image/png": "[encoded data removed]",
      "text/plain": [
       "<Figure size 252x252 with 1 Axes>"
      ]
     },
     "metadata": {
      "needs_background": "light"
     },
     "output_type": "display_data"
    }
   ],
   "source": [
    "# plot Sex vs survival probability\n",
    "plot = sns.catplot(x=\"Sex\", y=\"Survived\", kind=\"bar\", data=train, size=3.5).set_ylabels(\"survival probability\")"
   ]
  },
  {
   "cell_type": "markdown",
   "metadata": {},
   "source": [
    "In general, the pobability of a woman to survive is more than three time higher than for a man. \n",
    "\n",
    "Let's have a look at this trend regarding the different passenger classes."
   ]
  },
  {
   "cell_type": "code",
   "execution_count": 13,
   "metadata": {},
   "outputs": [
    {
     "data": {
      "image/png": "[encoded data removed]",
      "text/plain": [
       "<Figure size 430.5x360 with 1 Axes>"
      ]
     },
     "metadata": {
      "needs_background": "light"
     },
     "output_type": "display_data"
    }
   ],
   "source": [
    "# Number of female and male passengers per passenger class\n",
    "plot = sns.catplot(x=\"Pclass\", hue=\"Sex\", kind=\"count\", data=train)"
   ]
  },
  {
   "cell_type": "markdown",
   "metadata": {},
   "source": [
    "It is remarkable that the percentage of men in the third class is much bigger."
   ]
  },
  {
   "cell_type": "code",
   "execution_count": 14,
   "metadata": {},
   "outputs": [
    {
     "data": {
      "image/png": "[encoded data removed]",
      "text/plain": [
       "<Figure size 402.375x360 with 1 Axes>"
      ]
     },
     "metadata": {
      "needs_background": "light"
     },
     "output_type": "display_data"
    }
   ],
   "source": [
    "plot = sns.catplot(x=\"Sex\", y=\"Survived\", hue=\"Pclass\", kind=\"bar\", data=train).set_ylabels(\"survival probability\")"
   ]
  },
  {
   "cell_type": "markdown",
   "metadata": {},
   "source": [
    "The survival probability for a man from the first class is twice as high than for a man from the second or third class. Regarding women, about 90 % of the women from the first and the second class survive, in contrast to only about 50% of the women in the third class."
   ]
  },
  {
   "cell_type": "markdown",
   "metadata": {},
   "source": [
    "### 4.3 *Age* <a id=\"FAna3\"></a>"
   ]
  },
  {
   "cell_type": "markdown",
   "metadata": {},
   "source": [
    "We already mentioned that most likley certain age groups might have a higher probability to survive. Let's have a look at the statistics:"
   ]
  },
  {
   "cell_type": "code",
   "execution_count": 15,
   "metadata": {
    "scrolled": true
   },
   "outputs": [
    {
     "data": {
      "image/png": "[encoded data removed]",
      "text/plain": [
       "<Figure size 576x288 with 2 Axes>"
      ]
     },
     "metadata": {
      "needs_background": "light"
     },
     "output_type": "display_data"
    }
   ],
   "source": [
    "# Explore Age histogram for NotSurvived/Survived (0/1)\n",
    "plot = sns.FacetGrid(train, col='Survived', height=4).map(sns.distplot, \"Age\", kde=False)\n"
   ]
  },
  {
   "cell_type": "code",
   "execution_count": 16,
   "metadata": {
    "scrolled": true
   },
   "outputs": [
    {
     "data": {
      "image/png": "[encoded data removed]",
      "text/plain": [
       "<Figure size 432x288 with 1 Axes>"
      ]
     },
     "metadata": {
      "needs_background": "light"
     },
     "output_type": "display_data"
    }
   ],
   "source": [
    "# Explore the respective Age distibutions \n",
    "Plot = sns.kdeplot(train[\"Age\"][(train[\"Survived\"] == 0) & (train[\"Age\"].notnull())], color=\"Red\", shade = True)\n",
    "plot = sns.kdeplot(train[\"Age\"][(train[\"Survived\"] == 1) & (train[\"Age\"].notnull())], color=\"Green\", shade= True)\n",
    "plot.set_xlabel(\"Age\")\n",
    "plot = plot.legend([\"Not Survived\",\"Survived\"])"
   ]
  },
  {
   "cell_type": "markdown",
   "metadata": {},
   "source": [
    "Indeed, children have a much higher probability to survive. Let's illustrate the different survival probabilities by spliting *Age* in two categories, child (younger than 15) and adult."
   ]
  },
  {
   "cell_type": "markdown",
   "metadata": {},
   "source": [
    "#### New feature *AgeCat* (age categories)"
   ]
  },
  {
   "cell_type": "markdown",
   "metadata": {},
   "source": [
    "We implement it here only for the training dataset to use it for further data analysis below. Later on in section 5 we will implement this feature for the whole dataset."
   ]
  },
  {
   "cell_type": "code",
   "execution_count": 17,
   "metadata": {},
   "outputs": [],
   "source": [
    "# We split the feature Age in two categories, child and adult\n",
    "train[\"AgeCat\"]= pd.cut(train[\"Age\"], bins=[0,15,max(train[\"Age\"]+1)], labels=['child','adult'])"
   ]
  },
  {
   "cell_type": "code",
   "execution_count": 18,
   "metadata": {},
   "outputs": [
    {
     "data": {
      "image/png": "[encoded data removed]",
      "text/plain": [
       "<Figure size 252x252 with 1 Axes>"
      ]
     },
     "metadata": {
      "needs_background": "light"
     },
     "output_type": "display_data"
    }
   ],
   "source": [
    "# plot survival probability of cildren and adults\n",
    "plot = sns.catplot(x=\"AgeCat\", y=\"Survived\", kind=\"bar\", data=train, size=3.5).set_ylabels(\"survival probability\")"
   ]
  },
  {
   "cell_type": "code",
   "execution_count": 19,
   "metadata": {},
   "outputs": [
    {
     "data": {
      "image/png": "[encoded data removed]",
      "text/plain": [
       "<Figure size 402.375x360 with 1 Axes>"
      ]
     },
     "metadata": {
      "needs_background": "light"
     },
     "output_type": "display_data"
    }
   ],
   "source": [
    "# plot survival probability of cildren and adults regarding the different classes\n",
    "plot = sns.catplot(x=\"AgeCat\", y=\"Survived\", hue=\"Pclass\", kind=\"bar\", data=train).set_ylabels(\"survival probability\")"
   ]
  },
  {
   "cell_type": "markdown",
   "metadata": {},
   "source": [
    "From this diagram we learn that the chance to survive for a child from the third class is only about half the value compared to a child from the first or second class. Moreover, a child from the third class has a lower or rather similar probability to survive than an adult of the first or second class. "
   ]
  },
  {
   "cell_type": "markdown",
   "metadata": {},
   "source": [
    "### 4.4 *SibSp* (Siblings/Spouse) <a id=\"FAna4\"></a>"
   ]
  },
  {
   "cell_type": "code",
   "execution_count": 20,
   "metadata": {},
   "outputs": [
    {
     "data": {
      "image/png": "[encoded data removed]",
      "text/plain": [
       "<Figure size 829.08x338.4 with 1 Axes>"
      ]
     },
     "metadata": {
      "needs_background": "light"
     },
     "output_type": "display_data"
    }
   ],
   "source": [
    "# Number of passengers with no or several Siblings/Spouses\n",
    "plot = sns.catplot(x=\"SibSp\",kind=\"count\", data=train, height=4.7, aspect=2.45)"
   ]
  },
  {
   "cell_type": "markdown",
   "metadata": {},
   "source": [
    "Most passengers travel as singles."
   ]
  },
  {
   "cell_type": "code",
   "execution_count": 21,
   "metadata": {},
   "outputs": [
    {
     "data": {
      "image/png": "[encoded data removed]",
      "text/plain": [
       "<Figure size 864x288 with 1 Axes>"
      ]
     },
     "metadata": {
      "needs_background": "light"
     },
     "output_type": "display_data"
    }
   ],
   "source": [
    "# Survival probability of passengers with no or several Siblings/Spouses\n",
    "plot = sns.catplot(x=\"SibSp\", y=\"Survived\", kind=\"bar\", data=train, height=4, aspect=3).set_ylabels(\"survival probability\")"
   ]
  },
  {
   "cell_type": "markdown",
   "metadata": {},
   "source": [
    "The survival chance of a passenger with 1 or 2 siblings/spouses is significantly higher than than for a single passenger or a passenger with 3 or more siblings/spouses. \n",
    "\n",
    "Since mainly adults (here older than 15 years) are married, let's analyse the data by splitting it between children and adults: "
   ]
  },
  {
   "cell_type": "code",
   "execution_count": 22,
   "metadata": {
    "scrolled": true
   },
   "outputs": [
    {
     "data": {
      "image/png": "[encoded data removed]",
      "text/plain": [
       "<Figure size 925.625x288 with 1 Axes>"
      ]
     },
     "metadata": {
      "needs_background": "light"
     },
     "output_type": "display_data"
    }
   ],
   "source": [
    "# Number of passengers with no or several Siblings/Spouses\n",
    "plot = sns.catplot(x=\"SibSp\", hue='AgeCat',kind=\"count\", data=train, height=4, aspect=3)"
   ]
  },
  {
   "cell_type": "code",
   "execution_count": 23,
   "metadata": {
    "scrolled": true
   },
   "outputs": [
    {
     "data": {
      "image/png": "[encoded data removed]",
      "text/plain": [
       "<Figure size 925.625x288 with 1 Axes>"
      ]
     },
     "metadata": {
      "needs_background": "light"
     },
     "output_type": "display_data"
    }
   ],
   "source": [
    "# Survival probability of passengers with no or several Siblings/Spouses\n",
    "plot = sns.catplot(x=\"SibSp\", y=\"Survived\", hue=\"AgeCat\", kind=\"bar\", data=train, height=4, aspect=3).set_ylabels(\"survival probability\")"
   ]
  },
  {
   "cell_type": "markdown",
   "metadata": {},
   "source": [
    "The survival chance of a child with 2 or less siblings is much higher than than for a child with 3 or more siblings. On the contrary, for an adult with 2 or less (or more than 4) siblings the survival chance is lower than for an adult with 3 or 4 siblings. Hence, the family size seems to play an important role, too. To confirm this, we first have to analize *Parch*, aswell."
   ]
  },
  {
   "cell_type": "code",
   "execution_count": 24,
   "metadata": {
    "scrolled": false
   },
   "outputs": [
    {
     "data": {
      "image/png": "[encoded data removed]",
      "text/plain": [
       "<Figure size 661.575x288 with 1 Axes>"
      ]
     },
     "metadata": {
      "needs_background": "light"
     },
     "output_type": "display_data"
    }
   ],
   "source": [
    "# Number of children with no or several siblings per class (assuming children younger than 15 are not married)\n",
    "plot = sns.catplot(x=\"SibSp\", hue='Pclass', kind=\"count\", data=train[train['AgeCat']=='child'], height=4, aspect=2.15)"
   ]
  },
  {
   "cell_type": "markdown",
   "metadata": {},
   "source": [
    "Obviously, the children in the third class have more siblings and hence the families are bigger (also see analysis of *Parch*)"
   ]
  },
  {
   "cell_type": "markdown",
   "metadata": {},
   "source": [
    "### 4.5 Parch (Parents/children) <a id=\"FAna5\"></a>"
   ]
  },
  {
   "cell_type": "code",
   "execution_count": 25,
   "metadata": {},
   "outputs": [
    {
     "data": {
      "image/png": "[encoded data removed]",
      "text/plain": [
       "<Figure size 862.92x338.4 with 1 Axes>"
      ]
     },
     "metadata": {
      "needs_background": "light"
     },
     "output_type": "display_data"
    }
   ],
   "source": [
    "# Number of passengers with no or several parents/children\n",
    "plot = sns.catplot(x=\"Parch\",kind=\"count\", data=train, height=4.7, aspect=2.55)"
   ]
  },
  {
   "cell_type": "markdown",
   "metadata": {},
   "source": [
    "Most passengers have neither children nor parents on board."
   ]
  },
  {
   "cell_type": "code",
   "execution_count": 26,
   "metadata": {},
   "outputs": [
    {
     "data": {
      "image/png": "[encoded data removed]",
      "text/plain": [
       "<Figure size 862.92x338.4 with 1 Axes>"
      ]
     },
     "metadata": {
      "needs_background": "light"
     },
     "output_type": "display_data"
    }
   ],
   "source": [
    "# Survival chance of passengers with no or several parents/children\n",
    "plot = sns.catplot(x=\"Parch\", y='Survived',kind=\"bar\", data=train, height=4.7, aspect=2.55)"
   ]
  },
  {
   "cell_type": "markdown",
   "metadata": {},
   "source": []
  },
  {
   "cell_type": "code",
   "execution_count": 27,
   "metadata": {},
   "outputs": [
    {
     "data": {
      "image/png": "[encoded data removed]",
      "text/plain": [
       "<Figure size 925.625x288 with 1 Axes>"
      ]
     },
     "metadata": {
      "needs_background": "light"
     },
     "output_type": "display_data"
    }
   ],
   "source": [
    "# Number of children/adults with no or several parents/children\n",
    "plot = sns.catplot(x=\"Parch\", hue='AgeCat',kind=\"count\", data=train, height=4, aspect=3)"
   ]
  },
  {
   "cell_type": "code",
   "execution_count": 28,
   "metadata": {},
   "outputs": [
    {
     "data": {
      "image/png": "[encoded data removed]",
      "text/plain": [
       "<Figure size 947.225x295.2 with 1 Axes>"
      ]
     },
     "metadata": {
      "needs_background": "light"
     },
     "output_type": "display_data"
    }
   ],
   "source": [
    "# Survival chance of children/adults with no or several parents/children\n",
    "plot = sns.catplot(x=\"Parch\", y='Survived', hue='AgeCat',kind=\"bar\", data=train, height=4.1, aspect=3)"
   ]
  },
  {
   "cell_type": "markdown",
   "metadata": {},
   "source": [
    "Note: We have set the age limit to still be a child to 15. So it might be that there are young adults (older than 15) which have parents on bord and children (15 or younger) that are already a parent (not as unusual as today at the beginning of the 20th century)."
   ]
  },
  {
   "cell_type": "markdown",
   "metadata": {},
   "source": [
    "**Summary (also considering *SibSp*):**\n",
    "The probability for a passenger to survive is the higher if he/she belongs to a smaller family instead of traveling alone (adult) or belonging to big family (more than 3 *SibSp* or *Parch*). We should consider this for feature engeneering. "
   ]
  },
  {
   "cell_type": "markdown",
   "metadata": {},
   "source": [
    "### 4.6 Fare <a id=\"FAna6\"></a>"
   ]
  },
  {
   "cell_type": "markdown",
   "metadata": {},
   "source": [
    "The correlation matrix we analyzed above showed that *Fare* has a strong correlation with the chance to survive. Let's explore the distribution of fares and how it correlates with survival."
   ]
  },
  {
   "cell_type": "code",
   "execution_count": 29,
   "metadata": {},
   "outputs": [
    {
     "data": {
      "image/png": "[encoded data removed]",
      "text/plain": [
       "<Figure size 432x288 with 1 Axes>"
      ]
     },
     "metadata": {
      "needs_background": "light"
     },
     "output_type": "display_data"
    }
   ],
   "source": [
    "# Explore Fare distibution (you can change the different parameters below \n",
    "#to better understand the Fare distribution)\n",
    "kde=False\n",
    "upper=100  # upper limit for data in histogram\n",
    "lower=0    # lower imit for data in histogram\n",
    "Pclass=3   # type 0 for all classes\n",
    "\n",
    "# perserve bin size for different parameters\n",
    "bins=int((upper-lower)/5) \n",
    "if Pclass == 1 or Pclass == 2 or Pclass == 3:\n",
    "    upPclass = Pclass+1\n",
    "    lowPclass = Pclass\n",
    "else: \n",
    "    upPclass = 4\n",
    "    lowPclass = 1\n",
    "    \n",
    "plot = sns.distplot(train[\"Fare\"][(train[\"Survived\"] == 0) & (train[\"Fare\"]< upper) & (train[\"Fare\"]> lower) & (train[\"Pclass\"]<upPclass) & (train[\"Pclass\"]>=lowPclass)], bins=bins, color=\"Red\", kde=kde)\n",
    "plot = sns.distplot(train[\"Fare\"][(train[\"Survived\"] == 1) & (train[\"Fare\"]< upper) & (train[\"Fare\"]> lower) & (train[\"Pclass\"]<upPclass) & (train[\"Pclass\"]>=lowPclass)], bins=bins, color=\"Green\", kde=kde)\n",
    "plot.set_xlabel(\"Fare\")\n",
    "plot = plot.legend([\"Not Survived\",\"Survived\"])"
   ]
  },
  {
   "cell_type": "markdown",
   "metadata": {},
   "source": [
    "Analyzing the ditributions for different *Pclass* reveals that, for instance, some 3rd class tickets are much more expensive than the average 1st class ticket.\n",
    "\n",
    "So let's have a look at these expensive 3rd class tickets with a price around 70:"
   ]
  },
  {
   "cell_type": "code",
   "execution_count": 30,
   "metadata": {
    "scrolled": true
   },
   "outputs": [
    {
     "data": {
      "text/html": [
       "<div>\n",
       "<style scoped>\n",
       "    .dataframe tbody tr th:only-of-type {\n",
       "        vertical-align: middle;\n",
       "    }\n",
       "\n",
       "    .dataframe tbody tr th {\n",
       "        vertical-align: top;\n",
       "    }\n",
       "\n",
       "    .dataframe thead th {\n",
       "        text-align: right;\n",
       "    }\n",
       "</style>\n",
       "<table border=\"1\" class=\"dataframe\">\n",
       "  <thead>\n",
       "    <tr style=\"text-align: right;\">\n",
       "      <th></th>\n",
       "      <th>Fare</th>\n",
       "      <th>Name</th>\n",
       "      <th>Ticket</th>\n",
       "      <th>SibSp</th>\n",
       "      <th>Parch</th>\n",
       "    </tr>\n",
       "  </thead>\n",
       "  <tbody>\n",
       "    <tr>\n",
       "      <th>159</th>\n",
       "      <td>69.55</td>\n",
       "      <td>Sage, Master. Thomas Henry</td>\n",
       "      <td>CA. 2343</td>\n",
       "      <td>8</td>\n",
       "      <td>2</td>\n",
       "    </tr>\n",
       "    <tr>\n",
       "      <th>180</th>\n",
       "      <td>69.55</td>\n",
       "      <td>Sage, Miss. Constance Gladys</td>\n",
       "      <td>CA. 2343</td>\n",
       "      <td>8</td>\n",
       "      <td>2</td>\n",
       "    </tr>\n",
       "    <tr>\n",
       "      <th>201</th>\n",
       "      <td>69.55</td>\n",
       "      <td>Sage, Mr. Frederick</td>\n",
       "      <td>CA. 2343</td>\n",
       "      <td>8</td>\n",
       "      <td>2</td>\n",
       "    </tr>\n",
       "    <tr>\n",
       "      <th>324</th>\n",
       "      <td>69.55</td>\n",
       "      <td>Sage, Mr. George John Jr</td>\n",
       "      <td>CA. 2343</td>\n",
       "      <td>8</td>\n",
       "      <td>2</td>\n",
       "    </tr>\n",
       "    <tr>\n",
       "      <th>792</th>\n",
       "      <td>69.55</td>\n",
       "      <td>Sage, Miss. Stella Anna</td>\n",
       "      <td>CA. 2343</td>\n",
       "      <td>8</td>\n",
       "      <td>2</td>\n",
       "    </tr>\n",
       "    <tr>\n",
       "      <th>846</th>\n",
       "      <td>69.55</td>\n",
       "      <td>Sage, Mr. Douglas Bullen</td>\n",
       "      <td>CA. 2343</td>\n",
       "      <td>8</td>\n",
       "      <td>2</td>\n",
       "    </tr>\n",
       "    <tr>\n",
       "      <th>863</th>\n",
       "      <td>69.55</td>\n",
       "      <td>Sage, Miss. Dorothy Edith \"Dolly\"</td>\n",
       "      <td>CA. 2343</td>\n",
       "      <td>8</td>\n",
       "      <td>2</td>\n",
       "    </tr>\n",
       "  </tbody>\n",
       "</table>\n",
       "</div>"
      ],
      "text/plain": [
       "      Fare                               Name    Ticket  SibSp  Parch\n",
       "159  69.55         Sage, Master. Thomas Henry  CA. 2343      8      2\n",
       "180  69.55       Sage, Miss. Constance Gladys  CA. 2343      8      2\n",
       "201  69.55                Sage, Mr. Frederick  CA. 2343      8      2\n",
       "324  69.55           Sage, Mr. George John Jr  CA. 2343      8      2\n",
       "792  69.55            Sage, Miss. Stella Anna  CA. 2343      8      2\n",
       "846  69.55           Sage, Mr. Douglas Bullen  CA. 2343      8      2\n",
       "863  69.55  Sage, Miss. Dorothy Edith \"Dolly\"  CA. 2343      8      2"
      ]
     },
     "execution_count": 30,
     "metadata": {},
     "output_type": "execute_result"
    }
   ],
   "source": [
    "train[['Fare','Name','Ticket','SibSp','Parch']].iloc[train.index[(train['Pclass']==3) & (train['Fare']>60)]]"
   ]
  },
  {
   "cell_type": "markdown",
   "metadata": {},
   "source": [
    "Obviously, the price belongs to a ticket which was purchased for a whole family and not for a single passenger. Since the family relation is already coverd by other features licke *Parch*, *SibSp*, and *Ticket* it might be more informative to have ticket prices per passenger. So let's correct the ticket *Fare* and introduce a new feature *FareCorr* with the fare per passenger:"
   ]
  },
  {
   "cell_type": "code",
   "execution_count": 31,
   "metadata": {},
   "outputs": [
    {
     "name": "stdout",
     "output_type": "stream",
     "text": [
      "     Ticket                                               Name  Pclass  Fare  \\\n",
      "257  110152                               Cherry, Miss. Gladys       1  86.5   \n",
      "504  110152                              Maioni, Miss. Roberta       1  86.5   \n",
      "759  110152  Rothes, the Countess. of (Lucy Noel Martha Dye...       1  86.5   \n",
      "\n",
      "     PassengerId  \n",
      "257          258  \n",
      "504          505  \n",
      "759          760  \n"
     ]
    }
   ],
   "source": [
    "# the code below finds person groups which share the same tickets and \n",
    "# devides the ticket fare by the number of people in the group\n",
    "train['FareCorr'] = train['Fare'].copy()\n",
    "\n",
    "m=0 # m=0 -> print first iteration as example how the code works\n",
    "for grp, grp_df in train[['Ticket', 'Name', 'Pclass', 'Fare', 'PassengerId']].groupby(['Ticket']):\n",
    "\n",
    "    if (len(grp_df) != 1):\n",
    "        if m==0:\n",
    "            print(grp_df)\n",
    "            m=1\n",
    "        for ind, row in grp_df.iterrows():\n",
    "            passID = row['PassengerId']\n",
    "            train.loc[train['PassengerId'] == passID, 'FareCorr'] = train['Fare'][train['PassengerId'] == passID]/len(grp_df)\n"
   ]
  },
  {
   "cell_type": "markdown",
   "metadata": {},
   "source": [
    "Now let's go back to the histograms and check how the distributions look like for *FareCorr*:"
   ]
  },
  {
   "cell_type": "code",
   "execution_count": 32,
   "metadata": {},
   "outputs": [
    {
     "data": {
      "image/png": "[encoded data removed]",
      "text/plain": [
       "<Figure size 432x288 with 1 Axes>"
      ]
     },
     "metadata": {
      "needs_background": "light"
     },
     "output_type": "display_data"
    }
   ],
   "source": [
    "# Explore Fare distibution (you can change the different parameters below \n",
    "#to better understand the Fare distribution)\n",
    "kde=False\n",
    "upper=100  # upper limit for data in histogram\n",
    "lower=0    # lower imit for data in histogram\n",
    "Pclass=0   # type 0 for all classes\n",
    "\n",
    "# perserve bin size for different parameters\n",
    "bins=int((upper-lower)/5) \n",
    "\n",
    "if Pclass == 1 or Pclass == 2 or Pclass == 3:\n",
    "    upPclass = Pclass+1\n",
    "    lowPclass = Pclass\n",
    "else: \n",
    "    upPclass = 4\n",
    "    lowPclass = 1\n",
    "    \n",
    "plot = sns.distplot(train[\"FareCorr\"][(train[\"Survived\"] == 0) & (train[\"FareCorr\"]< upper) & (train[\"FareCorr\"]> lower) & (train[\"Pclass\"]<upPclass) & (train[\"Pclass\"]>=lowPclass)], bins=bins, color=\"Red\", kde=kde)\n",
    "plot = sns.distplot(train[\"FareCorr\"][(train[\"Survived\"] == 1) & (train[\"FareCorr\"]< upper) & (train[\"FareCorr\"]> lower) & (train[\"Pclass\"]<upPclass) & (train[\"Pclass\"]>=lowPclass)], bins=bins, color=\"Green\", kde=kde)\n",
    "plot.set_xlabel(\"Fare\")\n",
    "plot = plot.legend([\"Not Survived\",\"Survived\"])"
   ]
  },
  {
   "cell_type": "markdown",
   "metadata": {},
   "source": [
    "These distributions for the real fare per passenger now strongly correlate with *Pclass* and look more \"natural\". Hence, passengers ahich purchased a more expensive ticket have a higher probability to survive. This becomes obvious if we introduce fare categories *FareCat* based on *FareCorr* and analyze the survival rate:  "
   ]
  },
  {
   "cell_type": "code",
   "execution_count": 33,
   "metadata": {},
   "outputs": [
    {
     "data": {
      "text/plain": [
       "low     618\n",
       "mid     227\n",
       "high     31\n",
       "Name: FareCat, dtype: int64"
      ]
     },
     "execution_count": 33,
     "metadata": {},
     "output_type": "execute_result"
    }
   ],
   "source": [
    "train['FareCat']=pd.cut(train['FareCorr'], bins=[0,15,65,max(train[\"FareCorr\"]+1)], labels=['low','mid','high'])\n",
    "train['FareCat'].value_counts()"
   ]
  },
  {
   "cell_type": "code",
   "execution_count": 34,
   "metadata": {
    "scrolled": true
   },
   "outputs": [
    {
     "data": {
      "image/png": "[encoded data removed]",
      "text/plain": [
       "<Figure size 360x360 with 1 Axes>"
      ]
     },
     "metadata": {
      "needs_background": "light"
     },
     "output_type": "display_data"
    }
   ],
   "source": [
    "plot = sns.catplot(x=\"FareCat\", y='Survived',kind=\"bar\", data=train, height=5, aspect=1)\n"
   ]
  },
  {
   "cell_type": "markdown",
   "metadata": {},
   "source": [
    "### 4.7 Embarked <a id=\"FAna7\"></a>"
   ]
  },
  {
   "cell_type": "markdown",
   "metadata": {},
   "source": [
    "The titanic had three different stops before it went on to cross the Atlantic - Southhampton (England), Cherbourg (France), and Queenstown (Ireland)."
   ]
  },
  {
   "cell_type": "code",
   "execution_count": 35,
   "metadata": {
    "scrolled": false
   },
   "outputs": [
    {
     "data": {
      "image/png": "[encoded data removed]",
      "text/plain": [
       "<Figure size 288x288 with 1 Axes>"
      ]
     },
     "metadata": {
      "needs_background": "light"
     },
     "output_type": "display_data"
    }
   ],
   "source": [
    "# Number of passengers that embarked a the three different habours\n",
    "plot = sns.catplot(x=\"Embarked\",kind=\"count\", data=train, height=4, aspect=1)"
   ]
  },
  {
   "cell_type": "code",
   "execution_count": 36,
   "metadata": {
    "scrolled": false
   },
   "outputs": [
    {
     "data": {
      "image/png": "[encoded data removed]",
      "text/plain": [
       "<Figure size 360x360 with 1 Axes>"
      ]
     },
     "metadata": {
      "needs_background": "light"
     },
     "output_type": "display_data"
    }
   ],
   "source": [
    "# Survival Probability of passengers emarked a the three different habours\n",
    "plot = sns.catplot(x=\"Embarked\", y='Survived', kind=\"bar\", data=train, height=5, aspect=1)"
   ]
  },
  {
   "cell_type": "code",
   "execution_count": 37,
   "metadata": {},
   "outputs": [
    {
     "data": {
      "image/png": "[encoded data removed]",
      "text/plain": [
       "<Figure size 402.375x360 with 1 Axes>"
      ]
     },
     "metadata": {
      "needs_background": "light"
     },
     "output_type": "display_data"
    }
   ],
   "source": [
    "# Number of passengers emarked a the three different habours per class\n",
    "plot = sns.catplot(x=\"Embarked\", hue='Pclass',kind=\"count\", data=train, height=5, aspect=1)"
   ]
  },
  {
   "cell_type": "code",
   "execution_count": 38,
   "metadata": {
    "scrolled": false
   },
   "outputs": [
    {
     "data": {
      "image/png": "[encoded data removed]",
      "text/plain": [
       "<Figure size 402.375x360 with 1 Axes>"
      ]
     },
     "metadata": {
      "needs_background": "light"
     },
     "output_type": "display_data"
    }
   ],
   "source": [
    "# Survival Probability of passengers emarked a the three different habours per class\n",
    "plot = sns.catplot(x=\"Embarked\", y='Survived', hue='Pclass', kind=\"bar\", data=train, height=5, aspect=1)"
   ]
  },
  {
   "cell_type": "markdown",
   "metadata": {},
   "source": [
    "Most passengers embarked in Southampton - one half 3rd class, the other half 1st and 2nd class passengers. The majority of the passengers which embarked in Cherbourg traveled in the 1st class, which explains the higher survival probability of this passenger group. It is remarkable that in Queenstwon mainly 3rd class passengers embarked, however, their survival probability is higher than for the passengers which embarked in Southamton. This might be relevant information."
   ]
  },
  {
   "cell_type": "markdown",
   "metadata": {},
   "source": [
    "### 4.8 Ticket and Cabin <a id=\"FAna8\"></a>"
   ]
  },
  {
   "cell_type": "markdown",
   "metadata": {},
   "source": [
    "In this notebook I will not further analyze these two features. As mentioned above discussing the feature *Fare*, the feature *Ticket* is very valuble to find groups that share the same ticket to correct the fare prices and implement the new *FareCorr*. Apart from that some tikets habe a letter which refers to the deck/level. Analyzing this together with the feature *Cabin*, where most of the entries are missing (or where the passengers had no cabin?!?), one could construct a new feature containing information about the survival probability regarding the deck/level. For more info have a look at the [wiki entry](https://en.wikipedia.org/wiki/RMS_Titanic)."
   ]
  },
  {
   "cell_type": "markdown",
   "metadata": {},
   "source": [
    "[back to Table of Contents](#TOC)\n",
    "## 5. Feature engineering and missing values <a id=\"FEng\"></a>"
   ]
  },
  {
   "cell_type": "markdown",
   "metadata": {},
   "source": [
    "### 5.1 Add new feature *Title*  <a id=\"FEng1\"></a>"
   ]
  },
  {
   "cell_type": "code",
   "execution_count": 39,
   "metadata": {
    "scrolled": false
   },
   "outputs": [
    {
     "data": {
      "text/plain": [
       "240                            Zabour, Miss. Thamine\n",
       "241                   Murphy, Miss. Katherine \"Kate\"\n",
       "242                  Coleridge, Mr. Reginald Charles\n",
       "243                    Maenpaa, Mr. Matti Alexanteri\n",
       "244                             Attalah, Mr. Sleiman\n",
       "245                      Minahan, Dr. William Edward\n",
       "246            Lindahl, Miss. Agda Thorilda Viktoria\n",
       "247                  Hamalainen, Mrs. William (Anna)\n",
       "248                    Beckwith, Mr. Richard Leonard\n",
       "249                    Carter, Rev. Ernest Courtenay\n",
       "250                           Reed, Mr. James George\n",
       "251       Strom, Mrs. Wilhelm (Elna Matilda Persson)\n",
       "252                        Stead, Mr. William Thomas\n",
       "253                         Lobb, Mr. William Arthur\n",
       "254         Rosblom, Mrs. Viktor (Helena Wilhelmina)\n",
       "255          Touma, Mrs. Darwis (Hanne Youssef Razi)\n",
       "256                   Thorne, Mrs. Gertrude Maybelle\n",
       "257                             Cherry, Miss. Gladys\n",
       "258                                 Ward, Miss. Anna\n",
       "259                      Parrish, Mrs. (Lutie Davis)\n",
       "260                                Smith, Mr. Thomas\n",
       "261                Asplund, Master. Edvin Rojj Felix\n",
       "262                                Taussig, Mr. Emil\n",
       "263                            Harrison, Mr. William\n",
       "264                               Henry, Miss. Delia\n",
       "265                                Reeves, Mr. David\n",
       "266                        Panula, Mr. Ernesti Arvid\n",
       "267                         Persson, Mr. Ernst Ulrik\n",
       "268    Graham, Mrs. William Thompson (Edith Junkins)\n",
       "269                           Bissette, Miss. Amelia\n",
       "270                            Cairns, Mr. Alexander\n",
       "271                     Tornquist, Mr. William Henry\n",
       "272        Mellinger, Mrs. (Elizabeth Anne Maidment)\n",
       "273                            Natsch, Mr. Charles H\n",
       "274                       Healy, Miss. Hanora \"Nora\"\n",
       "275                Andrews, Miss. Kornelia Theodosia\n",
       "276                Lindblom, Miss. Augusta Charlotta\n",
       "277                      Parkes, Mr. Francis \"Frank\"\n",
       "278                               Rice, Master. Eric\n",
       "279                 Abbott, Mrs. Stanton (Rosa Hunt)\n",
       "Name: Name, dtype: object"
      ]
     },
     "execution_count": 39,
     "metadata": {},
     "output_type": "execute_result"
    }
   ],
   "source": [
    "data['Name'][240:280]"
   ]
  },
  {
   "cell_type": "markdown",
   "metadata": {},
   "source": [
    "The passengers have different titels which give information about their sex (Mr., Mrs., Miss., Master, Rev.), about their social status (Dr., Rev.) or about their age (Mrs., Miss., Master, Dr., Rev.). Characteristics which affect the survival probability. Hence, it makes sense to create a new feature *Title*."
   ]
  },
  {
   "cell_type": "code",
   "execution_count": 40,
   "metadata": {},
   "outputs": [
    {
     "data": {
      "text/plain": [
       "Mr          757\n",
       "Miss        264\n",
       "Mrs         198\n",
       "Master       61\n",
       "Rev           8\n",
       "Dr            8\n",
       "Col           4\n",
       "Major         2\n",
       "Countess      1\n",
       "Capt          1\n",
       "Jonkheer      1\n",
       "Don           1\n",
       "Dona          1\n",
       "Lady          1\n",
       "Sir           1\n",
       "Name: Title, dtype: int64"
      ]
     },
     "execution_count": 40,
     "metadata": {},
     "output_type": "execute_result"
    }
   ],
   "source": [
    "# extracting the Title (which always ends with a \".\")\n",
    "for name_string in data['Name']:\n",
    "    data['Title'] = data['Name'].str.extract('([A-Za-z]+)\\.', expand=True)\n",
    "\n",
    "#transform titles which are synonyms\n",
    "data['Title']=data['Title'].replace({'Ms':'Miss','Mlle':'Miss','Mme':'Mrs'})\n",
    "\n",
    "data['Title'].value_counts()"
   ]
  },
  {
   "cell_type": "markdown",
   "metadata": {},
   "source": [
    "The analysis reveals some more titles, some of which are noble titles or indicate a higher social standing. We now can summarize the different titles in the following categories: "
   ]
  },
  {
   "cell_type": "code",
   "execution_count": 41,
   "metadata": {
    "scrolled": true
   },
   "outputs": [
    {
     "data": {
      "text/plain": [
       "Mr        757\n",
       "Miss      264\n",
       "Mrs       198\n",
       "Master     61\n",
       "Others     23\n",
       "Noble       6\n",
       "Name: Title, dtype: int64"
      ]
     },
     "execution_count": 41,
     "metadata": {},
     "output_type": "execute_result"
    }
   ],
   "source": [
    "# Noble passengers\n",
    "data['Title']=data['Title'].replace(['Sir','Don','Dona','Jonkheer','Lady','Countess'], 'Noble')\n",
    "\n",
    "# passengers with a higher social standing\n",
    "data['Title']=data['Title'].replace(['Dr', 'Rev','Col','Major','Capt'], 'Others')\n",
    "\n",
    "data['Title'].value_counts()"
   ]
  },
  {
   "cell_type": "markdown",
   "metadata": {},
   "source": [
    "In the next section (5.2) we will introduce a further title called youngMiss, which is the female equivalent to master."
   ]
  },
  {
   "cell_type": "markdown",
   "metadata": {},
   "source": [
    "\n",
    "\n",
    "\n",
    "### 5.2 Add new feature *AgeCat* (age categories) <a id=\"FEng2\"></a>"
   ]
  },
  {
   "cell_type": "markdown",
   "metadata": {},
   "source": [
    "#### Fill missing values of *Age*"
   ]
  },
  {
   "cell_type": "markdown",
   "metadata": {},
   "source": [
    "The best strategy to fill the missing values might be to use the titles to guess the age, since we are goint to divide *Age* in two categories, namely <15 and >15 years.   "
   ]
  },
  {
   "cell_type": "code",
   "execution_count": 42,
   "metadata": {
    "scrolled": true
   },
   "outputs": [
    {
     "data": {
      "text/plain": [
       "Title\n",
       "Master     4.0\n",
       "Miss      22.0\n",
       "Mr        29.0\n",
       "Mrs       35.0\n",
       "Noble     39.5\n",
       "Others    49.5\n",
       "Name: Age, dtype: float64"
      ]
     },
     "execution_count": 42,
     "metadata": {},
     "output_type": "execute_result"
    }
   ],
   "source": [
    "data.groupby('Title')['Age'].median()"
   ]
  },
  {
   "cell_type": "markdown",
   "metadata": {},
   "source": [
    "With the title \"Master\" we are able to identify young male passengers, which have a significatly higher survival probability than adult men. For female passengers there is no dedicated title for young girls.\n",
    "\n",
    "However, we can make use of the fact that young Misses (age<15) are most likely traveling at least with one parent, i.e. Parch >= 1. Let's check:"
   ]
  },
  {
   "cell_type": "code",
   "execution_count": 43,
   "metadata": {
    "scrolled": true
   },
   "outputs": [
    {
     "data": {
      "text/plain": [
       "1    23\n",
       "2    21\n",
       "0     6\n",
       "Name: Parch, dtype: int64"
      ]
     },
     "execution_count": 43,
     "metadata": {},
     "output_type": "execute_result"
    }
   ],
   "source": [
    "data['Parch'][(data['Age']<15) & (data['Title']=='Miss')].value_counts()"
   ]
  },
  {
   "cell_type": "markdown",
   "metadata": {},
   "source": [
    "Only bout 12% of the Misses younger than 15 years have no parents/children on board. whereas between 15 and 20 ..."
   ]
  },
  {
   "cell_type": "code",
   "execution_count": 44,
   "metadata": {},
   "outputs": [
    {
     "data": {
      "text/plain": [
       "0    61\n",
       "2    14\n",
       "1    12\n",
       "Name: Parch, dtype: int64"
      ]
     },
     "execution_count": 44,
     "metadata": {},
     "output_type": "execute_result"
    }
   ],
   "source": [
    "#Misses older than 15\n",
    "data['Parch'][(data['Age']>=15) & (data['Age']<25) & (data['Title']=='Miss')].value_counts()"
   ]
  },
  {
   "cell_type": "markdown",
   "metadata": {},
   "source": [
    "... already 63% of the Misses have no parents/children on board (). So a passenger with the title 'Miss' and a non-zero Parch value is most likly a young female.\n",
    "\n",
    "So let's consider two categories, \"Miss\" and \"young Miss\": "
   ]
  },
  {
   "cell_type": "code",
   "execution_count": 45,
   "metadata": {},
   "outputs": [
    {
     "name": "stdout",
     "output_type": "stream",
     "text": [
      "Average age of young Miss(age<15): 5.0 years\n",
      "Average age of Miss (age>=15): 24.0 years\n"
     ]
    }
   ],
   "source": [
    "print('Average age of young Miss(age<15): '+ str(data['Age'][(data['Title']== 'Miss') & (data['Age']<15)].median()) + ' years')\n",
    "print('Average age of Miss (age>=15): '+ str(data['Age'][(data['Title']== 'Miss') & (data['Age']>=15)].median()) + ' years')"
   ]
  },
  {
   "cell_type": "markdown",
   "metadata": {},
   "source": [
    "Indeed, \"youngMiss\" shows about the same average age as \"Master\", which supports the assumption we made above.\n",
    "\n",
    "Now we can fill the missing ages with the average values of the different titles and introduce \"youngMiss\" as a new title:"
   ]
  },
  {
   "cell_type": "code",
   "execution_count": 46,
   "metadata": {
    "scrolled": true
   },
   "outputs": [],
   "source": [
    "title_list=data.groupby('Title')['Age'].median().index.to_list()\n",
    "# Filling missing age values \n",
    "for title in title_list:\n",
    "    if title=='Miss':\n",
    "        # Miss with Parch = 0 and missing age value: set median age >15 to missing values\n",
    "        data.loc[(data['Age'].isnull()) & (data['Title'] == title) & (data['Parch'] == 0), 'Age'] \\\n",
    "        = data['Age'][(data['Title']== title) & (data['Age']>=15)].median()\n",
    "        \n",
    "        # Miss with Parch > 0 and missing age value: set median age <15 to missing values\n",
    "        data.loc[(data['Age'].isnull()) & (data['Title'] == title) & (data['Parch'] > 0), 'Age'] \\\n",
    "        = data['Age'][(data['Title']== title) & (data['Age']<15)].median()\n",
    "        \n",
    "        # all Misses with Age < 15: set Title to youngMiss \n",
    "        data.loc[(data['Age']<15) & (data['Title'] == title), 'Title'] \\\n",
    "        = 'youngMiss'    \n",
    "                                                 \n",
    "    else: \n",
    "        data.loc[(data['Age'].isnull()) & (data['Title'] == title), 'Age'] \\\n",
    "        = data['Age'][(data['Title']== title)].median()"
   ]
  },
  {
   "cell_type": "markdown",
   "metadata": {},
   "source": [
    "In general, it should be noted that the survival probability for women in general is rather high, so we have to see later on whether introducing the title \"young Miss\" improves our prediction."
   ]
  },
  {
   "cell_type": "code",
   "execution_count": 47,
   "metadata": {
    "scrolled": true
   },
   "outputs": [
    {
     "data": {
      "text/plain": [
       "Title\n",
       "Master        4.0\n",
       "Miss         24.0\n",
       "Mr           29.0\n",
       "Mrs          35.0\n",
       "Noble        39.5\n",
       "Others       49.5\n",
       "youngMiss     5.0\n",
       "Name: Age, dtype: float64"
      ]
     },
     "execution_count": 47,
     "metadata": {},
     "output_type": "execute_result"
    }
   ],
   "source": [
    "#check the average age for different titles\n",
    "data.groupby('Title')['Age'].median()"
   ]
  },
  {
   "cell_type": "code",
   "execution_count": 48,
   "metadata": {},
   "outputs": [
    {
     "data": {
      "text/plain": [
       "Mr           757\n",
       "Miss         204\n",
       "Mrs          198\n",
       "Master        61\n",
       "youngMiss     60\n",
       "Others        23\n",
       "Noble          6\n",
       "Name: Title, dtype: int64"
      ]
     },
     "execution_count": 48,
     "metadata": {},
     "output_type": "execute_result"
    }
   ],
   "source": [
    "#check number of titles\n",
    "data['Title'].value_counts()"
   ]
  },
  {
   "cell_type": "markdown",
   "metadata": {},
   "source": [
    "#### Implement new feature *AgeCat*"
   ]
  },
  {
   "cell_type": "code",
   "execution_count": 49,
   "metadata": {},
   "outputs": [
    {
     "data": {
      "text/plain": [
       "2    717\n",
       "3    309\n",
       "1    127\n",
       "4    123\n",
       "5     33\n",
       "Name: AgeCat, dtype: int64"
      ]
     },
     "execution_count": 49,
     "metadata": {},
     "output_type": "execute_result"
    }
   ],
   "source": [
    "# We split the feature Age in five categories, where category 1 refers to children (age<15)\n",
    "data[\"AgeCat\"]= pd.cut(data[\"Age\"], bins=[0,14.9,30,45,60,max(data[\"Age\"]+1)], labels=['1','2','3','4','5'])\n",
    "\n",
    "# size of each category\n",
    "data['AgeCat'].value_counts()"
   ]
  },
  {
   "cell_type": "code",
   "execution_count": 50,
   "metadata": {},
   "outputs": [
    {
     "data": {
      "image/png": "[encoded data removed]",
      "text/plain": [
       "<Figure size 288x288 with 1 Axes>"
      ]
     },
     "metadata": {
      "needs_background": "light"
     },
     "output_type": "display_data"
    }
   ],
   "source": [
    "plot = sns.catplot(x='AgeCat', y='Survived', kind='bar', data=data[:len(train)], height=4)"
   ]
  },
  {
   "cell_type": "markdown",
   "metadata": {},
   "source": [
    "Here I used 5 different Age categories."
   ]
  },
  {
   "cell_type": "markdown",
   "metadata": {},
   "source": [
    "### 5.3 Add new feature *FamilySize* <a id=\"FEng3\"></a>"
   ]
  },
  {
   "cell_type": "markdown",
   "metadata": {},
   "source": [
    "In the previous analysis we found that that family mebers of small families have a higher survival chance than singles or passengers with a big family. So let's implement this feature on the whole dataset:"
   ]
  },
  {
   "cell_type": "code",
   "execution_count": 51,
   "metadata": {},
   "outputs": [],
   "source": [
    "# create feature FamilySize\n",
    "data.loc[data['SibSp'] + data['Parch'] + 1 == 1, 'FamilySize'] = 'Single'\n",
    "data.loc[data['SibSp'] + data['Parch'] + 1 > 1 , 'FamilySize'] = 'Small'\n",
    "data.loc[data['SibSp'] + data['Parch'] + 1 > 4 , 'FamilySize'] = 'Big'"
   ]
  },
  {
   "cell_type": "code",
   "execution_count": 52,
   "metadata": {},
   "outputs": [
    {
     "data": {
      "text/plain": [
       "Single    790\n",
       "Small     437\n",
       "Big        82\n",
       "Name: FamilySize, dtype: int64"
      ]
     },
     "execution_count": 52,
     "metadata": {},
     "output_type": "execute_result"
    }
   ],
   "source": [
    "# size of each category\n",
    "data.FamilySize.value_counts()"
   ]
  },
  {
   "cell_type": "code",
   "execution_count": 53,
   "metadata": {},
   "outputs": [
    {
     "data": {
      "image/png": "[encoded data removed]",
      "text/plain": [
       "<Figure size 360x360 with 1 Axes>"
      ]
     },
     "metadata": {
      "needs_background": "light"
     },
     "output_type": "display_data"
    }
   ],
   "source": [
    "plot = sns.catplot(x='FamilySize', y='Survived', kind='bar', data=data[:len(train)])"
   ]
  },
  {
   "cell_type": "markdown",
   "metadata": {},
   "source": [
    "### 5.4 Add new feature *FamilySurvival* <a id=\"FEng4\"></a>"
   ]
  },
  {
   "cell_type": "markdown",
   "metadata": {},
   "source": [
    "The inspiration for this feature came from [Konstantin](https://www.kaggle.com/konstantinmasich/titanic-0-82-0-83). The idea is to find groups of poeple, e.g. familes (share the same LastName/Ticket) or people that just travel together (share same Ticket). If the majority of this group survived, the feature FamilySurvival is set to 1. If the majority died, it is set to 0. For all other passengers which can not be associated with a group are, FamilySurvival is set to 0.5."
   ]
  },
  {
   "cell_type": "code",
   "execution_count": 54,
   "metadata": {},
   "outputs": [
    {
     "data": {
      "text/plain": [
       "Andersson      11\n",
       "Sage           11\n",
       "Asplund         8\n",
       "Goodwin         8\n",
       "Davies          7\n",
       "               ..\n",
       "Aubart          1\n",
       "Dulles          1\n",
       "Roebling        1\n",
       "Francatelli     1\n",
       "Ekstrom         1\n",
       "Name: Last_Name, Length: 872, dtype: int64"
      ]
     },
     "execution_count": 54,
     "metadata": {},
     "output_type": "execute_result"
    }
   ],
   "source": [
    "# extract last names\n",
    "#data['Last_Name'] = data['Name'].apply(lambda x: str.split(x, \",\")[0])\n",
    "data['Last_Name'] =  data['Name'].str.extract('([A-Za-z]+),', expand=True)\n",
    "data['Last_Name'].value_counts()\n",
    "#data.groupby('Last_Name')"
   ]
  },
  {
   "cell_type": "code",
   "execution_count": 55,
   "metadata": {
    "scrolled": true
   },
   "outputs": [
    {
     "data": {
      "text/plain": [
       "0.5    656\n",
       "1.0    376\n",
       "0.0    277\n",
       "Name: FamilySurvival, dtype: int64"
      ]
     },
     "execution_count": 55,
     "metadata": {},
     "output_type": "execute_result"
    }
   ],
   "source": [
    "data['Last_Name'] = data['Name'].apply(lambda x: str.split(x, \",\")[0])\n",
    "default_value = 0.5\n",
    "\n",
    "data['FamilySurvival'] = default_value\n",
    "for grp, grp_df in data[['Survived', 'Last_Name', 'Ticket', 'PassengerId']].groupby(['Last_Name']):\n",
    "    \n",
    "    if (len(grp_df) != 1):\n",
    "        # A Family group is found.\n",
    "        for ind, row in grp_df.iterrows():\n",
    "            smax = grp_df.drop(ind)['Survived'].max()\n",
    "            smin = grp_df.drop(ind)['Survived'].min()\n",
    "            passID = row['PassengerId']\n",
    "            if (smax == 1.0):\n",
    "                data.loc[data['PassengerId'] == passID, 'FamilySurvival'] = 1\n",
    "            elif (smin == 0.0):\n",
    "                data.loc[data['PassengerId'] == passID, 'FamilySurvival'] = 0\n",
    "                \n",
    "for _, grp_df in data.groupby('Ticket'):\n",
    "    if (len(grp_df) != 1):\n",
    "        #print(grp_df)\n",
    "        for ind, row in grp_df.iterrows():\n",
    "            if (row['FamilySurvival'] == 0) | (row['FamilySurvival']== 0.5):\n",
    "                smax = grp_df.drop(ind)['Survived'].max()\n",
    "                smin = grp_df.drop(ind)['Survived'].min()\n",
    "                passID = row['PassengerId']\n",
    "                if (smax == 1.0):\n",
    "                    data.loc[data['PassengerId'] == passID, 'FamilySurvival'] = 1\n",
    "                elif (smin == 0.0):\n",
    "                    data.loc[data['PassengerId'] == passID, 'FamilySurvival'] = 0\n",
    "\n",
    "# check number of passengers in the different categories\n",
    "data['FamilySurvival'].value_counts()    "
   ]
  },
  {
   "cell_type": "markdown",
   "metadata": {},
   "source": [
    "### 5.5 Add new features *FareCorr* and *FareCat* <a id=\"FEng5\"></a>"
   ]
  },
  {
   "cell_type": "markdown",
   "metadata": {},
   "source": [
    "We already introduced these feature in section 4.6. Now let's implement them for the whole dataset:"
   ]
  },
  {
   "cell_type": "code",
   "execution_count": 56,
   "metadata": {},
   "outputs": [],
   "source": [
    "# Corret Fare per person\n",
    "data['FareCorr'] = data['Fare'].copy()\n",
    "\n",
    "for grp, grp_df in data[['Ticket','Name', 'Pclass', 'Fare', 'PassengerId']].groupby(['Ticket']):\n",
    "\n",
    "    if (len(grp_df) != 1):\n",
    "        for ind, row in grp_df.iterrows():\n",
    "            passID = row['PassengerId']\n",
    "            data.loc[data['PassengerId'] == passID, 'FareCorr'] = data['Fare'][data['PassengerId'] == passID]/len(grp_df)"
   ]
  },
  {
   "cell_type": "code",
   "execution_count": 57,
   "metadata": {},
   "outputs": [
    {
     "name": "stdout",
     "output_type": "stream",
     "text": [
      "<class 'pandas.core.frame.DataFrame'>\n",
      "RangeIndex: 1309 entries, 0 to 1308\n",
      "Data columns (total 18 columns):\n",
      "Age               1309 non-null float64\n",
      "Cabin             295 non-null object\n",
      "Embarked          1307 non-null object\n",
      "Fare              1308 non-null float64\n",
      "Name              1309 non-null object\n",
      "Parch             1309 non-null int64\n",
      "PassengerId       1309 non-null int64\n",
      "Pclass            1309 non-null int64\n",
      "Sex               1309 non-null object\n",
      "SibSp             1309 non-null int64\n",
      "Survived          891 non-null float64\n",
      "Ticket            1309 non-null object\n",
      "Title             1309 non-null object\n",
      "AgeCat            1309 non-null category\n",
      "FamilySize        1309 non-null object\n",
      "Last_Name         1309 non-null object\n",
      "FamilySurvival    1309 non-null float64\n",
      "FareCorr          1309 non-null float64\n",
      "dtypes: category(1), float64(5), int64(4), object(8)\n",
      "memory usage: 175.5+ KB\n"
     ]
    }
   ],
   "source": [
    "# Replacing one missing Fare value\n",
    "fa = data[data[\"Pclass\"] == 3]\n",
    "data['FareCorr'].fillna(fa['FareCorr'].median(), inplace = True)\n",
    "data.info()"
   ]
  },
  {
   "cell_type": "markdown",
   "metadata": {},
   "source": [
    "Here, I use seven fare categories."
   ]
  },
  {
   "cell_type": "code",
   "execution_count": 58,
   "metadata": {},
   "outputs": [
    {
     "data": {
      "text/plain": [
       "2    236\n",
       "5    212\n",
       "1    188\n",
       "7    186\n",
       "4    167\n",
       "6    162\n",
       "3    158\n",
       "Name: FareCat, dtype: int64"
      ]
     },
     "execution_count": 58,
     "metadata": {},
     "output_type": "execute_result"
    }
   ],
   "source": [
    "data['FareCat']=pd.qcut(data['FareCorr'], 7, labels=['1','2','3','4','5','6','7'])\n",
    "data['FareCat'].value_counts()"
   ]
  },
  {
   "cell_type": "code",
   "execution_count": 59,
   "metadata": {
    "scrolled": false
   },
   "outputs": [
    {
     "data": {
      "image/png": "[encoded data removed]",
      "text/plain": [
       "<Figure size 360x360 with 1 Axes>"
      ]
     },
     "metadata": {
      "needs_background": "light"
     },
     "output_type": "display_data"
    }
   ],
   "source": [
    "#Survival probability for each fare category\n",
    "plot = sns.catplot(x=\"FareCat\", y='Survived',kind=\"bar\", data=data, height=5, aspect=1)\n"
   ]
  },
  {
   "cell_type": "markdown",
   "metadata": {},
   "source": [
    "### 5.6 Add missing values for *Emarked* <a id=\"FEng6\"></a>"
   ]
  },
  {
   "cell_type": "code",
   "execution_count": 60,
   "metadata": {
    "scrolled": true
   },
   "outputs": [
    {
     "data": {
      "text/html": [
       "<div>\n",
       "<style scoped>\n",
       "    .dataframe tbody tr th:only-of-type {\n",
       "        vertical-align: middle;\n",
       "    }\n",
       "\n",
       "    .dataframe tbody tr th {\n",
       "        vertical-align: top;\n",
       "    }\n",
       "\n",
       "    .dataframe thead th {\n",
       "        text-align: right;\n",
       "    }\n",
       "</style>\n",
       "<table border=\"1\" class=\"dataframe\">\n",
       "  <thead>\n",
       "    <tr style=\"text-align: right;\">\n",
       "      <th></th>\n",
       "      <th>Age</th>\n",
       "      <th>Cabin</th>\n",
       "      <th>Embarked</th>\n",
       "      <th>Fare</th>\n",
       "      <th>Name</th>\n",
       "      <th>Parch</th>\n",
       "      <th>PassengerId</th>\n",
       "      <th>Pclass</th>\n",
       "      <th>Sex</th>\n",
       "      <th>SibSp</th>\n",
       "      <th>Survived</th>\n",
       "      <th>Ticket</th>\n",
       "      <th>Title</th>\n",
       "      <th>AgeCat</th>\n",
       "      <th>FamilySize</th>\n",
       "      <th>Last_Name</th>\n",
       "      <th>FamilySurvival</th>\n",
       "      <th>FareCorr</th>\n",
       "      <th>FareCat</th>\n",
       "    </tr>\n",
       "  </thead>\n",
       "  <tbody>\n",
       "    <tr>\n",
       "      <th>61</th>\n",
       "      <td>38.0</td>\n",
       "      <td>B28</td>\n",
       "      <td>NaN</td>\n",
       "      <td>80.0</td>\n",
       "      <td>Icard, Miss. Amelie</td>\n",
       "      <td>0</td>\n",
       "      <td>62</td>\n",
       "      <td>1</td>\n",
       "      <td>female</td>\n",
       "      <td>0</td>\n",
       "      <td>1.0</td>\n",
       "      <td>113572</td>\n",
       "      <td>Miss</td>\n",
       "      <td>3</td>\n",
       "      <td>Single</td>\n",
       "      <td>Icard</td>\n",
       "      <td>1.0</td>\n",
       "      <td>40.0</td>\n",
       "      <td>7</td>\n",
       "    </tr>\n",
       "    <tr>\n",
       "      <th>829</th>\n",
       "      <td>62.0</td>\n",
       "      <td>B28</td>\n",
       "      <td>NaN</td>\n",
       "      <td>80.0</td>\n",
       "      <td>Stone, Mrs. George Nelson (Martha Evelyn)</td>\n",
       "      <td>0</td>\n",
       "      <td>830</td>\n",
       "      <td>1</td>\n",
       "      <td>female</td>\n",
       "      <td>0</td>\n",
       "      <td>1.0</td>\n",
       "      <td>113572</td>\n",
       "      <td>Mrs</td>\n",
       "      <td>5</td>\n",
       "      <td>Single</td>\n",
       "      <td>Stone</td>\n",
       "      <td>1.0</td>\n",
       "      <td>40.0</td>\n",
       "      <td>7</td>\n",
       "    </tr>\n",
       "  </tbody>\n",
       "</table>\n",
       "</div>"
      ],
      "text/plain": [
       "      Age Cabin Embarked  Fare                                       Name  \\\n",
       "61   38.0   B28      NaN  80.0                        Icard, Miss. Amelie   \n",
       "829  62.0   B28      NaN  80.0  Stone, Mrs. George Nelson (Martha Evelyn)   \n",
       "\n",
       "     Parch  PassengerId  Pclass     Sex  SibSp  Survived  Ticket Title AgeCat  \\\n",
       "61       0           62       1  female      0       1.0  113572  Miss      3   \n",
       "829      0          830       1  female      0       1.0  113572   Mrs      5   \n",
       "\n",
       "    FamilySize Last_Name  FamilySurvival  FareCorr FareCat  \n",
       "61      Single     Icard             1.0      40.0       7  \n",
       "829     Single     Stone             1.0      40.0       7  "
      ]
     },
     "execution_count": 60,
     "metadata": {},
     "output_type": "execute_result"
    }
   ],
   "source": [
    "data[data['Embarked'].isnull()]"
   ]
  },
  {
   "cell_type": "code",
   "execution_count": 61,
   "metadata": {},
   "outputs": [],
   "source": [
    "data['Embarked'].fillna('C', inplace = True)"
   ]
  },
  {
   "cell_type": "code",
   "execution_count": 62,
   "metadata": {
    "scrolled": false
   },
   "outputs": [
    {
     "name": "stdout",
     "output_type": "stream",
     "text": [
      "<class 'pandas.core.frame.DataFrame'>\n",
      "RangeIndex: 1309 entries, 0 to 1308\n",
      "Data columns (total 19 columns):\n",
      "Age               1309 non-null float64\n",
      "Cabin             295 non-null object\n",
      "Embarked          1309 non-null object\n",
      "Fare              1308 non-null float64\n",
      "Name              1309 non-null object\n",
      "Parch             1309 non-null int64\n",
      "PassengerId       1309 non-null int64\n",
      "Pclass            1309 non-null int64\n",
      "Sex               1309 non-null object\n",
      "SibSp             1309 non-null int64\n",
      "Survived          891 non-null float64\n",
      "Ticket            1309 non-null object\n",
      "Title             1309 non-null object\n",
      "AgeCat            1309 non-null category\n",
      "FamilySize        1309 non-null object\n",
      "Last_Name         1309 non-null object\n",
      "FamilySurvival    1309 non-null float64\n",
      "FareCorr          1309 non-null float64\n",
      "FareCat           1309 non-null category\n",
      "dtypes: category(2), float64(5), int64(4), object(8)\n",
      "memory usage: 177.1+ KB\n"
     ]
    }
   ],
   "source": [
    "data.info()"
   ]
  },
  {
   "cell_type": "markdown",
   "metadata": {},
   "source": [
    "Note: in the end I decided to not use this feature."
   ]
  },
  {
   "cell_type": "markdown",
   "metadata": {},
   "source": [
    "[back to Table of Contents](#TOC)\n",
    "## 6. Data preparation for modelling <a id=\"Prep\"></a>"
   ]
  },
  {
   "cell_type": "markdown",
   "metadata": {},
   "source": [
    "###  6.1 Drop useless features<a id=\"Prep1\"></a>"
   ]
  },
  {
   "cell_type": "code",
   "execution_count": 63,
   "metadata": {},
   "outputs": [],
   "source": [
    "data_pre = data.drop(['Embarked','Survived','PassengerId','Name','Age','Parch','SibSp','Ticket','Fare','Cabin','Last_Name','FareCorr'],axis=1)"
   ]
  },
  {
   "cell_type": "code",
   "execution_count": 64,
   "metadata": {
    "scrolled": false
   },
   "outputs": [
    {
     "data": {
      "text/html": [
       "<div>\n",
       "<style scoped>\n",
       "    .dataframe tbody tr th:only-of-type {\n",
       "        vertical-align: middle;\n",
       "    }\n",
       "\n",
       "    .dataframe tbody tr th {\n",
       "        vertical-align: top;\n",
       "    }\n",
       "\n",
       "    .dataframe thead th {\n",
       "        text-align: right;\n",
       "    }\n",
       "</style>\n",
       "<table border=\"1\" class=\"dataframe\">\n",
       "  <thead>\n",
       "    <tr style=\"text-align: right;\">\n",
       "      <th></th>\n",
       "      <th>Pclass</th>\n",
       "      <th>Sex</th>\n",
       "      <th>Title</th>\n",
       "      <th>AgeCat</th>\n",
       "      <th>FamilySize</th>\n",
       "      <th>FamilySurvival</th>\n",
       "      <th>FareCat</th>\n",
       "    </tr>\n",
       "  </thead>\n",
       "  <tbody>\n",
       "    <tr>\n",
       "      <th>0</th>\n",
       "      <td>3</td>\n",
       "      <td>male</td>\n",
       "      <td>Mr</td>\n",
       "      <td>2</td>\n",
       "      <td>Small</td>\n",
       "      <td>0.0</td>\n",
       "      <td>2</td>\n",
       "    </tr>\n",
       "    <tr>\n",
       "      <th>1</th>\n",
       "      <td>1</td>\n",
       "      <td>female</td>\n",
       "      <td>Mrs</td>\n",
       "      <td>3</td>\n",
       "      <td>Small</td>\n",
       "      <td>0.5</td>\n",
       "      <td>7</td>\n",
       "    </tr>\n",
       "    <tr>\n",
       "      <th>2</th>\n",
       "      <td>3</td>\n",
       "      <td>female</td>\n",
       "      <td>Miss</td>\n",
       "      <td>2</td>\n",
       "      <td>Single</td>\n",
       "      <td>0.5</td>\n",
       "      <td>3</td>\n",
       "    </tr>\n",
       "    <tr>\n",
       "      <th>3</th>\n",
       "      <td>1</td>\n",
       "      <td>female</td>\n",
       "      <td>Mrs</td>\n",
       "      <td>3</td>\n",
       "      <td>Small</td>\n",
       "      <td>0.0</td>\n",
       "      <td>6</td>\n",
       "    </tr>\n",
       "    <tr>\n",
       "      <th>4</th>\n",
       "      <td>3</td>\n",
       "      <td>male</td>\n",
       "      <td>Mr</td>\n",
       "      <td>3</td>\n",
       "      <td>Single</td>\n",
       "      <td>1.0</td>\n",
       "      <td>4</td>\n",
       "    </tr>\n",
       "    <tr>\n",
       "      <th>...</th>\n",
       "      <td>...</td>\n",
       "      <td>...</td>\n",
       "      <td>...</td>\n",
       "      <td>...</td>\n",
       "      <td>...</td>\n",
       "      <td>...</td>\n",
       "      <td>...</td>\n",
       "    </tr>\n",
       "    <tr>\n",
       "      <th>1304</th>\n",
       "      <td>3</td>\n",
       "      <td>male</td>\n",
       "      <td>Mr</td>\n",
       "      <td>2</td>\n",
       "      <td>Single</td>\n",
       "      <td>0.5</td>\n",
       "      <td>4</td>\n",
       "    </tr>\n",
       "    <tr>\n",
       "      <th>1305</th>\n",
       "      <td>1</td>\n",
       "      <td>female</td>\n",
       "      <td>Noble</td>\n",
       "      <td>3</td>\n",
       "      <td>Single</td>\n",
       "      <td>1.0</td>\n",
       "      <td>7</td>\n",
       "    </tr>\n",
       "    <tr>\n",
       "      <th>1306</th>\n",
       "      <td>3</td>\n",
       "      <td>male</td>\n",
       "      <td>Mr</td>\n",
       "      <td>3</td>\n",
       "      <td>Single</td>\n",
       "      <td>0.5</td>\n",
       "      <td>2</td>\n",
       "    </tr>\n",
       "    <tr>\n",
       "      <th>1307</th>\n",
       "      <td>3</td>\n",
       "      <td>male</td>\n",
       "      <td>Mr</td>\n",
       "      <td>2</td>\n",
       "      <td>Single</td>\n",
       "      <td>0.5</td>\n",
       "      <td>4</td>\n",
       "    </tr>\n",
       "    <tr>\n",
       "      <th>1308</th>\n",
       "      <td>3</td>\n",
       "      <td>male</td>\n",
       "      <td>Master</td>\n",
       "      <td>1</td>\n",
       "      <td>Small</td>\n",
       "      <td>1.0</td>\n",
       "      <td>2</td>\n",
       "    </tr>\n",
       "  </tbody>\n",
       "</table>\n",
       "<p>1309 rows × 7 columns</p>\n",
       "</div>"
      ],
      "text/plain": [
       "      Pclass     Sex   Title AgeCat FamilySize  FamilySurvival FareCat\n",
       "0          3    male      Mr      2      Small             0.0       2\n",
       "1          1  female     Mrs      3      Small             0.5       7\n",
       "2          3  female    Miss      2     Single             0.5       3\n",
       "3          1  female     Mrs      3      Small             0.0       6\n",
       "4          3    male      Mr      3     Single             1.0       4\n",
       "...      ...     ...     ...    ...        ...             ...     ...\n",
       "1304       3    male      Mr      2     Single             0.5       4\n",
       "1305       1  female   Noble      3     Single             1.0       7\n",
       "1306       3    male      Mr      3     Single             0.5       2\n",
       "1307       3    male      Mr      2     Single             0.5       4\n",
       "1308       3    male  Master      1      Small             1.0       2\n",
       "\n",
       "[1309 rows x 7 columns]"
      ]
     },
     "execution_count": 64,
     "metadata": {},
     "output_type": "execute_result"
    }
   ],
   "source": [
    "#check data\n",
    "data_pre"
   ]
  },
  {
   "cell_type": "code",
   "execution_count": 65,
   "metadata": {},
   "outputs": [
    {
     "name": "stdout",
     "output_type": "stream",
     "text": [
      "<class 'pandas.core.frame.DataFrame'>\n",
      "RangeIndex: 1309 entries, 0 to 1308\n",
      "Data columns (total 7 columns):\n",
      "Pclass            1309 non-null int64\n",
      "Sex               1309 non-null object\n",
      "Title             1309 non-null object\n",
      "AgeCat            1309 non-null category\n",
      "FamilySize        1309 non-null object\n",
      "FamilySurvival    1309 non-null float64\n",
      "FareCat           1309 non-null category\n",
      "dtypes: category(2), float64(1), int64(1), object(3)\n",
      "memory usage: 54.4+ KB\n"
     ]
    }
   ],
   "source": [
    "# check data\n",
    "data_pre.info()"
   ]
  },
  {
   "cell_type": "code",
   "execution_count": null,
   "metadata": {},
   "outputs": [],
   "source": []
  },
  {
   "cell_type": "code",
   "execution_count": 66,
   "metadata": {},
   "outputs": [],
   "source": [
    "# create name lists for numerical an categorical features: we do not use any numerical features\n",
    "num_attribs = []\n",
    "cat_attribs = list( data_pre.drop(labels=num_attribs, axis=1).columns)"
   ]
  },
  {
   "cell_type": "markdown",
   "metadata": {},
   "source": [
    "### 6.2 Prepare pipeline for numerical and categorical attributes<a id=\"Prep2\"></a>"
   ]
  },
  {
   "cell_type": "code",
   "execution_count": 67,
   "metadata": {},
   "outputs": [],
   "source": [
    "#Pipeline for numerical values\n",
    "num_pipeline = Pipeline([\n",
    "        ('imputer', SimpleImputer(strategy=\"median\")),\n",
    "        ('std_scaler', StandardScaler()),\n",
    "    ])"
   ]
  },
  {
   "cell_type": "code",
   "execution_count": 68,
   "metadata": {},
   "outputs": [],
   "source": [
    "#Pipeline for categorical values\n",
    "cat_pipeline = Pipeline([\n",
    "        ('imputer', SimpleImputer(strategy=\"most_frequent\")),\n",
    "        ('cat', OneHotEncoder()),\n",
    "    ])"
   ]
  },
  {
   "cell_type": "code",
   "execution_count": 69,
   "metadata": {},
   "outputs": [],
   "source": [
    "#Full pipeline\n",
    "\n",
    "full_pipeline = ColumnTransformer([\n",
    "        #(\"num\", num_pipeline, num_attribs), # since we do not use any numerical features\n",
    "        ('cat', cat_pipeline, cat_attribs),\n",
    "    ])\n",
    "\n",
    "data_post = full_pipeline.fit_transform(data_pre)"
   ]
  },
  {
   "cell_type": "markdown",
   "metadata": {},
   "source": [
    "### 6.3 Alternative data preparation<a id=\"Prep3\"></a>"
   ]
  },
  {
   "cell_type": "markdown",
   "metadata": {},
   "source": [
    "If there are only cotegorical features with no missing values as it is the case for the current feature selection, the features can be transformed by simply using the OneHotEncoder:"
   ]
  },
  {
   "cell_type": "code",
   "execution_count": 70,
   "metadata": {},
   "outputs": [],
   "source": [
    "oneHot=OneHotEncoder()\n",
    "data_post_alt=oneHot.fit_transform(data_pre[cat_attribs])"
   ]
  },
  {
   "cell_type": "markdown",
   "metadata": {},
   "source": [
    "This way we can easily extract the feature names after the encoding. This will help later on if we want to analyse the importance of the different features."
   ]
  },
  {
   "cell_type": "code",
   "execution_count": 71,
   "metadata": {
    "scrolled": true
   },
   "outputs": [
    {
     "data": {
      "text/plain": [
       "array(['Pclass_1', 'Pclass_2', 'Pclass_3', 'Sex_female', 'Sex_male',\n",
       "       'Title_Master', 'Title_Miss', 'Title_Mr', 'Title_Mrs',\n",
       "       'Title_Noble', 'Title_Others', 'Title_youngMiss', 'AgeCat_1',\n",
       "       'AgeCat_2', 'AgeCat_3', 'AgeCat_4', 'AgeCat_5', 'FamilySize_Big',\n",
       "       'FamilySize_Single', 'FamilySize_Small', 'FamilySurvival_0.0',\n",
       "       'FamilySurvival_0.5', 'FamilySurvival_1.0', 'FareCat_1',\n",
       "       'FareCat_2', 'FareCat_3', 'FareCat_4', 'FareCat_5', 'FareCat_6',\n",
       "       'FareCat_7'], dtype=object)"
      ]
     },
     "execution_count": 71,
     "metadata": {},
     "output_type": "execute_result"
    }
   ],
   "source": [
    "# extract feature names after encoding\n",
    "feature_names = oneHot.get_feature_names(data_pre.columns)\n",
    "feature_names"
   ]
  },
  {
   "cell_type": "markdown",
   "metadata": {},
   "source": [
    "###  6.4 Split prepared data into training and test datasets <a id=\"Prep4\"></a>"
   ]
  },
  {
   "cell_type": "code",
   "execution_count": 72,
   "metadata": {},
   "outputs": [],
   "source": [
    "# training data\n",
    "X_train = data_post[:len(train['Survived']),:].toarray()\n",
    "y_train = train['Survived'].copy().to_numpy()   # traget\n",
    "\n",
    "# test data\n",
    "X_test = data_post[len(train['Survived']):,:].toarray()"
   ]
  },
  {
   "cell_type": "code",
   "execution_count": 73,
   "metadata": {
    "scrolled": true
   },
   "outputs": [
    {
     "name": "stdout",
     "output_type": "stream",
     "text": [
      "# instances: 891\n",
      "# features: 30\n"
     ]
    }
   ],
   "source": [
    "# check shape of X_train - number of instances and features\n",
    "print('# instances: '+ str(X_train.shape[0]))\n",
    "print('# features: '+ str(X_train.shape[1]))"
   ]
  },
  {
   "cell_type": "markdown",
   "metadata": {},
   "source": [
    "[back to Table of Contents](#TOC)\n",
    "## 7.  Modelling: Artificial Neural Network <a id=\"Model\"></a>"
   ]
  },
  {
   "cell_type": "markdown",
   "metadata": {},
   "source": [
    "Now we are going to explore how an artificial neural network (ANN) performs on the titanic dataset. \n",
    "\n",
    "For a first run and to get a feeling how the ANN works, in section 7.2 we will train a model with a given set of hyperparameters.  We are going to analyze the performance of the ANN and have a look at the importance of the different features.\n",
    "\n",
    "In section 7.3, I show in detail how I ended up with the net architecture and the set of hyperparameters introduced in section 7.2. We will go through a step by step instruction of how to optimize the different hyperparameters of an ANN using GridSearch and cross-validation.\n",
    "\n"
   ]
  },
  {
   "cell_type": "code",
   "execution_count": 74,
   "metadata": {},
   "outputs": [],
   "source": [
    "# define functions\n",
    "def hyperparameter_analysis(searcher, top_values=5):\n",
    "    tested_hyperparameters=pd.DataFrame()\n",
    "    for i in range(len(searcher.cv_results_['params'])):\n",
    "        tested_hyperparameters = tested_hyperparameters.append(searcher.cv_results_['params'][i], ignore_index=True)\n",
    "    tested_hyperparameters['train score in %']=(searcher.cv_results_['mean_train_score']*100).round(3)\n",
    "    tested_hyperparameters['test score in %']=(searcher.cv_results_['mean_test_score']*100).round(3)\n",
    "    tested_hyperparameters['test std in %']=(searcher.cv_results_['std_test_score']*100).round(3)\n",
    "    tested_hyperparameters.index=searcher.cv_results_['rank_test_score']\n",
    "    return(tested_hyperparameters.sort_index().head(top_values))\n",
    "\n",
    "def feature_importance(searcher_best_estimator, list_feature_names, top_values=5):\n",
    "    # calculate normed feature_importances\n",
    "    fi_norm = 1/abs(searcher_best_estimator.feature_importances_).sum()*abs(searcher_best_estimator.feature_importances_)\n",
    "    # create DataFrame \n",
    "    fi_df= pd.DataFrame(data=(fi_norm*100).round(2), index=list_feature_names, columns=['feature importance in %'])\n",
    "    return(fi_df.sort_values(['feature importance in %'], ascending=[False]).head(top_values))\n",
    "\n",
    "def feature_importance_ann(perm, list_feature_names, top_values=5, neg_values=False):    \n",
    "    if neg_values==True:\n",
    "        fi_df= pd.DataFrame(data=(perm.feature_importances_*100).round(2), index=list_feature_names, columns=['score reduction in % points'])\n",
    "        return(fi_df[fi_df['score reduction in % points']<0]).sort_values(['score reduction in % points'], ascending=[True]).head(top_values)\n",
    "    else:    \n",
    "        fi_df= pd.DataFrame(data=(perm.feature_importances_*100).round(2), index=list_feature_names, columns=['score reduction in % points'])\n",
    "        return(fi_df.sort_values(['score reduction in % points'], ascending=[False]).head(top_values))\n",
    "\n",
    "def metric_scores(y_reference, y_prediction):\n",
    "    precision = precision_score(y_reference, y_prediction)\n",
    "    recall = recall_score(y_reference, y_prediction)\n",
    "    F1_score = f1_score(y_reference, y_prediction)\n",
    "    print('precision: '+ str(precision.round(3)))\n",
    "    print('recall: '+ str(recall.round(3)))\n",
    "    print('F1_score: '+ str(F1_score.round(3)))\n",
    "    return(precision, recall, F1_score)\n",
    "\n",
    "def plot_confusion_matrix(cm, classes, title='Confusion matrix', cmap=plt.cm.Blues):\n",
    "    plt.imshow(cm, interpolation='nearest', cmap=cmap)\n",
    "    plt.title(title)\n",
    "    tick_marks = np.arange(len(classes))\n",
    "    plt.xticks(tick_marks, classes, rotation=45)\n",
    "    plt.yticks(tick_marks, classes)\n",
    "    fmt = 'd'\n",
    "    thresh = cm.max() / 2.\n",
    "    for i, j in itertools.product(range(cm.shape[0]), range(cm.shape[1])):\n",
    "        plt.text(j, i, format(cm[i, j], fmt),\n",
    "                 horizontalalignment=\"center\",\n",
    "                 color=\"white\" if cm[i, j] > thresh else \"black\")\n",
    "    plt.ylabel('True label')\n",
    "    plt.xlabel('Predicted label')\n",
    "    plt.tight_layout()\n",
    "\n",
    "def pred_to_df(y_predicted):\n",
    "    survived = pd.DataFrame(y_predicted,index=test.index, columns=['Survived'])\n",
    "    survived['PassengerId'] = test.PassengerId \n",
    "    columns_titles = [\"PassengerId\",\"Survived\"]\n",
    "    survived=survived.reindex(columns=columns_titles)\n",
    "    return(survived)\n",
    "\n",
    "def save_to_csv(survived, filename,index=False):\n",
    "    survived.to_csv(filename + '.csv',index=False, header=survived.columns)\n",
    "\n",
    "def plot_roc_curve(fpr, tpr, label=None):\n",
    "    plt.plot(fpr, tpr, linewidth=2, label=label)\n",
    "    plt.plot([0, 1], [0, 1], 'k--')\n",
    "    plt.axis([0, 1, 0, 1])\n",
    "    plt.xlabel('False Positive Rate', fontsize=16)\n",
    "    plt.ylabel('True Positive Rate', fontsize=16)\n",
    "    "
   ]
  },
  {
   "cell_type": "markdown",
   "metadata": {},
   "source": [
    "### 7.1 The model <a id=\"Model1\"></a>"
   ]
  },
  {
   "cell_type": "markdown",
   "metadata": {},
   "source": [
    "First of all, we define the function create_model() which gives us the freedom to try different model architectures by setting the respective hyperparameters. How I came up with default set of hyperparameters will be discussed in section 7.3.\n"
   ]
  },
  {
   "cell_type": "code",
   "execution_count": 75,
   "metadata": {},
   "outputs": [],
   "source": [
    "def create_model(input_shape=X_train.shape[1:],\n",
    "                number_hidden=2, \n",
    "                neurons_per_hidden=10,\n",
    "                hidden_drop_rate= 0.2,\n",
    "                hidden_activation = 'selu',\n",
    "                hidden_initializer=\"lecun_normal\",\n",
    "                output_activation ='sigmoid',\n",
    "                loss='binary_crossentropy',\n",
    "                optimizer = Nadam(lr=0.0005),\n",
    "                #lr=0.0005,\n",
    "                ):\n",
    "    \n",
    "    #create model\n",
    "    model = Sequential()\n",
    "    model.add(Input(shape=input_shape)),\n",
    "    for layer in range(number_hidden):\n",
    "        model.add(Dense(neurons_per_hidden, activation = hidden_activation ,kernel_initializer=hidden_initializer))\n",
    "        #model.add(Dropout(hidden_drop_rate))\n",
    "    model.add(Dense(1, activation = output_activation))\n",
    "\n",
    "    # Compile model\n",
    "    model.compile(loss=loss, \n",
    "                  #optimizer = Nadam(lr=lr), \n",
    "                  optimizer = Nadam(lr=0.0005),\n",
    "                  metrics = ['accuracy'])\n",
    "    return model"
   ]
  },
  {
   "cell_type": "markdown",
   "metadata": {},
   "source": [
    "### 7.2 A first look at neural networks on the titanic <a id=\"Model2\"></a>"
   ]
  },
  {
   "cell_type": "markdown",
   "metadata": {},
   "source": [
    "So let's build a ANN classifier and train it:"
   ]
  },
  {
   "cell_type": "code",
   "execution_count": 76,
   "metadata": {},
   "outputs": [],
   "source": [
    "keras.backend.clear_session()\n",
    "np.random.seed(42)\n",
    "tf.random.set_seed(42)\n",
    "\n",
    "# build and compile ANN classifier by calling the model function\n",
    "dnn_clf=create_model()\n",
    "\n",
    "# train the ANN classifier\n",
    "history = dnn_clf.fit(X_train, y_train, epochs=30, batch_size=30, verbose=0)"
   ]
  },
  {
   "cell_type": "markdown",
   "metadata": {},
   "source": [
    "To get an overview of the model structure, we can plot the specifications and the model architecture."
   ]
  },
  {
   "cell_type": "code",
   "execution_count": 77,
   "metadata": {},
   "outputs": [
    {
     "name": "stdout",
     "output_type": "stream",
     "text": [
      "Model: \"sequential\"\n",
      "_________________________________________________________________\n",
      "Layer (type)                 Output Shape              Param #   \n",
      "=================================================================\n",
      "dense (Dense)                (None, 10)                310       \n",
      "_________________________________________________________________\n",
      "dense_1 (Dense)              (None, 10)                110       \n",
      "_________________________________________________________________\n",
      "dense_2 (Dense)              (None, 1)                 11        \n",
      "=================================================================\n",
      "Total params: 431\n",
      "Trainable params: 431\n",
      "Non-trainable params: 0\n",
      "_________________________________________________________________\n"
     ]
    }
   ],
   "source": [
    "# show the specifications of the model\n",
    "dnn_clf.summary()"
   ]
  },
  {
   "cell_type": "code",
   "execution_count": 78,
   "metadata": {},
   "outputs": [
    {
     "data": {
      "image/png": "[encoded data removed]",
      "text/plain": [
       "<IPython.core.display.Image object>"
      ]
     },
     "execution_count": 78,
     "metadata": {},
     "output_type": "execute_result"
    }
   ],
   "source": [
    "# show a plot of the model architecture\n",
    "plot_model(dnn_clf, 'optimized_model.png', show_shapes=True)"
   ]
  },
  {
   "cell_type": "markdown",
   "metadata": {},
   "source": [
    "### 7.2.1 Evaluation of trained model"
   ]
  },
  {
   "cell_type": "markdown",
   "metadata": {},
   "source": [
    "Now we can evaluate our trained classifier on the training dataset. "
   ]
  },
  {
   "cell_type": "code",
   "execution_count": 79,
   "metadata": {},
   "outputs": [
    {
     "name": "stdout",
     "output_type": "stream",
     "text": [
      "Training score: 85.07295250892639%\n"
     ]
    }
   ],
   "source": [
    "# score of Ann classifier on training data\n",
    "print('Training score: ' + str((pd.DataFrame(history.history)['accuracy'].max()*100)) + '%')"
   ]
  },
  {
   "cell_type": "markdown",
   "metadata": {},
   "source": [
    "The training score of about 85% already looks very promissing for the titanic dataset. But what about the 15% false predictions? The question is whether we can still improve this or whether the training data (or the feature preparation) does not offer enough information to get better results.\n",
    "\n",
    "So let's run the model on the training data and analyze the prediction in more detail."
   ]
  },
  {
   "cell_type": "code",
   "execution_count": 80,
   "metadata": {},
   "outputs": [],
   "source": [
    "# calculate predictions for training dataset X_train\n",
    "y_train_pred_dnn = dnn_clf.predict_classes(X_train)"
   ]
  },
  {
   "cell_type": "markdown",
   "metadata": {},
   "source": [
    "In general, the height of the score might not be the best measure to evaluate the performance of a classifier, especially if the dataset is skewed, i.e. one class is much smaller than the other (here about 38% survived, 62% died). It is more instructive to look at the confusion matrix and the metrics one can derive from it:"
   ]
  },
  {
   "cell_type": "code",
   "execution_count": 81,
   "metadata": {},
   "outputs": [
    {
     "data": {
      "image/png": "[encoded data removed]",
      "text/plain": [
       "<Figure size 432x288 with 1 Axes>"
      ]
     },
     "metadata": {
      "needs_background": "light"
     },
     "output_type": "display_data"
    }
   ],
   "source": [
    "# Compute confusion matrix\n",
    "cnf_matrix = confusion_matrix(y_train, y_train_pred_dnn)\n",
    "\n",
    "#plot confusion matrix\n",
    "cm_plot=plot_confusion_matrix(cnf_matrix, ['died','survived'])"
   ]
  },
  {
   "cell_type": "code",
   "execution_count": 82,
   "metadata": {
    "scrolled": false
   },
   "outputs": [
    {
     "name": "stdout",
     "output_type": "stream",
     "text": [
      "precision: 0.828\n",
      "recall: 0.749\n",
      "F1_score: 0.786\n"
     ]
    },
    {
     "data": {
      "text/plain": [
       "(0.8284789644012945, 0.7485380116959064, 0.7864823348694318)"
      ]
     },
     "execution_count": 82,
     "metadata": {},
     "output_type": "execute_result"
    }
   ],
   "source": [
    "# show metrics\n",
    "metric_scores(y_train, y_train_pred_dnn)"
   ]
  },
  {
   "cell_type": "markdown",
   "metadata": {},
   "source": [
    "The *recall* value tells us that our classifier detects 74.8% of all survivors (256/(256+86)).  Moreover, the *precision* value says that if the calssifier predicts a survivor (260), it is right in 82.8% (256/(256+53)) of all cases.\n",
    "\n",
    "The the F1_score is the harmonic mean of precicion and recall and is a good measure for the overall quality of our classifier. A perfect calassifier would have a F1_score equal to one.\n",
    "\n",
    "To further evaluate our model, we calculate the probabilities for all instance. If the probability is <0.5, the prediction for the instance/passenger is 0 (died). For probabilities <=0.5 the survival prediction is 1 (survived)."
   ]
  },
  {
   "cell_type": "code",
   "execution_count": 83,
   "metadata": {
    "scrolled": false
   },
   "outputs": [],
   "source": [
    "# calculate probabilities for training dataset X_train\n",
    "y_train_proba_dnn = dnn_clf.predict(X_train)"
   ]
  },
  {
   "cell_type": "markdown",
   "metadata": {},
   "source": [
    "The following histogram shows the distribution of the probabilities of all instances that were predicted **correctly** by the classifier."
   ]
  },
  {
   "cell_type": "code",
   "execution_count": 84,
   "metadata": {},
   "outputs": [
    {
     "data": {
      "text/plain": [
       "<matplotlib.axes._subplots.AxesSubplot at 0x7f05d0ad7470>"
      ]
     },
     "execution_count": 84,
     "metadata": {},
     "output_type": "execute_result"
    },
    {
     "data": {
      "image/png": "[encoded data removed]",
      "text/plain": [
       "<Figure size 432x288 with 1 Axes>"
      ]
     },
     "metadata": {
      "needs_background": "light"
     },
     "output_type": "display_data"
    }
   ],
   "source": [
    "proba_df=pd.DataFrame(y_train_proba_dnn, columns=['probabilities'])*100\n",
    "proba_df['false_predictions']=(pd.DataFrame(y_train_pred_dnn)-pd.DataFrame(y_train))[0]\n",
    "proba_df['probabilities'][proba_df['false_predictions']==0].hist()"
   ]
  },
  {
   "cell_type": "markdown",
   "metadata": {},
   "source": [
    "The high number to the left (around 0) and to the right (around 1) suggests that the classifier was quite certain in most of the predictions that turned out to be **right**."
   ]
  },
  {
   "cell_type": "code",
   "execution_count": 85,
   "metadata": {
    "scrolled": false
   },
   "outputs": [
    {
     "data": {
      "text/plain": [
       "<matplotlib.axes._subplots.AxesSubplot at 0x7f05d09d8390>"
      ]
     },
     "execution_count": 85,
     "metadata": {},
     "output_type": "execute_result"
    },
    {
     "data": {
      "image/png": "[encoded data removed]",
      "text/plain": [
       "<Figure size 432x288 with 1 Axes>"
      ]
     },
     "metadata": {
      "needs_background": "light"
     },
     "output_type": "display_data"
    }
   ],
   "source": [
    "proba_df['probabilities'][proba_df['false_predictions']!=0].hist()"
   ]
  },
  {
   "cell_type": "markdown",
   "metadata": {},
   "source": [
    "Regarding the **false** predictions, there is a majority around 0.5. Hence, cases where the information on the passenger was not conclusive enough to make a desicive prediction. By further feature engennering or by improving our model, it might be possible to predict some of this cases around 0.5 right.\n",
    "\n",
    "However, there is also a high number of instances with probabilities close to 0, where the classifier obviously was convinced that the passenger died. \n",
    "A good example for such a case is the passenger with the ID 18 (see below) that was predicted to not survive. A young male passenger traveling in the second class whose other family mambers died - a clear case for our classifier - however, this man survived. Well, even the best classifier can not cover such cases if there is no additional information that would have indicated a survival of this passenger."
   ]
  },
  {
   "cell_type": "code",
   "execution_count": 86,
   "metadata": {},
   "outputs": [
    {
     "data": {
      "text/html": [
       "<div>\n",
       "<style scoped>\n",
       "    .dataframe tbody tr th:only-of-type {\n",
       "        vertical-align: middle;\n",
       "    }\n",
       "\n",
       "    .dataframe tbody tr th {\n",
       "        vertical-align: top;\n",
       "    }\n",
       "\n",
       "    .dataframe thead th {\n",
       "        text-align: right;\n",
       "    }\n",
       "</style>\n",
       "<table border=\"1\" class=\"dataframe\">\n",
       "  <thead>\n",
       "    <tr style=\"text-align: right;\">\n",
       "      <th></th>\n",
       "      <th>Age</th>\n",
       "      <th>Cabin</th>\n",
       "      <th>Embarked</th>\n",
       "      <th>Fare</th>\n",
       "      <th>Name</th>\n",
       "      <th>Parch</th>\n",
       "      <th>PassengerId</th>\n",
       "      <th>Pclass</th>\n",
       "      <th>Sex</th>\n",
       "      <th>SibSp</th>\n",
       "      <th>...</th>\n",
       "      <th>Ticket</th>\n",
       "      <th>Title</th>\n",
       "      <th>AgeCat</th>\n",
       "      <th>FamilySize</th>\n",
       "      <th>Last_Name</th>\n",
       "      <th>FamilySurvival</th>\n",
       "      <th>FareCorr</th>\n",
       "      <th>FareCat</th>\n",
       "      <th>false_predictions</th>\n",
       "      <th>probabilities</th>\n",
       "    </tr>\n",
       "  </thead>\n",
       "  <tbody>\n",
       "    <tr>\n",
       "      <th>17</th>\n",
       "      <td>29.0</td>\n",
       "      <td>NaN</td>\n",
       "      <td>S</td>\n",
       "      <td>13.0</td>\n",
       "      <td>Williams, Mr. Charles Eugene</td>\n",
       "      <td>0</td>\n",
       "      <td>18</td>\n",
       "      <td>2</td>\n",
       "      <td>male</td>\n",
       "      <td>0</td>\n",
       "      <td>...</td>\n",
       "      <td>244373</td>\n",
       "      <td>Mr</td>\n",
       "      <td>2</td>\n",
       "      <td>Single</td>\n",
       "      <td>Williams</td>\n",
       "      <td>0.0</td>\n",
       "      <td>13.0</td>\n",
       "      <td>5</td>\n",
       "      <td>-1</td>\n",
       "      <td>4.786698</td>\n",
       "    </tr>\n",
       "  </tbody>\n",
       "</table>\n",
       "<p>1 rows × 21 columns</p>\n",
       "</div>"
      ],
      "text/plain": [
       "     Age Cabin Embarked  Fare                          Name  Parch  \\\n",
       "17  29.0   NaN        S  13.0  Williams, Mr. Charles Eugene      0   \n",
       "\n",
       "    PassengerId  Pclass   Sex  SibSp  ...  Ticket Title AgeCat FamilySize  \\\n",
       "17           18       2  male      0  ...  244373    Mr      2     Single   \n",
       "\n",
       "   Last_Name FamilySurvival  FareCorr  FareCat false_predictions  \\\n",
       "17  Williams            0.0      13.0        5                -1   \n",
       "\n",
       "    probabilities  \n",
       "17       4.786698  \n",
       "\n",
       "[1 rows x 21 columns]"
      ]
     },
     "execution_count": 86,
     "metadata": {},
     "output_type": "execute_result"
    }
   ],
   "source": [
    "check_df=data[:891].copy()\n",
    "check_df['false_predictions']=proba_df['false_predictions']\n",
    "check_df['probabilities']=proba_df['probabilities']\n",
    "#check_df[check_df['false_predictions']!=0].head()\n",
    "check_df[check_df['PassengerId']==18]"
   ]
  },
  {
   "cell_type": "markdown",
   "metadata": {},
   "source": [
    "Looking for a way to improve the number of false predictions rises the question of how the model actually comes up with its decisions. \n",
    "\n",
    "For some classifiers (e.g. desicion trees) it is quite easy to trace how the decisions of the model. A neural network, however, is bit like a black box and it is usually not straight forward to understand or visualize the decision making. A nice visualization for a few simple problems can be found [here](https://playground.tensorflow.org/#activation=tanh&batchSize=10&dataset=circle&regDataset=reg-plane&learningRate=0.03&regularizationRate=0&noise=0&networkShape=4,2&seed=0.37306&showTestData=false&discretize=false&percTrainData=50&x=true&y=true&xTimesY=false&xSquared=false&ySquared=false&cosX=false&sinX=false&cosY=false&sinY=false&collectStats=false&problem=classification&initZero=false&hideText=false).\n",
    "\n",
    "So let's bring a bit of light into our model and have a look a the importance of the different features. To this end, we use [PermutationImportance](https://eli5.readthedocs.io/en/latest/blackbox/permutation_importance.html) which is capable of computing feature importances for a number of black-box estimators by measuring how the score decreases when a feature is not available. in concrete, the feature importances is computed as mean decrease of the score when a feature is permuted, i.e. substitued by noise. \n",
    "\n",
    "To make use of PermutationImportance, we make use of the scikit-learn classifier API for Keras. To analyze the feature importances we have to create and train a KerasClassifier which is identical to our model. Here we go:"
   ]
  },
  {
   "cell_type": "code",
   "execution_count": 87,
   "metadata": {
    "scrolled": true
   },
   "outputs": [
    {
     "name": "stdout",
     "output_type": "stream",
     "text": [
      "Train on 891 samples\n",
      "Epoch 1/30\n",
      "891/891 [==============================] - 1s 1ms/sample - loss: 0.7202 - accuracy: 0.4523\n",
      "Epoch 2/30\n",
      "891/891 [==============================] - 0s 64us/sample - loss: 0.6586 - accuracy: 0.6330\n",
      "Epoch 3/30\n",
      "891/891 [==============================] - 0s 64us/sample - loss: 0.6074 - accuracy: 0.7172\n",
      "Epoch 4/30\n",
      "891/891 [==============================] - 0s 62us/sample - loss: 0.5621 - accuracy: 0.7856\n",
      "Epoch 5/30\n",
      "891/891 [==============================] - 0s 66us/sample - loss: 0.5215 - accuracy: 0.7957\n",
      "Epoch 6/30\n",
      "891/891 [==============================] - 0s 61us/sample - loss: 0.4859 - accuracy: 0.8013\n",
      "Epoch 7/30\n",
      "891/891 [==============================] - 0s 64us/sample - loss: 0.4580 - accuracy: 0.8204\n",
      "Epoch 8/30\n",
      "891/891 [==============================] - 0s 65us/sample - loss: 0.4372 - accuracy: 0.8350\n",
      "Epoch 9/30\n",
      "891/891 [==============================] - 0s 72us/sample - loss: 0.4227 - accuracy: 0.8361\n",
      "Epoch 10/30\n",
      "891/891 [==============================] - 0s 67us/sample - loss: 0.4118 - accuracy: 0.8418\n",
      "Epoch 11/30\n",
      "891/891 [==============================] - 0s 61us/sample - loss: 0.4046 - accuracy: 0.8418\n",
      "Epoch 12/30\n",
      "891/891 [==============================] - 0s 65us/sample - loss: 0.3998 - accuracy: 0.8429\n",
      "Epoch 13/30\n",
      "891/891 [==============================] - 0s 65us/sample - loss: 0.3955 - accuracy: 0.8451\n",
      "Epoch 14/30\n",
      "891/891 [==============================] - 0s 61us/sample - loss: 0.3928 - accuracy: 0.8440\n",
      "Epoch 15/30\n",
      "891/891 [==============================] - 0s 65us/sample - loss: 0.3903 - accuracy: 0.8451\n",
      "Epoch 16/30\n",
      "891/891 [==============================] - 0s 67us/sample - loss: 0.3877 - accuracy: 0.8462\n",
      "Epoch 17/30\n",
      "891/891 [==============================] - 0s 66us/sample - loss: 0.3860 - accuracy: 0.8462\n",
      "Epoch 18/30\n",
      "891/891 [==============================] - 0s 65us/sample - loss: 0.3841 - accuracy: 0.8451\n",
      "Epoch 19/30\n",
      "891/891 [==============================] - 0s 66us/sample - loss: 0.3828 - accuracy: 0.8507\n",
      "Epoch 20/30\n",
      "891/891 [==============================] - 0s 64us/sample - loss: 0.3811 - accuracy: 0.8485\n",
      "Epoch 21/30\n",
      "891/891 [==============================] - 0s 64us/sample - loss: 0.3800 - accuracy: 0.8485\n",
      "Epoch 22/30\n",
      "891/891 [==============================] - 0s 64us/sample - loss: 0.3787 - accuracy: 0.8485\n",
      "Epoch 23/30\n",
      "891/891 [==============================] - 0s 60us/sample - loss: 0.3777 - accuracy: 0.8462\n",
      "Epoch 24/30\n",
      "891/891 [==============================] - 0s 65us/sample - loss: 0.3762 - accuracy: 0.8485\n",
      "Epoch 25/30\n",
      "891/891 [==============================] - 0s 66us/sample - loss: 0.3756 - accuracy: 0.8485\n",
      "Epoch 26/30\n",
      "891/891 [==============================] - 0s 81us/sample - loss: 0.3746 - accuracy: 0.8462\n",
      "Epoch 27/30\n",
      "891/891 [==============================] - 0s 81us/sample - loss: 0.3739 - accuracy: 0.8462\n",
      "Epoch 28/30\n",
      "891/891 [==============================] - 0s 65us/sample - loss: 0.3732 - accuracy: 0.8429\n",
      "Epoch 29/30\n",
      "891/891 [==============================] - 0s 64us/sample - loss: 0.3724 - accuracy: 0.8440\n",
      "Epoch 30/30\n",
      "891/891 [==============================] - 0s 64us/sample - loss: 0.3717 - accuracy: 0.8440\n",
      "891/891 [==============================] - 0s 140us/sample - loss: 0.3699 - accuracy: 0.8440\n",
      "891/891 [==============================] - 0s 39us/sample - loss: 0.3820 - accuracy: 0.8429\n",
      "891/891 [==============================] - 0s 37us/sample - loss: 0.3754 - accuracy: 0.8350\n",
      "891/891 [==============================] - 0s 39us/sample - loss: 0.3864 - accuracy: 0.8373\n",
      "891/891 [==============================] - 0s 49us/sample - loss: 0.4021 - accuracy: 0.8193\n",
      "891/891 [==============================] - 0s 40us/sample - loss: 0.3908 - accuracy: 0.8395\n",
      "891/891 [==============================] - 0s 38us/sample - loss: 0.4026 - accuracy: 0.8204\n",
      "891/891 [==============================] - 0s 44us/sample - loss: 0.3751 - accuracy: 0.8485\n",
      "891/891 [==============================] - 0s 39us/sample - loss: 0.4127 - accuracy: 0.8272\n",
      "891/891 [==============================] - 0s 37us/sample - loss: 0.3785 - accuracy: 0.8440\n",
      "891/891 [==============================] - 0s 37us/sample - loss: 0.3710 - accuracy: 0.8440\n",
      "891/891 [==============================] - 0s 37us/sample - loss: 0.3710 - accuracy: 0.8440\n",
      "891/891 [==============================] - 0s 37us/sample - loss: 0.3709 - accuracy: 0.8451\n",
      "891/891 [==============================] - 0s 39us/sample - loss: 0.3777 - accuracy: 0.8395\n",
      "891/891 [==============================] - 0s 37us/sample - loss: 0.3714 - accuracy: 0.8462\n",
      "891/891 [==============================] - 0s 38us/sample - loss: 0.3713 - accuracy: 0.8462\n",
      "891/891 [==============================] - 0s 39us/sample - loss: 0.3733 - accuracy: 0.8406\n",
      "891/891 [==============================] - 0s 39us/sample - loss: 0.3734 - accuracy: 0.8418\n",
      "891/891 [==============================] - 0s 39us/sample - loss: 0.3937 - accuracy: 0.8305\n",
      "891/891 [==============================] - 0s 38us/sample - loss: 0.3767 - accuracy: 0.8485\n",
      "891/891 [==============================] - 0s 38us/sample - loss: 0.3741 - accuracy: 0.8451\n",
      "891/891 [==============================] - 0s 38us/sample - loss: 0.3883 - accuracy: 0.8305\n",
      "891/891 [==============================] - 0s 39us/sample - loss: 0.3749 - accuracy: 0.8474\n",
      "891/891 [==============================] - 0s 39us/sample - loss: 0.3994 - accuracy: 0.8361\n",
      "891/891 [==============================] - 0s 45us/sample - loss: 0.3733 - accuracy: 0.8395\n",
      "891/891 [==============================] - 0s 37us/sample - loss: 0.3714 - accuracy: 0.8451\n",
      "891/891 [==============================] - 0s 38us/sample - loss: 0.3717 - accuracy: 0.8440\n",
      "891/891 [==============================] - 0s 38us/sample - loss: 0.3732 - accuracy: 0.8519\n",
      "891/891 [==============================] - 0s 36us/sample - loss: 0.3781 - accuracy: 0.8462\n",
      "891/891 [==============================] - 0s 37us/sample - loss: 0.3722 - accuracy: 0.8474\n",
      "891/891 [==============================] - 0s 39us/sample - loss: 0.3721 - accuracy: 0.8485\n",
      "891/891 [==============================] - 0s 41us/sample - loss: 0.3878 - accuracy: 0.8429\n",
      "891/891 [==============================] - 0s 38us/sample - loss: 0.3753 - accuracy: 0.8406\n",
      "891/891 [==============================] - 0s 37us/sample - loss: 0.3928 - accuracy: 0.8361\n",
      "891/891 [==============================] - 0s 39us/sample - loss: 0.3966 - accuracy: 0.8272\n",
      "891/891 [==============================] - 0s 37us/sample - loss: 0.3878 - accuracy: 0.8406\n",
      "891/891 [==============================] - 0s 38us/sample - loss: 0.3991 - accuracy: 0.8260\n",
      "891/891 [==============================] - 0s 37us/sample - loss: 0.3739 - accuracy: 0.8395\n",
      "891/891 [==============================] - 0s 37us/sample - loss: 0.4088 - accuracy: 0.8227\n",
      "891/891 [==============================] - 0s 38us/sample - loss: 0.3783 - accuracy: 0.8373\n",
      "891/891 [==============================] - 0s 39us/sample - loss: 0.3699 - accuracy: 0.8440\n",
      "891/891 [==============================] - 0s 39us/sample - loss: 0.3710 - accuracy: 0.8462\n",
      "891/891 [==============================] - 0s 37us/sample - loss: 0.3706 - accuracy: 0.8451\n",
      "891/891 [==============================] - 0s 37us/sample - loss: 0.3784 - accuracy: 0.8395\n",
      "891/891 [==============================] - 0s 39us/sample - loss: 0.3711 - accuracy: 0.8440\n",
      "891/891 [==============================] - 0s 38us/sample - loss: 0.3702 - accuracy: 0.8451\n",
      "891/891 [==============================] - 0s 38us/sample - loss: 0.3759 - accuracy: 0.8429\n",
      "891/891 [==============================] - 0s 36us/sample - loss: 0.3698 - accuracy: 0.8440\n",
      "891/891 [==============================] - 0s 39us/sample - loss: 0.3865 - accuracy: 0.8384\n",
      "891/891 [==============================] - 0s 38us/sample - loss: 0.3764 - accuracy: 0.8451\n",
      "891/891 [==============================] - 0s 45us/sample - loss: 0.3745 - accuracy: 0.8429\n",
      "891/891 [==============================] - 0s 38us/sample - loss: 0.3823 - accuracy: 0.8283\n",
      "891/891 [==============================] - 0s 36us/sample - loss: 0.3737 - accuracy: 0.8440\n",
      "891/891 [==============================] - 0s 37us/sample - loss: 0.3944 - accuracy: 0.8373\n",
      "891/891 [==============================] - 0s 38us/sample - loss: 0.3742 - accuracy: 0.8373\n",
      "891/891 [==============================] - 0s 37us/sample - loss: 0.3724 - accuracy: 0.8440\n",
      "891/891 [==============================] - 0s 39us/sample - loss: 0.3715 - accuracy: 0.8440\n",
      "891/891 [==============================] - 0s 38us/sample - loss: 0.3729 - accuracy: 0.8418\n",
      "891/891 [==============================] - 0s 38us/sample - loss: 0.3786 - accuracy: 0.8451\n",
      "891/891 [==============================] - 0s 38us/sample - loss: 0.3720 - accuracy: 0.8485\n",
      "891/891 [==============================] - 0s 36us/sample - loss: 0.3737 - accuracy: 0.8462\n",
      "891/891 [==============================] - 0s 40us/sample - loss: 0.3854 - accuracy: 0.8418\n",
      "891/891 [==============================] - 0s 38us/sample - loss: 0.3740 - accuracy: 0.8384\n",
      "891/891 [==============================] - 0s 39us/sample - loss: 0.3901 - accuracy: 0.8283\n",
      "891/891 [==============================] - 0s 39us/sample - loss: 0.4044 - accuracy: 0.8249\n",
      "891/891 [==============================] - 0s 38us/sample - loss: 0.3969 - accuracy: 0.8283\n",
      "891/891 [==============================] - 0s 38us/sample - loss: 0.3931 - accuracy: 0.8283\n",
      "891/891 [==============================] - 0s 37us/sample - loss: 0.3734 - accuracy: 0.8462\n",
      "891/891 [==============================] - 0s 37us/sample - loss: 0.4148 - accuracy: 0.8103\n",
      "891/891 [==============================] - 0s 37us/sample - loss: 0.3875 - accuracy: 0.8373\n",
      "891/891 [==============================] - 0s 38us/sample - loss: 0.3702 - accuracy: 0.8440\n",
      "891/891 [==============================] - 0s 39us/sample - loss: 0.3720 - accuracy: 0.8462\n",
      "891/891 [==============================] - 0s 37us/sample - loss: 0.3718 - accuracy: 0.8440\n",
      "891/891 [==============================] - 0s 38us/sample - loss: 0.3771 - accuracy: 0.8373\n",
      "891/891 [==============================] - 0s 38us/sample - loss: 0.3707 - accuracy: 0.8462\n",
      "891/891 [==============================] - 0s 38us/sample - loss: 0.3705 - accuracy: 0.8440\n",
      "891/891 [==============================] - 0s 38us/sample - loss: 0.3780 - accuracy: 0.8440\n",
      "891/891 [==============================] - 0s 39us/sample - loss: 0.3712 - accuracy: 0.8429\n",
      "891/891 [==============================] - 0s 38us/sample - loss: 0.3870 - accuracy: 0.8305\n",
      "891/891 [==============================] - 0s 37us/sample - loss: 0.3739 - accuracy: 0.8474\n",
      "891/891 [==============================] - 0s 38us/sample - loss: 0.3743 - accuracy: 0.8418\n",
      "891/891 [==============================] - 0s 40us/sample - loss: 0.3828 - accuracy: 0.8294\n",
      "891/891 [==============================] - 0s 38us/sample - loss: 0.3748 - accuracy: 0.8462\n",
      "891/891 [==============================] - 0s 38us/sample - loss: 0.4002 - accuracy: 0.8395\n",
      "891/891 [==============================] - 0s 38us/sample - loss: 0.3769 - accuracy: 0.8406\n",
      "891/891 [==============================] - 0s 39us/sample - loss: 0.3709 - accuracy: 0.8451\n",
      "891/891 [==============================] - 0s 39us/sample - loss: 0.3706 - accuracy: 0.8462\n",
      "891/891 [==============================] - 0s 39us/sample - loss: 0.3741 - accuracy: 0.8395\n",
      "891/891 [==============================] - 0s 38us/sample - loss: 0.3804 - accuracy: 0.8440\n",
      "891/891 [==============================] - 0s 38us/sample - loss: 0.3705 - accuracy: 0.8462\n",
      "891/891 [==============================] - 0s 38us/sample - loss: 0.3717 - accuracy: 0.8474\n",
      "891/891 [==============================] - 0s 38us/sample - loss: 0.3797 - accuracy: 0.8451\n",
      "891/891 [==============================] - 0s 39us/sample - loss: 0.3738 - accuracy: 0.8418\n",
      "891/891 [==============================] - 0s 39us/sample - loss: 0.3785 - accuracy: 0.8406\n",
      "891/891 [==============================] - 0s 38us/sample - loss: 0.3922 - accuracy: 0.8429\n",
      "891/891 [==============================] - 0s 39us/sample - loss: 0.3941 - accuracy: 0.8384\n",
      "891/891 [==============================] - 0s 38us/sample - loss: 0.3917 - accuracy: 0.8283\n",
      "891/891 [==============================] - 0s 37us/sample - loss: 0.3739 - accuracy: 0.8440\n",
      "891/891 [==============================] - 0s 37us/sample - loss: 0.4104 - accuracy: 0.8283\n",
      "891/891 [==============================] - 0s 37us/sample - loss: 0.3777 - accuracy: 0.8429\n",
      "891/891 [==============================] - 0s 38us/sample - loss: 0.3703 - accuracy: 0.8440\n",
      "891/891 [==============================] - 0s 42us/sample - loss: 0.3716 - accuracy: 0.8451\n",
      "891/891 [==============================] - 0s 37us/sample - loss: 0.3715 - accuracy: 0.8406\n",
      "891/891 [==============================] - 0s 49us/sample - loss: 0.3761 - accuracy: 0.8361\n",
      "891/891 [==============================] - 0s 41us/sample - loss: 0.3710 - accuracy: 0.8474\n",
      "891/891 [==============================] - 0s 39us/sample - loss: 0.3705 - accuracy: 0.8451\n",
      "891/891 [==============================] - 0s 39us/sample - loss: 0.3747 - accuracy: 0.8440\n",
      "891/891 [==============================] - 0s 38us/sample - loss: 0.3722 - accuracy: 0.8429\n",
      "891/891 [==============================] - 0s 38us/sample - loss: 0.3907 - accuracy: 0.8294\n",
      "891/891 [==============================] - 0s 40us/sample - loss: 0.3756 - accuracy: 0.8440\n",
      "891/891 [==============================] - 0s 38us/sample - loss: 0.3723 - accuracy: 0.8451\n",
      "891/891 [==============================] - 0s 39us/sample - loss: 0.3956 - accuracy: 0.8294\n",
      "891/891 [==============================] - 0s 37us/sample - loss: 0.3743 - accuracy: 0.8451\n",
      "891/891 [==============================] - 0s 38us/sample - loss: 0.3946 - accuracy: 0.8451\n",
      "891/891 [==============================] - 0s 38us/sample - loss: 0.3754 - accuracy: 0.8406\n",
      "891/891 [==============================] - 0s 39us/sample - loss: 0.3712 - accuracy: 0.8451\n",
      "891/891 [==============================] - 0s 42us/sample - loss: 0.3707 - accuracy: 0.8462\n",
      "891/891 [==============================] - 0s 37us/sample - loss: 0.3737 - accuracy: 0.8474\n",
      "891/891 [==============================] - 0s 38us/sample - loss: 0.3744 - accuracy: 0.8440\n",
      "891/891 [==============================] - 0s 38us/sample - loss: 0.3714 - accuracy: 0.8451\n",
      "891/891 [==============================] - 0s 38us/sample - loss: 0.3702 - accuracy: 0.8462\n",
      "891/891 [==============================] - 0s 38us/sample - loss: 0.3876 - accuracy: 0.8440\n",
      "891/891 [==============================] - 0s 38us/sample - loss: 0.3753 - accuracy: 0.8406\n",
      "891/891 [==============================] - 0s 38us/sample - loss: 0.3897 - accuracy: 0.8339\n",
      "891/891 [==============================] - 0s 40us/sample - loss: 0.3913 - accuracy: 0.8395\n",
      "891/891 [==============================] - 0s 38us/sample - loss: 0.3935 - accuracy: 0.8373\n",
      "891/891 [==============================] - 0s 37us/sample - loss: 0.3990 - accuracy: 0.8215\n",
      "891/891 [==============================] - 0s 38us/sample - loss: 0.3734 - accuracy: 0.8474\n",
      "891/891 [==============================] - 0s 39us/sample - loss: 0.4082 - accuracy: 0.8272\n",
      "891/891 [==============================] - 0s 41us/sample - loss: 0.3851 - accuracy: 0.8316\n",
      "891/891 [==============================] - 0s 38us/sample - loss: 0.3700 - accuracy: 0.8451\n",
      "891/891 [==============================] - 0s 38us/sample - loss: 0.3749 - accuracy: 0.8451\n",
      "891/891 [==============================] - 0s 37us/sample - loss: 0.3708 - accuracy: 0.8440\n",
      "891/891 [==============================] - 0s 38us/sample - loss: 0.3759 - accuracy: 0.8361\n",
      "891/891 [==============================] - 0s 39us/sample - loss: 0.3701 - accuracy: 0.8462\n",
      "891/891 [==============================] - 0s 37us/sample - loss: 0.3702 - accuracy: 0.8429\n",
      "891/891 [==============================] - 0s 38us/sample - loss: 0.3761 - accuracy: 0.8429\n",
      "891/891 [==============================] - 0s 38us/sample - loss: 0.3723 - accuracy: 0.8429\n",
      "891/891 [==============================] - 0s 38us/sample - loss: 0.3901 - accuracy: 0.8339\n",
      "891/891 [==============================] - 0s 108us/sample - loss: 0.3809 - accuracy: 0.8418\n",
      "891/891 [==============================] - 0s 69us/sample - loss: 0.3722 - accuracy: 0.8496\n",
      "891/891 [==============================] - 0s 74us/sample - loss: 0.3882 - accuracy: 0.8316\n",
      "891/891 [==============================] - 0s 79us/sample - loss: 0.3726 - accuracy: 0.8451\n",
      "891/891 [==============================] - 0s 75us/sample - loss: 0.4033 - accuracy: 0.8339\n",
      "891/891 [==============================] - 0s 67us/sample - loss: 0.3716 - accuracy: 0.8429\n",
      "891/891 [==============================] - 0s 69us/sample - loss: 0.3712 - accuracy: 0.8451\n",
      "891/891 [==============================] - 0s 73us/sample - loss: 0.3709 - accuracy: 0.8451\n",
      "891/891 [==============================] - 0s 89us/sample - loss: 0.3746 - accuracy: 0.8474\n",
      "891/891 [==============================] - 0s 76us/sample - loss: 0.3807 - accuracy: 0.8406\n",
      "891/891 [==============================] - 0s 75us/sample - loss: 0.3699 - accuracy: 0.8474\n",
      "891/891 [==============================] - 0s 71us/sample - loss: 0.3724 - accuracy: 0.8485\n"
     ]
    }
   ],
   "source": [
    "np.random.seed(42)\n",
    "tf.random.set_seed(42)\n",
    "\n",
    "# build and train KerasClassifier\n",
    "dnn_clf_fi=KerasClassifier(build_fn = create_model)\n",
    "dnn_clf_fi.fit(X_train, y_train, epochs=30, batch_size=30)\n",
    "\n",
    "# calculate feature importance\n",
    "perm = PermutationImportance(dnn_clf_fi, random_state=42).fit(X_train,y_train)\n"
   ]
  },
  {
   "cell_type": "markdown",
   "metadata": {},
   "source": [
    "Below you can see the top 10 features:"
   ]
  },
  {
   "cell_type": "code",
   "execution_count": 88,
   "metadata": {},
   "outputs": [
    {
     "data": {
      "text/html": [
       "<div>\n",
       "<style scoped>\n",
       "    .dataframe tbody tr th:only-of-type {\n",
       "        vertical-align: middle;\n",
       "    }\n",
       "\n",
       "    .dataframe tbody tr th {\n",
       "        vertical-align: top;\n",
       "    }\n",
       "\n",
       "    .dataframe thead th {\n",
       "        text-align: right;\n",
       "    }\n",
       "</style>\n",
       "<table border=\"1\" class=\"dataframe\">\n",
       "  <thead>\n",
       "    <tr style=\"text-align: right;\">\n",
       "      <th></th>\n",
       "      <th>score reduction in % points</th>\n",
       "    </tr>\n",
       "  </thead>\n",
       "  <tbody>\n",
       "    <tr>\n",
       "      <th>Title_Mr</th>\n",
       "      <td>2.09</td>\n",
       "    </tr>\n",
       "    <tr>\n",
       "      <th>Title_Master</th>\n",
       "      <td>1.91</td>\n",
       "    </tr>\n",
       "    <tr>\n",
       "      <th>FamilySurvival_0.0</th>\n",
       "      <td>1.41</td>\n",
       "    </tr>\n",
       "    <tr>\n",
       "      <th>Sex_female</th>\n",
       "      <td>1.32</td>\n",
       "    </tr>\n",
       "    <tr>\n",
       "      <th>FamilySize_Big</th>\n",
       "      <td>1.14</td>\n",
       "    </tr>\n",
       "    <tr>\n",
       "      <th>Pclass_3</th>\n",
       "      <td>0.88</td>\n",
       "    </tr>\n",
       "    <tr>\n",
       "      <th>Sex_male</th>\n",
       "      <td>0.72</td>\n",
       "    </tr>\n",
       "    <tr>\n",
       "      <th>AgeCat_1</th>\n",
       "      <td>0.63</td>\n",
       "    </tr>\n",
       "    <tr>\n",
       "      <th>FamilySurvival_1.0</th>\n",
       "      <td>0.56</td>\n",
       "    </tr>\n",
       "    <tr>\n",
       "      <th>Title_Mrs</th>\n",
       "      <td>0.54</td>\n",
       "    </tr>\n",
       "  </tbody>\n",
       "</table>\n",
       "</div>"
      ],
      "text/plain": [
       "                    score reduction in % points\n",
       "Title_Mr                                   2.09\n",
       "Title_Master                               1.91\n",
       "FamilySurvival_0.0                         1.41\n",
       "Sex_female                                 1.32\n",
       "FamilySize_Big                             1.14\n",
       "Pclass_3                                   0.88\n",
       "Sex_male                                   0.72\n",
       "AgeCat_1                                   0.63\n",
       "FamilySurvival_1.0                         0.56\n",
       "Title_Mrs                                  0.54"
      ]
     },
     "execution_count": 88,
     "metadata": {},
     "output_type": "execute_result"
    }
   ],
   "source": [
    "feature_importance_ann(perm, feature_names, top_values=10, neg_values=False)"
   ]
  },
  {
   "cell_type": "code",
   "execution_count": 89,
   "metadata": {
    "scrolled": false
   },
   "outputs": [
    {
     "data": {
      "text/html": [
       "<div>\n",
       "<style scoped>\n",
       "    .dataframe tbody tr th:only-of-type {\n",
       "        vertical-align: middle;\n",
       "    }\n",
       "\n",
       "    .dataframe tbody tr th {\n",
       "        vertical-align: top;\n",
       "    }\n",
       "\n",
       "    .dataframe thead th {\n",
       "        text-align: right;\n",
       "    }\n",
       "</style>\n",
       "<table border=\"1\" class=\"dataframe\">\n",
       "  <thead>\n",
       "    <tr style=\"text-align: right;\">\n",
       "      <th></th>\n",
       "      <th>score reduction in % points</th>\n",
       "    </tr>\n",
       "  </thead>\n",
       "  <tbody>\n",
       "    <tr>\n",
       "      <th>FareCat_7</th>\n",
       "      <td>-0.34</td>\n",
       "    </tr>\n",
       "    <tr>\n",
       "      <th>FareCat_6</th>\n",
       "      <td>-0.29</td>\n",
       "    </tr>\n",
       "    <tr>\n",
       "      <th>AgeCat_2</th>\n",
       "      <td>-0.20</td>\n",
       "    </tr>\n",
       "    <tr>\n",
       "      <th>FamilySurvival_0.5</th>\n",
       "      <td>-0.16</td>\n",
       "    </tr>\n",
       "    <tr>\n",
       "      <th>FareCat_4</th>\n",
       "      <td>-0.16</td>\n",
       "    </tr>\n",
       "    <tr>\n",
       "      <th>Title_Others</th>\n",
       "      <td>-0.13</td>\n",
       "    </tr>\n",
       "    <tr>\n",
       "      <th>FamilySize_Single</th>\n",
       "      <td>-0.13</td>\n",
       "    </tr>\n",
       "    <tr>\n",
       "      <th>Title_Miss</th>\n",
       "      <td>-0.11</td>\n",
       "    </tr>\n",
       "    <tr>\n",
       "      <th>FareCat_3</th>\n",
       "      <td>-0.11</td>\n",
       "    </tr>\n",
       "    <tr>\n",
       "      <th>FamilySize_Small</th>\n",
       "      <td>-0.09</td>\n",
       "    </tr>\n",
       "    <tr>\n",
       "      <th>FareCat_2</th>\n",
       "      <td>-0.09</td>\n",
       "    </tr>\n",
       "    <tr>\n",
       "      <th>AgeCat_3</th>\n",
       "      <td>-0.07</td>\n",
       "    </tr>\n",
       "    <tr>\n",
       "      <th>Title_Noble</th>\n",
       "      <td>-0.02</td>\n",
       "    </tr>\n",
       "  </tbody>\n",
       "</table>\n",
       "</div>"
      ],
      "text/plain": [
       "                    score reduction in % points\n",
       "FareCat_7                                 -0.34\n",
       "FareCat_6                                 -0.29\n",
       "AgeCat_2                                  -0.20\n",
       "FamilySurvival_0.5                        -0.16\n",
       "FareCat_4                                 -0.16\n",
       "Title_Others                              -0.13\n",
       "FamilySize_Single                         -0.13\n",
       "Title_Miss                                -0.11\n",
       "FareCat_3                                 -0.11\n",
       "FamilySize_Small                          -0.09\n",
       "FareCat_2                                 -0.09\n",
       "AgeCat_3                                  -0.07\n",
       "Title_Noble                               -0.02"
      ]
     },
     "execution_count": 89,
     "metadata": {},
     "output_type": "execute_result"
    }
   ],
   "source": [
    "feature_importance_ann(perm, feature_names, top_values=20, neg_values=True)"
   ]
  },
  {
   "cell_type": "markdown",
   "metadata": {},
   "source": [
    "Here, obviously the feature *Title_Mr* which was created during data preparation by the oneHotEncoder (chapter 6.2/6.3) is the most important feature. Moreover, it seems that all new features we created are somehow relevant for a good classification, which points out the important role of a solid feature engeneering.\n",
    "\n",
    "If we turn the above table upside down, we se that there are som features which show a negative score:"
   ]
  },
  {
   "cell_type": "markdown",
   "metadata": {},
   "source": [
    "A negative value means that our model might work better if we do not consider the respective feature.\n",
    "\n",
    "Using SelectFromModel one can create a new training dataset containing only the most important features. The code below shows how to select the top 17 features. Optimizing the model on the best feature dataset might improve the general prediction score. I tested the top 17 features (hence, all features without negative values) and found that the validation score the score on the test data (kaggle) for incomparison to using the original 30 features.\n",
    "\n",
    "I do not show this analysis here in detail but feel free to try and to further optimize the feature selection. To use the best feature datasets X_train_bf/X_test_bf as definded below, uncomment the respective line for the definition of the GridSearchCV datasets X_train_gs/X_test_gs as indicated below in section 7.3."
   ]
  },
  {
   "cell_type": "code",
   "execution_count": 90,
   "metadata": {},
   "outputs": [],
   "source": [
    "# select k best features\n",
    "k = 17\n",
    "sel = SelectFromModel(perm, threshold=-np.inf, max_features=k, prefit=True)\n",
    "#get index of best features\n",
    "best_festures_index=np.where(sel.get_support()==True)\n",
    "\n",
    "# create training data with k selected features\n",
    "X_train_bf = data_post[:len(train['Survived']),best_festures_index[0]].copy()\n",
    "# create test data with k selected features\n",
    "X_test_bf = data_post[len(train['Survived']):,best_festures_index[0]].copy()"
   ]
  },
  {
   "cell_type": "markdown",
   "metadata": {},
   "source": [
    "In general, it should be mentioned that the feature importance strongly depends on the architecture of the model and the hyperparameters, i.e. a different number of layers or neurons per layer, for instance, may change the absolute and relative importance of single features. \n",
    "For instance, I testes the final model with and without implementing the title youngMiss. Although Title_youngMiss shows a feature importance of only 0.02 % points, including youngMiss improved the validation score and prediction on the test dataset by 0.5 % points. Also the absolut importances of the other features changed quite significnatly. \n",
    "\n",
    "Since some features are quite dominat and clear, one could try to build a wide & deep model where some features have more/less hidden layers to improve te quality of the model. Nervertheless, one should keep in mind that most of the times, the simple models are the best and more general ones."
   ]
  },
  {
   "cell_type": "markdown",
   "metadata": {},
   "source": [
    "### 7.2.2 Make predictions for the test dataset"
   ]
  },
  {
   "cell_type": "markdown",
   "metadata": {},
   "source": [
    "Now, knowing that our model is already quite good, we are ready to make the final predictions."
   ]
  },
  {
   "cell_type": "code",
   "execution_count": 91,
   "metadata": {
    "scrolled": true
   },
   "outputs": [],
   "source": [
    "# make predictions for X_test\n",
    "y_pred_dnn = dnn_clf.predict_classes(X_test)"
   ]
  },
  {
   "cell_type": "code",
   "execution_count": 92,
   "metadata": {
    "scrolled": false
   },
   "outputs": [
    {
     "data": {
      "text/html": [
       "<div>\n",
       "<style scoped>\n",
       "    .dataframe tbody tr th:only-of-type {\n",
       "        vertical-align: middle;\n",
       "    }\n",
       "\n",
       "    .dataframe tbody tr th {\n",
       "        vertical-align: top;\n",
       "    }\n",
       "\n",
       "    .dataframe thead th {\n",
       "        text-align: right;\n",
       "    }\n",
       "</style>\n",
       "<table border=\"1\" class=\"dataframe\">\n",
       "  <thead>\n",
       "    <tr style=\"text-align: right;\">\n",
       "      <th></th>\n",
       "      <th>PassengerId</th>\n",
       "      <th>Survived</th>\n",
       "    </tr>\n",
       "  </thead>\n",
       "  <tbody>\n",
       "    <tr>\n",
       "      <th>0</th>\n",
       "      <td>892</td>\n",
       "      <td>0</td>\n",
       "    </tr>\n",
       "    <tr>\n",
       "      <th>1</th>\n",
       "      <td>893</td>\n",
       "      <td>1</td>\n",
       "    </tr>\n",
       "    <tr>\n",
       "      <th>2</th>\n",
       "      <td>894</td>\n",
       "      <td>0</td>\n",
       "    </tr>\n",
       "    <tr>\n",
       "      <th>3</th>\n",
       "      <td>895</td>\n",
       "      <td>0</td>\n",
       "    </tr>\n",
       "    <tr>\n",
       "      <th>4</th>\n",
       "      <td>896</td>\n",
       "      <td>1</td>\n",
       "    </tr>\n",
       "  </tbody>\n",
       "</table>\n",
       "</div>"
      ],
      "text/plain": [
       "   PassengerId  Survived\n",
       "0          892         0\n",
       "1          893         1\n",
       "2          894         0\n",
       "3          895         0\n",
       "4          896         1"
      ]
     },
     "execution_count": 92,
     "metadata": {},
     "output_type": "execute_result"
    }
   ],
   "source": [
    "#convert to DataFrame and check\n",
    "my_submission=pred_to_df(y_pred_dnn)\n",
    "my_submission.head()"
   ]
  },
  {
   "cell_type": "code",
   "execution_count": 93,
   "metadata": {},
   "outputs": [],
   "source": [
    "# save to csv file\n",
    "save_to_csv(my_submission,'submission')"
   ]
  },
  {
   "cell_type": "markdown",
   "metadata": {},
   "source": [
    "### 7.3 Find optimum hyperparameters using GridSearch and cross-validation <a id=\"Model3\"></a>"
   ]
  },
  {
   "cell_type": "markdown",
   "metadata": {},
   "source": [
    "In the previous section, we have already seen how to build a pretty good ANN classifer. However, the hard part of getting a top classifier is to find the optimum set of hyperparameters. And this is what we are going to do now. \n",
    "\n",
    "For the optimization process I went through the following steps using GridSearchCV:\n",
    "\n",
    "1. Setting the activation function and the respective kernel initializer\n",
    "As the activation function for the hidden layers I chose the scaled exponential linear unit function *SELU* with the respective LeCun initialization. Using the [*SELU*](https://arxiv.org/abs/1706.02515) the network will self-normalize, where the output of each layer will preserve a mean of 0 and std of 1 during the training. This is in particular benefitial for deep networks which may face problems with vanishing/exploding gradients. For our rather shallow model this should not be a problem, nevertheless, the *SELU* performed at least 0.5% better than *ElU* or *ReLU* for different hyperparameters. \n",
    "\n",
    "2. Finding the best Optimizer\n",
    "I tried a number of different optimizers (see parameter grid below) and adtaptive moment estimation with the method, aka [*Nadam*](http://cs229.stanford.edu/proj2015/054_report.pdf), turned out to be the best one.\n",
    "\n",
    "2. Evaluationg the optimum learning\n",
    "The learing rate is the most likely the most important parameter. There are several techniqus to optimize the learing rate like ploting the learning curve for various learning rates or using elaborate methods like [*1cycle sheduling*](https://arxiv.org/abs/1803.09820). I tried several techniques, but for our rather simple model it was most practical to try different learning rates using GridSearchCV. I found a learning rate of 0.0005 (half the default value for Nadam) to deliver the best results.\n",
    "\n",
    "3. Optimizing the number of epochs\n",
    "Having found a good learning rate, one has to optimize the number of epochs per training run. I found 30 epochs to be a good number not to overfit the model. In general, to prevent overfitting one can use techniques like EarlyStopping or plot/compare the training vs the validation loss/score for a series of epochs (discussed below).\n",
    "I implemented EarlyStopping with a callback for GridSearchCV (see below), however, it was more practical to simply optimze the epochs and check that the training and the validation score do not diverge with increasing epochs. Especially, since with *patience* one introduces another hyperparameter which has to be optimized. Moreover, it should be noted that before using EarlyStopping whith cross-validation, [a few things](https://stackoverflow.com/questions/48127550/early-stopping-with-keras-and-sklearn-gridsearchcv-cross-validation) should to be considered.\n",
    "\n",
    "4. Finding the optimum batch size \n",
    "Again I used GridSearchCV and found 20 instances to be the best batch size. In general, what is the maximum batch size one should use is still under discussion. There are several controverse discussions in the community.\n",
    "\n",
    "5. Find the best model architecture:\n",
    "GridSearchCV found three combinations to be very similar in performance: #layers/#neurons: 3/10, 3/15, 2/10. \n",
    "The score of the three models lay within 0.3%. In the end I chose 2 hidden layers with 10 neurons each, since it performed best on the test data.\n",
    "\n",
    "One can optimze the hyperparameters by running GridSearch for all different parameters at once, which might take quite a while or find the best parameters by optimizing only one or a few parameters at a time and see how the model performs. Using the latter step-by-step method, it should be noted that one might have to go several times through the different steps in order to find the optimum parameters. \n",
    "\n",
    "So here is the GridSearchCV approach using a KerasClassifier:"
   ]
  },
  {
   "cell_type": "code",
   "execution_count": 94,
   "metadata": {},
   "outputs": [],
   "source": [
    "#If you want to optimize with the \"best features\" dataset X_train_bf, uncomment below.\n",
    "\n",
    "# training data: default is X_train as used before \n",
    "X_train_gs=X_train.copy()\n",
    "#X_train_gs=X_train_bf.copy() #best feature dataset\n",
    "\n",
    "# test data: default is X_train as used before\n",
    "X_test_gs=X_test.copy()\n",
    "#X_test_gs=X_test_bf.copy()  #best feature dataset"
   ]
  },
  {
   "cell_type": "code",
   "execution_count": 95,
   "metadata": {},
   "outputs": [
    {
     "name": "stdout",
     "output_type": "stream",
     "text": [
      "# instances: 891\n",
      "# features: 30\n"
     ]
    }
   ],
   "source": [
    "# check shape of X_train - number of instances and features\n",
    "print('# instances: '+ str(X_train_gs.shape[0]))\n",
    "print('# features: '+ str(X_train_gs.shape[1]))"
   ]
  },
  {
   "cell_type": "code",
   "execution_count": 96,
   "metadata": {
    "scrolled": false
   },
   "outputs": [],
   "source": [
    "keras.backend.clear_session()\n",
    "np.random.seed(42)\n",
    "tf.random.set_seed(42)\n",
    "\n",
    "# build classifier\n",
    "dnn_clf_gs = KerasClassifier(build_fn = create_model, verbose = 0)\n",
    "\n",
    "# define parameter grid: \n",
    "# uncomment the parameters you want to optimize\n",
    "param_grid = {\n",
    "    #\"optimizer\": ['Adam', 'Nadam', 'Adagrad', 'Adamax'],\n",
    "    #\"lr\":[0.005,0.001,0.0005]\n",
    "    #\"epochs\": [15, 30, 45, 60],\n",
    "    #\"batch_size\": [20,30,40],\n",
    "    #\"number_hidden\": [1, 2, 3],\n",
    "    #\"neurons_per_hidden\": [5, 10, 15],\n",
    "    'input_shape': X_train_gs.shape[1:]  # keep this line\n",
    "}\n",
    "\n",
    "# build GridSearchCV model with ANN classifier\n",
    "grid_search_dnn = GridSearchCV(dnn_clf_gs, param_grid, cv=5, n_jobs=-1, verbose=0, return_train_score=True)\n",
    "\n",
    "# fit GridSearchCV model\n",
    "training_gs = grid_search_dnn.fit(X_train_gs, y_train,\n",
    "                                 epochs = 30, \n",
    "                                 batch_size = 30,\n",
    "                                 validation_split=0.2, shuffle=True,\n",
    "                                 #callbacks=[keras.callbacks.EarlyStopping(patience=8)]\n",
    "                                )\n",
    "                                    "
   ]
  },
  {
   "cell_type": "code",
   "execution_count": 97,
   "metadata": {},
   "outputs": [
    {
     "name": "stdout",
     "output_type": "stream",
     "text": [
      "Mean training score:   84.46% (0.63%)\n",
      "Mean validation score: 82.6% (2.78%)\n"
     ]
    }
   ],
   "source": [
    "# mean scores for training and validation model after cross-validation\n",
    "print('Mean training score:   ' + str((grid_search_dnn.cv_results_['mean_train_score'][grid_search_dnn.best_index_]*100).round(2)) +'% (' + str((grid_search_dnn.cv_results_['std_train_score'][grid_search_dnn.best_index_]*100).round(2)) + '%)')\n",
    "print('Mean validation score: ' + str((grid_search_dnn.cv_results_['mean_test_score'][grid_search_dnn.best_index_]*100).round(2)) +'% (' + str((grid_search_dnn.cv_results_['std_test_score'][grid_search_dnn.best_index_]*100).round(2)) + '%)')"
   ]
  },
  {
   "cell_type": "markdown",
   "metadata": {},
   "source": [
    "The validation score evulated by cross-validation is quite close to the 83.3% score obtained for the test dataset. \n",
    "Also the training and validation score are rather similar which suggests that there is no/little overfitting. Hence, the model seems to be optimzed quite well.\n",
    "\n",
    "To see when overfitting sets in one can plot the training versus validation score/loss for several epochs (aka learning curve) as shown below. Note that in order to plot this curve you need to have validation data (stratified at best). However, since the Titanic data set is rather small you should train your final model using all the data (no validation split). So only use this during the optimization phase.  "
   ]
  },
  {
   "cell_type": "code",
   "execution_count": 98,
   "metadata": {},
   "outputs": [
    {
     "data": {
      "image/png": "[encoded data removed]",
      "text/plain": [
       "<Figure size 432x288 with 1 Axes>"
      ]
     },
     "metadata": {
      "needs_background": "light"
     },
     "output_type": "display_data"
    }
   ],
   "source": [
    "# summarize history for accuracy\n",
    "plt.plot(grid_search_dnn.best_estimator_.model.history.history['accuracy'], color='red')\n",
    "plt.plot(grid_search_dnn.best_estimator_.model.history.history['val_accuracy'], color='green')\n",
    "plt.plot(grid_search_dnn.best_estimator_.model.history.history['loss'], color='red')\n",
    "plt.plot(grid_search_dnn.best_estimator_.model.history.history['val_loss'], color='green')\n",
    "plt.title('model accuracy')\n",
    "plt.ylabel('accuracy')\n",
    "plt.xlabel('epochs')\n",
    "plt.legend(['train accuracy/loss', 'validation accuracy/loss',], loc='best')\n",
    "plt.show()"
   ]
  },
  {
   "cell_type": "markdown",
   "metadata": {},
   "source": [
    "The graph shows that the model converges well (might be still some room for improvement) and that there is no overfitting (would e.g. be indicated by divergence of training and validation loss after validation loss had a minimum). An explanation why the validation score/loss is higher/lower than the on of the training is explained [here](https://keras.io/getting-started/faq/#why-is-the-training-loss-much-higher-than-the-testing-loss).\n",
    "\n",
    "Now let's check which were the top parameter sets:"
   ]
  },
  {
   "cell_type": "code",
   "execution_count": 99,
   "metadata": {
    "scrolled": true
   },
   "outputs": [
    {
     "data": {
      "text/html": [
       "<div>\n",
       "<style scoped>\n",
       "    .dataframe tbody tr th:only-of-type {\n",
       "        vertical-align: middle;\n",
       "    }\n",
       "\n",
       "    .dataframe tbody tr th {\n",
       "        vertical-align: top;\n",
       "    }\n",
       "\n",
       "    .dataframe thead th {\n",
       "        text-align: right;\n",
       "    }\n",
       "</style>\n",
       "<table border=\"1\" class=\"dataframe\">\n",
       "  <thead>\n",
       "    <tr style=\"text-align: right;\">\n",
       "      <th></th>\n",
       "      <th>hyperparameter</th>\n",
       "      <th>value</th>\n",
       "    </tr>\n",
       "  </thead>\n",
       "  <tbody>\n",
       "    <tr>\n",
       "      <th>0</th>\n",
       "      <td>input_shape</td>\n",
       "      <td>30</td>\n",
       "    </tr>\n",
       "  </tbody>\n",
       "</table>\n",
       "</div>"
      ],
      "text/plain": [
       "  hyperparameter  value\n",
       "0    input_shape     30"
      ]
     },
     "execution_count": 99,
     "metadata": {},
     "output_type": "execute_result"
    }
   ],
   "source": [
    "# set of optimized hyperparameters -> best model\n",
    "pd.DataFrame(grid_search_dnn.best_params_.items(), columns=['hyperparameter','value'])"
   ]
  },
  {
   "cell_type": "code",
   "execution_count": 100,
   "metadata": {
    "scrolled": true
   },
   "outputs": [
    {
     "data": {
      "text/html": [
       "<div>\n",
       "<style scoped>\n",
       "    .dataframe tbody tr th:only-of-type {\n",
       "        vertical-align: middle;\n",
       "    }\n",
       "\n",
       "    .dataframe tbody tr th {\n",
       "        vertical-align: top;\n",
       "    }\n",
       "\n",
       "    .dataframe thead th {\n",
       "        text-align: right;\n",
       "    }\n",
       "</style>\n",
       "<table border=\"1\" class=\"dataframe\">\n",
       "  <thead>\n",
       "    <tr style=\"text-align: right;\">\n",
       "      <th></th>\n",
       "      <th>input_shape</th>\n",
       "      <th>train score in %</th>\n",
       "      <th>test score in %</th>\n",
       "      <th>test std in %</th>\n",
       "    </tr>\n",
       "  </thead>\n",
       "  <tbody>\n",
       "    <tr>\n",
       "      <th>1</th>\n",
       "      <td>30.0</td>\n",
       "      <td>84.456</td>\n",
       "      <td>82.602</td>\n",
       "      <td>2.783</td>\n",
       "    </tr>\n",
       "  </tbody>\n",
       "</table>\n",
       "</div>"
      ],
      "text/plain": [
       "   input_shape  train score in %  test score in %  test std in %\n",
       "1         30.0            84.456           82.602          2.783"
      ]
     },
     "execution_count": 100,
     "metadata": {},
     "output_type": "execute_result"
    }
   ],
   "source": [
    "# top 10 hyperparameter sets\n",
    "hyperparameter_analysis(grid_search_dnn, 10)"
   ]
  },
  {
   "cell_type": "code",
   "execution_count": 101,
   "metadata": {
    "scrolled": true
   },
   "outputs": [],
   "source": [
    "# make predictions for X_test\n",
    "y_pred_dnn_opti = grid_search_dnn.best_estimator_.predict(X_test_gs)"
   ]
  },
  {
   "cell_type": "code",
   "execution_count": 102,
   "metadata": {
    "scrolled": false
   },
   "outputs": [
    {
     "data": {
      "text/html": [
       "<div>\n",
       "<style scoped>\n",
       "    .dataframe tbody tr th:only-of-type {\n",
       "        vertical-align: middle;\n",
       "    }\n",
       "\n",
       "    .dataframe tbody tr th {\n",
       "        vertical-align: top;\n",
       "    }\n",
       "\n",
       "    .dataframe thead th {\n",
       "        text-align: right;\n",
       "    }\n",
       "</style>\n",
       "<table border=\"1\" class=\"dataframe\">\n",
       "  <thead>\n",
       "    <tr style=\"text-align: right;\">\n",
       "      <th></th>\n",
       "      <th>PassengerId</th>\n",
       "      <th>Survived</th>\n",
       "    </tr>\n",
       "  </thead>\n",
       "  <tbody>\n",
       "    <tr>\n",
       "      <th>0</th>\n",
       "      <td>892</td>\n",
       "      <td>0</td>\n",
       "    </tr>\n",
       "    <tr>\n",
       "      <th>1</th>\n",
       "      <td>893</td>\n",
       "      <td>0</td>\n",
       "    </tr>\n",
       "    <tr>\n",
       "      <th>2</th>\n",
       "      <td>894</td>\n",
       "      <td>0</td>\n",
       "    </tr>\n",
       "    <tr>\n",
       "      <th>3</th>\n",
       "      <td>895</td>\n",
       "      <td>0</td>\n",
       "    </tr>\n",
       "    <tr>\n",
       "      <th>4</th>\n",
       "      <td>896</td>\n",
       "      <td>1</td>\n",
       "    </tr>\n",
       "  </tbody>\n",
       "</table>\n",
       "</div>"
      ],
      "text/plain": [
       "   PassengerId  Survived\n",
       "0          892         0\n",
       "1          893         0\n",
       "2          894         0\n",
       "3          895         0\n",
       "4          896         1"
      ]
     },
     "execution_count": 102,
     "metadata": {},
     "output_type": "execute_result"
    }
   ],
   "source": [
    "# convert to DataFrame and check\n",
    "survived_dnn_opti=pred_to_df(y_pred_dnn_opti)\n",
    "survived_dnn_opti.head()"
   ]
  },
  {
   "cell_type": "code",
   "execution_count": 103,
   "metadata": {},
   "outputs": [],
   "source": [
    "# save prediction obtained by GridSearch\n",
    "save_to_csv(survived_dnn_opti,'survived_dnn_opti')"
   ]
  },
  {
   "cell_type": "markdown",
   "metadata": {},
   "source": [
    "[back to Table of Contents](#TOC)\n",
    "## 8. Conclusions <a id=\"Conclusions\"></a>"
   ]
  },
  {
   "cell_type": "markdown",
   "metadata": {},
   "source": [
    "With this ANN classifier you should obtain 83.3% on the test dataset (kaggle). With the current set of features, the ANN classifier performs much better than strong ensemble methods like *Random Forests* and *Gradient Boosting* which only achieved about 80.8% on the test data. An analysis of both classifiers can be found in appedix A and B of this notebook.\n",
    "\n",
    "I experimented with lot of different approaches for feature analysis, feature engineering, data preparation and for the final model (hence, the large number of submissions) and tried to summarized the most important aspects in this notebook.\n",
    "\n",
    "We learned that feature engineering and the implementation of new features based on a carefull analysis of the existing features is indispensable for building a powerfull classifier. Especially since ANNs seem to be quite sensitive for variations in the feature set.\n",
    "\n",
    "Moreover, we saw that GridSearchCV can be very usefull tool to optimize the hyperparameters. It should be noted that for a rather small dataset, as it is the case for the *Titanic Desaster*, it is not advisable to create a separate validation data set from the training data (tried it, model does not generalize well anymore), so using cross-validation is essential.\n",
    "\n",
    "In general, with a good optimization, ANNs seem to perform very well on the titanic datasets. \n",
    "\n",
    "I hope you enjoyed this notebook and, of course, comments and feedback are highly appreciated. <p style=\"color:red\"><b>If you liked this notebook, please leave an upvote!!\n",
    "\n",
    "<br>\n",
    "<br>\n",
    "<br>\n",
    "\n",
    "Here are a few other good reads on basics of ML and ANNs\n",
    "\n",
    "* [Machine Learning Tutorial for Beginners](https://www.kaggle.com/kanncaa1/machine-learning-tutorial-for-beginners) by [kanncaa1](https://www.kaggle.com/kanncaa1)\n",
    "* [Deep Learning Tutorial for Beginners](https://www.kaggle.com/kanncaa1/deep-learning-tutorial-for-beginners) by [kanncaa1](https://www.kaggle.com/kanncaa1)\n",
    "\n",
    "and ANNs applied to the Titanic data set\n",
    "* [Titanic EDA + Model Pipeline + Keras NN](https://www.kaggle.com/kabure/titanic-eda-model-pipeline-keras-nn#6.-Modelling-:-) by [kabure](https://www.kaggle.com/kabure) \n",
    "* [Complete Titanic tutorial with ML, NN & Ensembling](https://www.kaggle.com/nhlr21/complete-titanic-tutorial-with-ml-nn-ensembling) by [nhlr21](https://www.kaggle.com/nhlr21) \n",
    "* [Titanic - Neural Networks (KERAS) - 81.8%](https://www.kaggle.com/vincentlugat/titanic-neural-networks-keras-81-8) by [vincentlugat](https://www.kaggle.com/vincentlugat)\n",
    "\n",
    "<br>\n",
    "<br>\n",
    "<br>"
   ]
  },
  {
   "cell_type": "markdown",
   "metadata": {},
   "source": [
    "# Appendix \n",
    "\n",
    "In order to see how other methods perform on the perpared data set, we introduce two strong ensemble methods, Random Forests and Gradient Boosting. Below you will see that despite a optimization with GridSearchCV, none of the the two methodes achieved higher sores than 80.8% on the test data set. Hence, with 83.3% test score, the rather simple ANN we discussed above performes much better.\n",
    "\n",
    "A carefull analysis would be needed to find out why the ANN scores better on the test data. One reason might be that for the ANN the feature \"Title_Master\" seems to be very important - a feature which is not irrelevant for both, Random Forests and Gradient Boosting."
   ]
  },
  {
   "cell_type": "markdown",
   "metadata": {},
   "source": [
    "## A: Random Forests <a id=\"RF\"></a>"
   ]
  },
  {
   "cell_type": "markdown",
   "metadata": {},
   "source": [
    "### RF: Modelling"
   ]
  },
  {
   "cell_type": "code",
   "execution_count": 104,
   "metadata": {
    "scrolled": false
   },
   "outputs": [
    {
     "data": {
      "text/plain": [
       "RandomizedSearchCV(cv=5, error_score=nan,\n",
       "                   estimator=RandomForestClassifier(bootstrap=True,\n",
       "                                                    ccp_alpha=0.0,\n",
       "                                                    class_weight=None,\n",
       "                                                    criterion='gini',\n",
       "                                                    max_depth=None,\n",
       "                                                    max_features='auto',\n",
       "                                                    max_leaf_nodes=None,\n",
       "                                                    max_samples=None,\n",
       "                                                    min_impurity_decrease=0.0,\n",
       "                                                    min_impurity_split=None,\n",
       "                                                    min_samples_leaf=1,\n",
       "                                                    min_samples_split=2,\n",
       "                                                    min_weight_fraction_leaf=0.0,\n",
       "                                                    n_estimators=100,\n",
       "                                                    n_jobs...\n",
       "                   param_distributions={'max_features': <scipy.stats._distn_infrastructure.rv_frozen object at 0x7f05ac203198>,\n",
       "                                        'min_samples_split': <scipy.stats._distn_infrastructure.rv_frozen object at 0x7f05ac2032b0>,\n",
       "                                        'n_estimators': <scipy.stats._distn_infrastructure.rv_frozen object at 0x7f05ac203048>},\n",
       "                   pre_dispatch='2*n_jobs', random_state=42, refit=True,\n",
       "                   return_train_score=True, scoring='accuracy', verbose=0)"
      ]
     },
     "execution_count": 104,
     "metadata": {},
     "output_type": "execute_result"
    }
   ],
   "source": [
    "# Find optimum hyperparameters with RandomSearch\n",
    "\n",
    "param_distribs = {\n",
    "        'n_estimators': randint(low=50, high=150),\n",
    "        'max_features': randint(low=5, high=15),\n",
    "        'min_samples_split': randint(low=10, high=30),\n",
    "    }\n",
    "\n",
    "forest_clf = RandomForestClassifier(random_state=42)\n",
    "rnd_search_rf = RandomizedSearchCV(forest_clf, param_distributions=param_distribs, n_jobs=-1,\n",
    "                                n_iter=50, cv=5, scoring=\"accuracy\", random_state=42, return_train_score=True)\n",
    "rnd_search_rf.fit(X_train, y_train)"
   ]
  },
  {
   "cell_type": "code",
   "execution_count": 105,
   "metadata": {},
   "outputs": [
    {
     "name": "stdout",
     "output_type": "stream",
     "text": [
      "Best score: 84.85%\n"
     ]
    }
   ],
   "source": [
    "# score of best model after cross-validation\n",
    "print('Best score: ' + str((rnd_search_rf.best_score_*100).round(2)) + '%')"
   ]
  },
  {
   "cell_type": "code",
   "execution_count": 106,
   "metadata": {},
   "outputs": [
    {
     "name": "stdout",
     "output_type": "stream",
     "text": [
      "Mean training score:   87.4% (0.49%)\n",
      "Mean validation score: 84.85% (2.09%)\n"
     ]
    }
   ],
   "source": [
    "# mean scores for training and validation model after cross-validation\n",
    "print('Mean training score:   ' + str((rnd_search_rf.cv_results_['mean_train_score'][rnd_search_rf.best_index_]*100).round(2)) +'% (' + str((rnd_search_rf.cv_results_['std_train_score'][0]*100).round(2)) + '%)')\n",
    "print('Mean validation score: ' + str((rnd_search_rf.cv_results_['mean_test_score'][rnd_search_rf.best_index_]*100).round(2)) +'% (' + str((rnd_search_rf.cv_results_['std_test_score'][0]*100).round(2)) + '%)')"
   ]
  },
  {
   "cell_type": "code",
   "execution_count": 107,
   "metadata": {},
   "outputs": [
    {
     "data": {
      "text/html": [
       "<div>\n",
       "<style scoped>\n",
       "    .dataframe tbody tr th:only-of-type {\n",
       "        vertical-align: middle;\n",
       "    }\n",
       "\n",
       "    .dataframe tbody tr th {\n",
       "        vertical-align: top;\n",
       "    }\n",
       "\n",
       "    .dataframe thead th {\n",
       "        text-align: right;\n",
       "    }\n",
       "</style>\n",
       "<table border=\"1\" class=\"dataframe\">\n",
       "  <thead>\n",
       "    <tr style=\"text-align: right;\">\n",
       "      <th></th>\n",
       "      <th>hyperparameter</th>\n",
       "      <th>value</th>\n",
       "    </tr>\n",
       "  </thead>\n",
       "  <tbody>\n",
       "    <tr>\n",
       "      <th>0</th>\n",
       "      <td>max_features</td>\n",
       "      <td>5</td>\n",
       "    </tr>\n",
       "    <tr>\n",
       "      <th>1</th>\n",
       "      <td>min_samples_split</td>\n",
       "      <td>14</td>\n",
       "    </tr>\n",
       "    <tr>\n",
       "      <th>2</th>\n",
       "      <td>n_estimators</td>\n",
       "      <td>90</td>\n",
       "    </tr>\n",
       "  </tbody>\n",
       "</table>\n",
       "</div>"
      ],
      "text/plain": [
       "      hyperparameter  value\n",
       "0       max_features      5\n",
       "1  min_samples_split     14\n",
       "2       n_estimators     90"
      ]
     },
     "execution_count": 107,
     "metadata": {},
     "output_type": "execute_result"
    }
   ],
   "source": [
    "# set of optimized hyperparameters -> best model\n",
    "pd.DataFrame(rnd_search_rf.best_params_.items(), columns=['hyperparameter','value'])"
   ]
  },
  {
   "cell_type": "code",
   "execution_count": 108,
   "metadata": {
    "scrolled": true
   },
   "outputs": [
    {
     "data": {
      "text/html": [
       "<div>\n",
       "<style scoped>\n",
       "    .dataframe tbody tr th:only-of-type {\n",
       "        vertical-align: middle;\n",
       "    }\n",
       "\n",
       "    .dataframe tbody tr th {\n",
       "        vertical-align: top;\n",
       "    }\n",
       "\n",
       "    .dataframe thead th {\n",
       "        text-align: right;\n",
       "    }\n",
       "</style>\n",
       "<table border=\"1\" class=\"dataframe\">\n",
       "  <thead>\n",
       "    <tr style=\"text-align: right;\">\n",
       "      <th></th>\n",
       "      <th>max_features</th>\n",
       "      <th>min_samples_split</th>\n",
       "      <th>n_estimators</th>\n",
       "      <th>train score in %</th>\n",
       "      <th>test score in %</th>\n",
       "      <th>test std in %</th>\n",
       "    </tr>\n",
       "  </thead>\n",
       "  <tbody>\n",
       "    <tr>\n",
       "      <th>1</th>\n",
       "      <td>5.0</td>\n",
       "      <td>14.0</td>\n",
       "      <td>90.0</td>\n",
       "      <td>87.402</td>\n",
       "      <td>84.848</td>\n",
       "      <td>1.979</td>\n",
       "    </tr>\n",
       "    <tr>\n",
       "      <th>2</th>\n",
       "      <td>5.0</td>\n",
       "      <td>19.0</td>\n",
       "      <td>141.0</td>\n",
       "      <td>86.588</td>\n",
       "      <td>84.622</td>\n",
       "      <td>2.585</td>\n",
       "    </tr>\n",
       "    <tr>\n",
       "      <th>3</th>\n",
       "      <td>8.0</td>\n",
       "      <td>12.0</td>\n",
       "      <td>100.0</td>\n",
       "      <td>87.739</td>\n",
       "      <td>84.512</td>\n",
       "      <td>1.931</td>\n",
       "    </tr>\n",
       "    <tr>\n",
       "      <th>4</th>\n",
       "      <td>6.0</td>\n",
       "      <td>13.0</td>\n",
       "      <td>138.0</td>\n",
       "      <td>87.598</td>\n",
       "      <td>84.511</td>\n",
       "      <td>1.766</td>\n",
       "    </tr>\n",
       "    <tr>\n",
       "      <th>5</th>\n",
       "      <td>8.0</td>\n",
       "      <td>14.0</td>\n",
       "      <td>72.0</td>\n",
       "      <td>87.710</td>\n",
       "      <td>84.287</td>\n",
       "      <td>1.847</td>\n",
       "    </tr>\n",
       "  </tbody>\n",
       "</table>\n",
       "</div>"
      ],
      "text/plain": [
       "   max_features  min_samples_split  n_estimators  train score in %  \\\n",
       "1           5.0               14.0          90.0            87.402   \n",
       "2           5.0               19.0         141.0            86.588   \n",
       "3           8.0               12.0         100.0            87.739   \n",
       "4           6.0               13.0         138.0            87.598   \n",
       "5           8.0               14.0          72.0            87.710   \n",
       "\n",
       "   test score in %  test std in %  \n",
       "1           84.848          1.979  \n",
       "2           84.622          2.585  \n",
       "3           84.512          1.931  \n",
       "4           84.511          1.766  \n",
       "5           84.287          1.847  "
      ]
     },
     "execution_count": 108,
     "metadata": {},
     "output_type": "execute_result"
    }
   ],
   "source": [
    "# top 5 hyperparameter sets\n",
    "hyperparameter_analysis(rnd_search_rf)"
   ]
  },
  {
   "cell_type": "code",
   "execution_count": 109,
   "metadata": {
    "scrolled": true
   },
   "outputs": [
    {
     "data": {
      "text/html": [
       "<div>\n",
       "<style scoped>\n",
       "    .dataframe tbody tr th:only-of-type {\n",
       "        vertical-align: middle;\n",
       "    }\n",
       "\n",
       "    .dataframe tbody tr th {\n",
       "        vertical-align: top;\n",
       "    }\n",
       "\n",
       "    .dataframe thead th {\n",
       "        text-align: right;\n",
       "    }\n",
       "</style>\n",
       "<table border=\"1\" class=\"dataframe\">\n",
       "  <thead>\n",
       "    <tr style=\"text-align: right;\">\n",
       "      <th></th>\n",
       "      <th>feature importance in %</th>\n",
       "    </tr>\n",
       "  </thead>\n",
       "  <tbody>\n",
       "    <tr>\n",
       "      <th>Title_Mr</th>\n",
       "      <td>16.07</td>\n",
       "    </tr>\n",
       "    <tr>\n",
       "      <th>Sex_female</th>\n",
       "      <td>12.93</td>\n",
       "    </tr>\n",
       "    <tr>\n",
       "      <th>Sex_male</th>\n",
       "      <td>12.13</td>\n",
       "    </tr>\n",
       "    <tr>\n",
       "      <th>Pclass_3</th>\n",
       "      <td>5.50</td>\n",
       "    </tr>\n",
       "    <tr>\n",
       "      <th>FamilySurvival_0.0</th>\n",
       "      <td>5.04</td>\n",
       "    </tr>\n",
       "    <tr>\n",
       "      <th>Title_Miss</th>\n",
       "      <td>4.85</td>\n",
       "    </tr>\n",
       "    <tr>\n",
       "      <th>Title_Mrs</th>\n",
       "      <td>4.48</td>\n",
       "    </tr>\n",
       "    <tr>\n",
       "      <th>FamilySurvival_1.0</th>\n",
       "      <td>4.41</td>\n",
       "    </tr>\n",
       "    <tr>\n",
       "      <th>FamilySize_Small</th>\n",
       "      <td>3.58</td>\n",
       "    </tr>\n",
       "    <tr>\n",
       "      <th>FamilySize_Big</th>\n",
       "      <td>3.15</td>\n",
       "    </tr>\n",
       "  </tbody>\n",
       "</table>\n",
       "</div>"
      ],
      "text/plain": [
       "                    feature importance in %\n",
       "Title_Mr                              16.07\n",
       "Sex_female                            12.93\n",
       "Sex_male                              12.13\n",
       "Pclass_3                               5.50\n",
       "FamilySurvival_0.0                     5.04\n",
       "Title_Miss                             4.85\n",
       "Title_Mrs                              4.48\n",
       "FamilySurvival_1.0                     4.41\n",
       "FamilySize_Small                       3.58\n",
       "FamilySize_Big                         3.15"
      ]
     },
     "execution_count": 109,
     "metadata": {},
     "output_type": "execute_result"
    }
   ],
   "source": [
    "feature_importance(rnd_search_rf.best_estimator_, feature_names, 10)"
   ]
  },
  {
   "cell_type": "code",
   "execution_count": 110,
   "metadata": {
    "scrolled": true
   },
   "outputs": [
    {
     "data": {
      "text/plain": [
       "RandomForestClassifier(bootstrap=True, ccp_alpha=0.0, class_weight=None,\n",
       "                       criterion='gini', max_depth=None, max_features=5,\n",
       "                       max_leaf_nodes=None, max_samples=None,\n",
       "                       min_impurity_decrease=0.0, min_impurity_split=None,\n",
       "                       min_samples_leaf=1, min_samples_split=14,\n",
       "                       min_weight_fraction_leaf=0.0, n_estimators=90,\n",
       "                       n_jobs=None, oob_score=False, random_state=42, verbose=0,\n",
       "                       warm_start=False)"
      ]
     },
     "execution_count": 110,
     "metadata": {},
     "output_type": "execute_result"
    }
   ],
   "source": [
    "# set best estimator as final model\n",
    "final_rf_clf = rnd_search_rf.best_estimator_\n",
    "final_rf_clf"
   ]
  },
  {
   "cell_type": "markdown",
   "metadata": {},
   "source": [
    "### RF: Predict training data for further evaluation"
   ]
  },
  {
   "cell_type": "code",
   "execution_count": 111,
   "metadata": {},
   "outputs": [],
   "source": [
    "y_train_pred_rf = final_rf_clf.predict(X_train)"
   ]
  },
  {
   "cell_type": "code",
   "execution_count": 112,
   "metadata": {
    "scrolled": true
   },
   "outputs": [
    {
     "data": {
      "image/png": "[encoded data removed]",
      "text/plain": [
       "<Figure size 432x288 with 1 Axes>"
      ]
     },
     "metadata": {
      "needs_background": "light"
     },
     "output_type": "display_data"
    }
   ],
   "source": [
    "# Compute confusion matrix\n",
    "cnf_matrix = confusion_matrix(y_train, y_train_pred_rf)\n",
    "\n",
    "#plot confusion matrix\n",
    "cf=plot_confusion_matrix(cnf_matrix, ['died','survived'])"
   ]
  },
  {
   "cell_type": "code",
   "execution_count": 113,
   "metadata": {
    "scrolled": false
   },
   "outputs": [
    {
     "name": "stdout",
     "output_type": "stream",
     "text": [
      "precision: 0.904\n",
      "recall: 0.74\n",
      "F1_score: 0.814\n"
     ]
    },
    {
     "data": {
      "text/plain": [
       "(0.9035714285714286, 0.7397660818713451, 0.8135048231511254)"
      ]
     },
     "execution_count": 113,
     "metadata": {},
     "output_type": "execute_result"
    }
   ],
   "source": [
    "# show metrics\n",
    "metric_scores(y_train, y_train_pred_rf)"
   ]
  },
  {
   "cell_type": "markdown",
   "metadata": {},
   "source": [
    "### RF: Prediction for test dataset\n"
   ]
  },
  {
   "cell_type": "code",
   "execution_count": 114,
   "metadata": {
    "scrolled": false
   },
   "outputs": [],
   "source": [
    "y_pred_rf = final_rf_clf.predict(X_test)"
   ]
  },
  {
   "cell_type": "code",
   "execution_count": 115,
   "metadata": {
    "scrolled": false
   },
   "outputs": [
    {
     "data": {
      "text/html": [
       "<div>\n",
       "<style scoped>\n",
       "    .dataframe tbody tr th:only-of-type {\n",
       "        vertical-align: middle;\n",
       "    }\n",
       "\n",
       "    .dataframe tbody tr th {\n",
       "        vertical-align: top;\n",
       "    }\n",
       "\n",
       "    .dataframe thead th {\n",
       "        text-align: right;\n",
       "    }\n",
       "</style>\n",
       "<table border=\"1\" class=\"dataframe\">\n",
       "  <thead>\n",
       "    <tr style=\"text-align: right;\">\n",
       "      <th></th>\n",
       "      <th>PassengerId</th>\n",
       "      <th>Survived</th>\n",
       "    </tr>\n",
       "  </thead>\n",
       "  <tbody>\n",
       "    <tr>\n",
       "      <th>0</th>\n",
       "      <td>892</td>\n",
       "      <td>0</td>\n",
       "    </tr>\n",
       "    <tr>\n",
       "      <th>1</th>\n",
       "      <td>893</td>\n",
       "      <td>1</td>\n",
       "    </tr>\n",
       "    <tr>\n",
       "      <th>2</th>\n",
       "      <td>894</td>\n",
       "      <td>0</td>\n",
       "    </tr>\n",
       "    <tr>\n",
       "      <th>3</th>\n",
       "      <td>895</td>\n",
       "      <td>0</td>\n",
       "    </tr>\n",
       "    <tr>\n",
       "      <th>4</th>\n",
       "      <td>896</td>\n",
       "      <td>1</td>\n",
       "    </tr>\n",
       "  </tbody>\n",
       "</table>\n",
       "</div>"
      ],
      "text/plain": [
       "   PassengerId  Survived\n",
       "0          892         0\n",
       "1          893         1\n",
       "2          894         0\n",
       "3          895         0\n",
       "4          896         1"
      ]
     },
     "execution_count": 115,
     "metadata": {},
     "output_type": "execute_result"
    }
   ],
   "source": [
    "survived_rf=pred_to_df(y_pred_rf)\n",
    "survived_rf.head()"
   ]
  },
  {
   "cell_type": "code",
   "execution_count": 116,
   "metadata": {},
   "outputs": [],
   "source": [
    "save_to_csv(survived_rf,'survived_rf')"
   ]
  },
  {
   "cell_type": "markdown",
   "metadata": {},
   "source": [
    "## B: Gradient Boosting Classifier <a id=\"GB\"></a>"
   ]
  },
  {
   "cell_type": "markdown",
   "metadata": {},
   "source": [
    "### GB: Modelling"
   ]
  },
  {
   "cell_type": "code",
   "execution_count": 117,
   "metadata": {
    "scrolled": false
   },
   "outputs": [
    {
     "data": {
      "text/plain": [
       "RandomizedSearchCV(cv=5, error_score=nan,\n",
       "                   estimator=GradientBoostingClassifier(ccp_alpha=0.0,\n",
       "                                                        criterion='friedman_mse',\n",
       "                                                        init=None,\n",
       "                                                        learning_rate=0.1,\n",
       "                                                        loss='deviance',\n",
       "                                                        max_depth=3,\n",
       "                                                        max_features=None,\n",
       "                                                        max_leaf_nodes=None,\n",
       "                                                        min_impurity_decrease=0.0,\n",
       "                                                        min_impurity_split=None,\n",
       "                                                        min_samples_leaf=1,\n",
       "                                                        min_samples_split=2,\n",
       "                                                        min_weight_fraction_leaf=0.0,\n",
       "                                                        n_estimators=100,\n",
       "                                                        n_ite...\n",
       "                   param_distributions={'max_depth': <scipy.stats._distn_infrastructure.rv_frozen object at 0x7f05ac14beb8>,\n",
       "                                        'max_features': <scipy.stats._distn_infrastructure.rv_frozen object at 0x7f05ac1bd160>,\n",
       "                                        'n_estimators': <scipy.stats._distn_infrastructure.rv_frozen object at 0x7f05ac14bba8>},\n",
       "                   pre_dispatch='2*n_jobs', random_state=42, refit=True,\n",
       "                   return_train_score=True, scoring='accuracy', verbose=0)"
      ]
     },
     "execution_count": 117,
     "metadata": {},
     "output_type": "execute_result"
    }
   ],
   "source": [
    "param_distribs = {\n",
    "        #'learning_rate': randint(low=0.1, high=0.1),\n",
    "        'max_depth': randint(low=1, high=5),\n",
    "        'n_estimators': randint(low=5, high=120),\n",
    "        'max_features': randint(low=5, high=15),\n",
    "    }\n",
    "\n",
    "gb_clf = GradientBoostingClassifier()\n",
    "rnd_search_gb = RandomizedSearchCV(gb_clf, param_distributions=param_distribs,\n",
    "                                n_iter=40, cv=5, scoring=\"accuracy\", random_state=42, return_train_score=True)\n",
    "rnd_search_gb.fit(X_train, y_train)"
   ]
  },
  {
   "cell_type": "code",
   "execution_count": 118,
   "metadata": {
    "scrolled": false
   },
   "outputs": [
    {
     "name": "stdout",
     "output_type": "stream",
     "text": [
      "Mean training score:   87.51% (0.76%)\n",
      "Mean validation score: 84.62% (1.76%)\n"
     ]
    }
   ],
   "source": [
    "# mean scores for training and validation model after cross-validation\n",
    "print('Mean training score:   ' + str((rnd_search_gb.cv_results_['mean_train_score'][rnd_search_gb.best_index_]*100).round(2)) +'% (' + str((rnd_search_gb.cv_results_['std_train_score'][0]*100).round(2)) + '%)')\n",
    "print('Mean validation score: ' + str((rnd_search_gb.cv_results_['mean_test_score'][rnd_search_gb.best_index_]*100).round(2)) +'% (' + str((rnd_search_gb.cv_results_['std_test_score'][0]*100).round(2)) + '%)')"
   ]
  },
  {
   "cell_type": "code",
   "execution_count": 119,
   "metadata": {},
   "outputs": [
    {
     "data": {
      "text/plain": [
       "array([0.87514183, 0.86812487, 0.84259144, 0.87654435, 0.85465827,\n",
       "       0.80807909, 0.85100777, 0.87121279, 0.86952976, 0.82743827,\n",
       "       0.8785071 , 0.89113337, 0.86672274, 0.84343217, 0.85381439,\n",
       "       0.80667854, 0.88496108, 0.82547394, 0.81537222, 0.87738705,\n",
       "       0.82771877, 0.85605922, 0.82463597, 0.85100856, 0.85269237,\n",
       "       0.84090723, 0.88327686, 0.84286958, 0.87261571, 0.86868628,\n",
       "       0.89057157, 0.84483627, 0.81902075, 0.81397167, 0.8723352 ,\n",
       "       0.87682486, 0.84231093, 0.87121397, 0.87065257, 0.84315245])"
      ]
     },
     "execution_count": 119,
     "metadata": {},
     "output_type": "execute_result"
    }
   ],
   "source": [
    "rnd_search_gb.cv_results_['mean_train_score']"
   ]
  },
  {
   "cell_type": "code",
   "execution_count": 120,
   "metadata": {
    "scrolled": true
   },
   "outputs": [
    {
     "data": {
      "text/html": [
       "<div>\n",
       "<style scoped>\n",
       "    .dataframe tbody tr th:only-of-type {\n",
       "        vertical-align: middle;\n",
       "    }\n",
       "\n",
       "    .dataframe tbody tr th {\n",
       "        vertical-align: top;\n",
       "    }\n",
       "\n",
       "    .dataframe thead th {\n",
       "        text-align: right;\n",
       "    }\n",
       "</style>\n",
       "<table border=\"1\" class=\"dataframe\">\n",
       "  <thead>\n",
       "    <tr style=\"text-align: right;\">\n",
       "      <th></th>\n",
       "      <th>hyperparameter</th>\n",
       "      <th>value</th>\n",
       "    </tr>\n",
       "  </thead>\n",
       "  <tbody>\n",
       "    <tr>\n",
       "      <th>0</th>\n",
       "      <td>max_depth</td>\n",
       "      <td>3</td>\n",
       "    </tr>\n",
       "    <tr>\n",
       "      <th>1</th>\n",
       "      <td>max_features</td>\n",
       "      <td>8</td>\n",
       "    </tr>\n",
       "    <tr>\n",
       "      <th>2</th>\n",
       "      <td>n_estimators</td>\n",
       "      <td>97</td>\n",
       "    </tr>\n",
       "  </tbody>\n",
       "</table>\n",
       "</div>"
      ],
      "text/plain": [
       "  hyperparameter  value\n",
       "0      max_depth      3\n",
       "1   max_features      8\n",
       "2   n_estimators     97"
      ]
     },
     "execution_count": 120,
     "metadata": {},
     "output_type": "execute_result"
    }
   ],
   "source": [
    "# set of optimized hyperparameters -> best model\n",
    "pd.DataFrame(rnd_search_gb.best_params_.items(), columns=['hyperparameter','value'])"
   ]
  },
  {
   "cell_type": "code",
   "execution_count": 121,
   "metadata": {
    "scrolled": true
   },
   "outputs": [
    {
     "data": {
      "text/html": [
       "<div>\n",
       "<style scoped>\n",
       "    .dataframe tbody tr th:only-of-type {\n",
       "        vertical-align: middle;\n",
       "    }\n",
       "\n",
       "    .dataframe tbody tr th {\n",
       "        vertical-align: top;\n",
       "    }\n",
       "\n",
       "    .dataframe thead th {\n",
       "        text-align: right;\n",
       "    }\n",
       "</style>\n",
       "<table border=\"1\" class=\"dataframe\">\n",
       "  <thead>\n",
       "    <tr style=\"text-align: right;\">\n",
       "      <th></th>\n",
       "      <th>max_depth</th>\n",
       "      <th>max_features</th>\n",
       "      <th>n_estimators</th>\n",
       "      <th>train score in %</th>\n",
       "      <th>test score in %</th>\n",
       "      <th>test std in %</th>\n",
       "    </tr>\n",
       "  </thead>\n",
       "  <tbody>\n",
       "    <tr>\n",
       "      <th>1</th>\n",
       "      <td>3.0</td>\n",
       "      <td>8.0</td>\n",
       "      <td>97.0</td>\n",
       "      <td>87.514</td>\n",
       "      <td>84.624</td>\n",
       "      <td>1.759</td>\n",
       "    </tr>\n",
       "    <tr>\n",
       "      <th>2</th>\n",
       "      <td>4.0</td>\n",
       "      <td>6.0</td>\n",
       "      <td>78.0</td>\n",
       "      <td>88.328</td>\n",
       "      <td>84.399</td>\n",
       "      <td>1.864</td>\n",
       "    </tr>\n",
       "    <tr>\n",
       "      <th>3</th>\n",
       "      <td>3.0</td>\n",
       "      <td>12.0</td>\n",
       "      <td>104.0</td>\n",
       "      <td>87.654</td>\n",
       "      <td>84.287</td>\n",
       "      <td>1.847</td>\n",
       "    </tr>\n",
       "    <tr>\n",
       "      <th>4</th>\n",
       "      <td>4.0</td>\n",
       "      <td>11.0</td>\n",
       "      <td>48.0</td>\n",
       "      <td>87.739</td>\n",
       "      <td>84.286</td>\n",
       "      <td>2.111</td>\n",
       "    </tr>\n",
       "    <tr>\n",
       "      <th>5</th>\n",
       "      <td>3.0</td>\n",
       "      <td>5.0</td>\n",
       "      <td>93.0</td>\n",
       "      <td>87.234</td>\n",
       "      <td>84.174</td>\n",
       "      <td>2.120</td>\n",
       "    </tr>\n",
       "  </tbody>\n",
       "</table>\n",
       "</div>"
      ],
      "text/plain": [
       "   max_depth  max_features  n_estimators  train score in %  test score in %  \\\n",
       "1        3.0           8.0          97.0            87.514           84.624   \n",
       "2        4.0           6.0          78.0            88.328           84.399   \n",
       "3        3.0          12.0         104.0            87.654           84.287   \n",
       "4        4.0          11.0          48.0            87.739           84.286   \n",
       "5        3.0           5.0          93.0            87.234           84.174   \n",
       "\n",
       "   test std in %  \n",
       "1          1.759  \n",
       "2          1.864  \n",
       "3          1.847  \n",
       "4          2.111  \n",
       "5          2.120  "
      ]
     },
     "execution_count": 121,
     "metadata": {},
     "output_type": "execute_result"
    }
   ],
   "source": [
    "# top 5 hyperparameter sets\n",
    "hyperparameter_analysis(rnd_search_gb, 5)"
   ]
  },
  {
   "cell_type": "code",
   "execution_count": 122,
   "metadata": {
    "scrolled": false
   },
   "outputs": [
    {
     "data": {
      "text/html": [
       "<div>\n",
       "<style scoped>\n",
       "    .dataframe tbody tr th:only-of-type {\n",
       "        vertical-align: middle;\n",
       "    }\n",
       "\n",
       "    .dataframe tbody tr th {\n",
       "        vertical-align: top;\n",
       "    }\n",
       "\n",
       "    .dataframe thead th {\n",
       "        text-align: right;\n",
       "    }\n",
       "</style>\n",
       "<table border=\"1\" class=\"dataframe\">\n",
       "  <thead>\n",
       "    <tr style=\"text-align: right;\">\n",
       "      <th></th>\n",
       "      <th>feature importance in %</th>\n",
       "    </tr>\n",
       "  </thead>\n",
       "  <tbody>\n",
       "    <tr>\n",
       "      <th>Title_Mr</th>\n",
       "      <td>20.29</td>\n",
       "    </tr>\n",
       "    <tr>\n",
       "      <th>Sex_male</th>\n",
       "      <td>20.21</td>\n",
       "    </tr>\n",
       "    <tr>\n",
       "      <th>Pclass_3</th>\n",
       "      <td>8.06</td>\n",
       "    </tr>\n",
       "    <tr>\n",
       "      <th>Title_Miss</th>\n",
       "      <td>7.05</td>\n",
       "    </tr>\n",
       "    <tr>\n",
       "      <th>FamilySurvival_1.0</th>\n",
       "      <td>5.45</td>\n",
       "    </tr>\n",
       "    <tr>\n",
       "      <th>FamilySize_Big</th>\n",
       "      <td>5.22</td>\n",
       "    </tr>\n",
       "    <tr>\n",
       "      <th>Pclass_1</th>\n",
       "      <td>4.99</td>\n",
       "    </tr>\n",
       "    <tr>\n",
       "      <th>FamilySize_Small</th>\n",
       "      <td>4.68</td>\n",
       "    </tr>\n",
       "    <tr>\n",
       "      <th>FamilySurvival_0.0</th>\n",
       "      <td>4.17</td>\n",
       "    </tr>\n",
       "    <tr>\n",
       "      <th>Sex_female</th>\n",
       "      <td>3.21</td>\n",
       "    </tr>\n",
       "  </tbody>\n",
       "</table>\n",
       "</div>"
      ],
      "text/plain": [
       "                    feature importance in %\n",
       "Title_Mr                              20.29\n",
       "Sex_male                              20.21\n",
       "Pclass_3                               8.06\n",
       "Title_Miss                             7.05\n",
       "FamilySurvival_1.0                     5.45\n",
       "FamilySize_Big                         5.22\n",
       "Pclass_1                               4.99\n",
       "FamilySize_Small                       4.68\n",
       "FamilySurvival_0.0                     4.17\n",
       "Sex_female                             3.21"
      ]
     },
     "execution_count": 122,
     "metadata": {},
     "output_type": "execute_result"
    }
   ],
   "source": [
    "# top 10 important features\n",
    "feature_importance(rnd_search_gb.best_estimator_, feature_names, 10)"
   ]
  },
  {
   "cell_type": "code",
   "execution_count": 123,
   "metadata": {},
   "outputs": [
    {
     "data": {
      "text/plain": [
       "GradientBoostingClassifier(ccp_alpha=0.0, criterion='friedman_mse', init=None,\n",
       "                           learning_rate=0.1, loss='deviance', max_depth=3,\n",
       "                           max_features=8, max_leaf_nodes=None,\n",
       "                           min_impurity_decrease=0.0, min_impurity_split=None,\n",
       "                           min_samples_leaf=1, min_samples_split=2,\n",
       "                           min_weight_fraction_leaf=0.0, n_estimators=97,\n",
       "                           n_iter_no_change=None, presort='deprecated',\n",
       "                           random_state=None, subsample=1.0, tol=0.0001,\n",
       "                           validation_fraction=0.1, verbose=0,\n",
       "                           warm_start=False)"
      ]
     },
     "execution_count": 123,
     "metadata": {},
     "output_type": "execute_result"
    }
   ],
   "source": [
    "# set best estimator as final model\n",
    "final_gb_clf = rnd_search_gb.best_estimator_\n",
    "final_gb_clf"
   ]
  },
  {
   "cell_type": "markdown",
   "metadata": {},
   "source": [
    "### GB: Predict training data for further evaluation"
   ]
  },
  {
   "cell_type": "code",
   "execution_count": 124,
   "metadata": {},
   "outputs": [],
   "source": [
    "y_train_pred_gb = final_gb_clf.predict(X_train)"
   ]
  },
  {
   "cell_type": "code",
   "execution_count": 125,
   "metadata": {},
   "outputs": [
    {
     "data": {
      "image/png": "[encoded data removed]",
      "text/plain": [
       "<Figure size 432x288 with 1 Axes>"
      ]
     },
     "metadata": {
      "needs_background": "light"
     },
     "output_type": "display_data"
    }
   ],
   "source": [
    "# Compute confusion matrix\n",
    "cnf_matrix = confusion_matrix(y_train, y_train_pred_gb)\n",
    "\n",
    "#plot confusion matrix\n",
    "plot_confusion_matrix(cnf_matrix, ['died','survived'])"
   ]
  },
  {
   "cell_type": "code",
   "execution_count": 126,
   "metadata": {
    "scrolled": true
   },
   "outputs": [
    {
     "name": "stdout",
     "output_type": "stream",
     "text": [
      "precision: 0.89\n",
      "recall: 0.757\n",
      "F1_score: 0.818\n"
     ]
    },
    {
     "data": {
      "text/plain": [
       "(0.8900343642611683, 0.7573099415204678, 0.8183254344391786)"
      ]
     },
     "execution_count": 126,
     "metadata": {},
     "output_type": "execute_result"
    }
   ],
   "source": [
    "# show metrics\n",
    "metric_scores(y_train, y_train_pred_gb)"
   ]
  },
  {
   "cell_type": "markdown",
   "metadata": {},
   "source": [
    "### GB: Prediction for test dataset\n"
   ]
  },
  {
   "cell_type": "code",
   "execution_count": 127,
   "metadata": {
    "scrolled": false
   },
   "outputs": [],
   "source": [
    "y_pred_gb = final_gb_clf.predict(X_test)"
   ]
  },
  {
   "cell_type": "code",
   "execution_count": 128,
   "metadata": {
    "scrolled": false
   },
   "outputs": [
    {
     "data": {
      "text/html": [
       "<div>\n",
       "<style scoped>\n",
       "    .dataframe tbody tr th:only-of-type {\n",
       "        vertical-align: middle;\n",
       "    }\n",
       "\n",
       "    .dataframe tbody tr th {\n",
       "        vertical-align: top;\n",
       "    }\n",
       "\n",
       "    .dataframe thead th {\n",
       "        text-align: right;\n",
       "    }\n",
       "</style>\n",
       "<table border=\"1\" class=\"dataframe\">\n",
       "  <thead>\n",
       "    <tr style=\"text-align: right;\">\n",
       "      <th></th>\n",
       "      <th>PassengerId</th>\n",
       "      <th>Survived</th>\n",
       "    </tr>\n",
       "  </thead>\n",
       "  <tbody>\n",
       "    <tr>\n",
       "      <th>0</th>\n",
       "      <td>892</td>\n",
       "      <td>0</td>\n",
       "    </tr>\n",
       "    <tr>\n",
       "      <th>1</th>\n",
       "      <td>893</td>\n",
       "      <td>1</td>\n",
       "    </tr>\n",
       "    <tr>\n",
       "      <th>2</th>\n",
       "      <td>894</td>\n",
       "      <td>0</td>\n",
       "    </tr>\n",
       "    <tr>\n",
       "      <th>3</th>\n",
       "      <td>895</td>\n",
       "      <td>0</td>\n",
       "    </tr>\n",
       "    <tr>\n",
       "      <th>4</th>\n",
       "      <td>896</td>\n",
       "      <td>1</td>\n",
       "    </tr>\n",
       "  </tbody>\n",
       "</table>\n",
       "</div>"
      ],
      "text/plain": [
       "   PassengerId  Survived\n",
       "0          892         0\n",
       "1          893         1\n",
       "2          894         0\n",
       "3          895         0\n",
       "4          896         1"
      ]
     },
     "execution_count": 128,
     "metadata": {},
     "output_type": "execute_result"
    }
   ],
   "source": [
    "survived_gb=pred_to_df(y_pred_gb)\n",
    "survived_gb.head()"
   ]
  },
  {
   "cell_type": "code",
   "execution_count": 129,
   "metadata": {},
   "outputs": [],
   "source": [
    "save_to_csv(survived_gb,'survived_gb')"
   ]
  },
  {
   "cell_type": "markdown",
   "metadata": {},
   "source": [
    "## End of Appendix"
   ]
  }
 ],
 "metadata": {
  "kernelspec": {
   "display_name": "Python 3",
   "language": "python",
   "name": "python3"
  },
  "language_info": {
   "codemirror_mode": {
    "name": "ipython",
    "version": 3
   },
   "file_extension": ".py",
   "mimetype": "text/x-python",
   "name": "python",
   "nbconvert_exporter": "python",
   "pygments_lexer": "ipython3",
   "version": "3.7.6"
  }
 },
 "nbformat": 4,
 "nbformat_minor": 4
}
